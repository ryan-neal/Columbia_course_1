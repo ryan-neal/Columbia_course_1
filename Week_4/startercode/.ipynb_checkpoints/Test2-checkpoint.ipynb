{
 "cells": [
  {
   "cell_type": "code",
   "execution_count": 111,
   "metadata": {
    "collapsed": true
   },
   "outputs": [],
   "source": [
    "from bs4 import BeautifulSoup\n",
    "import json"
   ]
  },
  {
   "cell_type": "code",
   "execution_count": 112,
   "metadata": {
    "collapsed": true
   },
   "outputs": [],
   "source": [
    "file = open(\"energy.htm\", \"r\").read()\n",
    "\n",
    "soup = BeautifulSoup(file, \"lxml\")\n",
    "\n",
    "empty_list = []\n",
    "for tr in soup.find_all(\"table\", class_=\"topmovers\"):\n",
    "    for row in tr.find_all(\"tr\"):\n",
    "        for item in row.find_all(\"td\"):\n",
    "            empty_list.append(item.get_text())"
   ]
  },
  {
   "cell_type": "code",
   "execution_count": 146,
   "metadata": {
    "collapsed": true
   },
   "outputs": [],
   "source": [
    "def get_biggest_movers(filename):\n",
    "    from bs4 import BeautifulSoup\n",
    "    file = open(filename, \"r\").read()\n",
    "    soup = BeautifulSoup(file, \"lxml\")\n",
    "    empty_list = []\n",
    "    for tr in soup.find_all(\"table\", class_=\"topmovers\"):\n",
    "        for row in tr.find_all(\"tr\"):\n",
    "            for item in row.find_all(\"td\"):\n",
    "                empty_list.append(item.get_text())\n",
    "    print(empty_list[4])\n",
    "    stock, increase = \" \".join(empty_list[4].split()), empty_list[7].split()\n",
    "    clean_increase = increase[1].strip(\"(%)\")\n",
    "    return (stock, float(clean_increase))"
   ]
  },
  {
   "cell_type": "code",
   "execution_count": 145,
   "metadata": {},
   "outputs": [],
   "source": [
    "def get_biggest_losers(filename):\n",
    "    from bs4 import BeautifulSoup\n",
    "    file = open(filename, \"r\").read()\n",
    "    soup = BeautifulSoup(file, \"lxml\")\n",
    "    empty_list = []\n",
    "    for tr in soup.find_all(\"table\", class_=\"topmovers\"):\n",
    "        for row in tr.find_all(\"tr\"):\n",
    "            for item in row.find_all(\"td\"):\n",
    "                empty_list.append(item.get_text())\n",
    "    stock, decrease = \" \".join(empty_list[31].split()), empty_list[34].split()\n",
    "    clean_decrease = increase[1].strip(\"(%)\")\n",
    "    return (stock, float(clean_decrease))"
   ]
  },
  {
   "cell_type": "code",
   "execution_count": 184,
   "metadata": {},
   "outputs": [],
   "source": [
    "def get_biggest_sectors(filename):\n",
    "    from bs4 import BeautifulSoup\n",
    "    file = open(filename, \"r\").read()\n",
    "    soup = BeautifulSoup(file, \"lxml\")\n",
    "    empty_list = []\n",
    "    for tr in soup.find_all(\"div\", class_=\"id-secperf sfe-section-major\"):\n",
    "        for row in tr.find_all(\"tr\"):\n",
    "            for item in row.find_all(\"td\"):\n",
    "                empty_list.append(item.get_text().split())\n",
    "    energy = \"\".join(empty_list[4])\n",
    "    energy = energy.strip(\"%\")\n",
    "    basic_materials = \"\".join(empty_list[20])\n",
    "    basic_materials = basic_materials.strip(\"%\")\n",
    "    industrials = \"\".join(empty_list[36])\n",
    "    industrials = industrials.strip(\"%\")\n",
    "    return (energy, basic_materials, industrials)"
   ]
  },
  {
   "cell_type": "code",
   "execution_count": 185,
   "metadata": {},
   "outputs": [
    {
     "name": "stdout",
     "output_type": "stream",
     "text": [
      "[['Sector'], ['Change'], ['%', 'down', '/', 'up'], ['Energy'], ['-1.48%'], [], [], [], [], [], [], [], [], [], [], [], [], [], [], ['Basic', 'Materials'], ['-0.35%'], [], [], [], [], [], [], [], [], [], [], [], [], [], [], ['Industrials'], ['-0.46%'], [], [], [], [], [], [], [], [], [], [], [], [], [], [], ['Cyclical', 'Cons.', 'Goods', '...'], ['+0.07%'], [], [], [], [], [], [], [], [], [], [], [], [], [], [], ['Non-Cyclical', 'Cons.', 'Goods...'], ['+0.08%'], [], [], [], [], [], [], [], [], [], [], [], [], [], [], ['Financials'], ['-0.52%'], [], [], [], [], [], [], [], [], [], [], [], [], [], [], ['Healthcare'], ['+1.24%'], [], [], [], [], [], [], [], [], [], [], [], [], [], [], ['Technology'], ['+0.54%'], [], [], [], [], [], [], [], [], [], [], [], [], [], [], ['Telecommunications', 'Servi...'], ['-0.56%'], [], [], [], [], [], [], [], [], [], [], [], [], [], [], ['Utilities'], ['-0.61%'], [], [], [], [], [], [], [], [], [], [], [], [], [], []]\n",
      "['-1.48%']\n"
     ]
    },
    {
     "data": {
      "text/plain": [
       "('-1.48', '-0.35', '-0.46')"
      ]
     },
     "execution_count": 185,
     "metadata": {},
     "output_type": "execute_result"
    }
   ],
   "source": [
    "get_biggest_sectors(\"Google Finance.htm\")"
   ]
  },
  {
   "cell_type": "code",
   "execution_count": null,
   "metadata": {
    "collapsed": true
   },
   "outputs": [],
   "source": []
  }
 ],
 "metadata": {
  "kernelspec": {
   "display_name": "Python 3",
   "language": "python",
   "name": "python3"
  },
  "language_info": {
   "codemirror_mode": {
    "name": "ipython",
    "version": 3
   },
   "file_extension": ".py",
   "mimetype": "text/x-python",
   "name": "python",
   "nbconvert_exporter": "python",
   "pygments_lexer": "ipython3",
   "version": "3.6.0"
  }
 },
 "nbformat": 4,
 "nbformat_minor": 2
}
