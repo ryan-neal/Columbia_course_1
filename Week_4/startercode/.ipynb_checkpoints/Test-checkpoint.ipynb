{
 "cells": [
  {
   "cell_type": "code",
   "execution_count": 428,
   "metadata": {
    "collapsed": true
   },
   "outputs": [],
   "source": [
    "import json\n",
    "import bs4 as BeautifulSoup\n",
    "import requests"
   ]
  },
  {
   "cell_type": "code",
   "execution_count": 429,
   "metadata": {
    "collapsed": true
   },
   "outputs": [],
   "source": [
    "def get_sector_increase():\n",
    "    pass"
   ]
  },
  {
   "cell_type": "code",
   "execution_count": 430,
   "metadata": {
    "collapsed": true
   },
   "outputs": [],
   "source": [
    "def get_stock_info(gainer, loser, increase, decrease, file):\n",
    "    import json\n",
    "    with open(file) as f:\n",
    "        lines = f.readlines()\n",
    "    json_lines = json.dumps(lines)\n",
    "    gain_beginning = json_lines.find(gainer)\n",
    "    top_stock = json_lines[gain_beginning: gain_beginning + len(gainer)]\n",
    "    loser_beginning = json_lines.find(loser)\n",
    "    bad_stock = json_lines[loser_beginning: loser_beginning + len(loser)]\n",
    "    increase_beginning = json_lines.find(increase)\n",
    "    top_plus = json_lines[increase_beginning: increase_beginning + len(increase)]\n",
    "    decrease_beginning = json_lines.find(decrease)\n",
    "    bad_minus = json_lines[decrease_beginning: decrease_beginning + len(decrease)]\n",
    "    return (top_stock, top_plus, bad_stock, bad_minus)\n",
    "    "
   ]
  },
  {
   "cell_type": "code",
   "execution_count": 431,
   "metadata": {
    "collapsed": true
   },
   "outputs": [],
   "source": [
    "def create_json(gainer, loser, increase, decrease, file):\n",
    "    a,b,x,y = get_stock_info(gainer, loser, increase, decrease, file)\n",
    "    answer = {\n",
    "        \"biggest_gainer\" : {\n",
    "        \"equity\" : a,\n",
    "        \"change\" : float(b)\n",
    "        },\n",
    "        \n",
    "        \"biggest_loser\" : {\n",
    "        \"equity\" : x,\n",
    "        \"change\" : float(y)\n",
    "        },\n",
    "        \"change\" : 5\n",
    "    }\n",
    "    return json.dumps(answer)"
   ]
  },
  {
   "cell_type": "code",
   "execution_count": 432,
   "metadata": {
    "collapsed": true
   },
   "outputs": [],
   "source": [
    "energy = create_json(\"McDermott International\", \"Bill Barrett Corporation\", '5.31', '-13.18', \"energy.htm\")"
   ]
  },
  {
   "cell_type": "code",
   "execution_count": 433,
   "metadata": {
    "collapsed": true
   },
   "outputs": [],
   "source": [
    "basic_materials = create_json(\"Gold Fields Limited (ADR)\", \"Jaguar Mining Inc (USA)\", '3.22', '-5.85', \"Basic Materials.htm\")"
   ]
  },
  {
   "cell_type": "code",
   "execution_count": 434,
   "metadata": {
    "collapsed": true
   },
   "outputs": [],
   "source": [
    "industrials = create_json(\"LML Payment Systems, Inc.\", \"Chicago Bridge & Iron Co\", '633.43', '-12.07', \"Industrials.htm\")"
   ]
  },
  {
   "cell_type": "code",
   "execution_count": 435,
   "metadata": {},
   "outputs": [
    {
     "data": {
      "text/plain": [
       "'{\"biggest_gainer\": {\"equity\": \"McDermott International\", \"change\": 5.31}, \"biggest_loser\": {\"equity\": \"Bill Barrett Corporation\", \"change\": -13.18}, \"change\": 5}'"
      ]
     },
     "execution_count": 435,
     "metadata": {},
     "output_type": "execute_result"
    }
   ],
   "source": [
    "energy"
   ]
  },
  {
   "cell_type": "code",
   "execution_count": null,
   "metadata": {
    "collapsed": true
   },
   "outputs": [],
   "source": [
    "json.dumps(results)"
   ]
  },
  {
   "cell_type": "code",
   "execution_count": null,
   "metadata": {
    "collapsed": true
   },
   "outputs": [],
   "source": []
  }
 ],
 "metadata": {
  "kernelspec": {
   "display_name": "Python 3",
   "language": "python",
   "name": "python3"
  },
  "language_info": {
   "codemirror_mode": {
    "name": "ipython",
    "version": 3
   },
   "file_extension": ".py",
   "mimetype": "text/x-python",
   "name": "python",
   "nbconvert_exporter": "python",
   "pygments_lexer": "ipython3",
   "version": "3.6.0"
  }
 },
 "nbformat": 4,
 "nbformat_minor": 2
}
