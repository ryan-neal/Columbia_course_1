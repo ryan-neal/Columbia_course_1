{
 "cells": [
  {
   "cell_type": "code",
   "execution_count": 186,
   "metadata": {
    "collapsed": true
   },
   "outputs": [],
   "source": [
    "from bs4 import BeautifulSoup\n",
    "import json"
   ]
  },
  {
   "cell_type": "code",
   "execution_count": 187,
   "metadata": {
    "collapsed": true
   },
   "outputs": [],
   "source": [
    "file = open(\"energy.htm\", \"r\").read()\n",
    "\n",
    "soup = BeautifulSoup(file, \"lxml\")\n",
    "\n",
    "empty_list = []\n",
    "for tr in soup.find_all(\"table\", class_=\"topmovers\"):\n",
    "    for row in tr.find_all(\"tr\"):\n",
    "        for item in row.find_all(\"td\"):\n",
    "            empty_list.append(item.get_text())"
   ]
  },
  {
   "cell_type": "code",
   "execution_count": 188,
   "metadata": {
    "collapsed": true
   },
   "outputs": [],
   "source": [
    "def get_biggest_movers(filename):\n",
    "    from bs4 import BeautifulSoup\n",
    "    file = open(filename, \"r\").read()\n",
    "    soup = BeautifulSoup(file, \"lxml\")\n",
    "    empty_list = []\n",
    "    for tr in soup.find_all(\"table\", class_=\"topmovers\"):\n",
    "        for row in tr.find_all(\"tr\"):\n",
    "            for item in row.find_all(\"td\"):\n",
    "                empty_list.append(item.get_text())\n",
    "    stock, increase = \" \".join(empty_list[4].split()), empty_list[7].split()\n",
    "    clean_increase = increase[1].strip(\"(%)\")\n",
    "    return (stock, float(clean_increase))"
   ]
  },
  {
   "cell_type": "code",
   "execution_count": 213,
   "metadata": {},
   "outputs": [],
   "source": [
    "def get_biggest_losers(filename):\n",
    "    from bs4 import BeautifulSoup\n",
    "    file = open(filename, \"r\").read()\n",
    "    soup = BeautifulSoup(file, \"lxml\")\n",
    "    empty_list = []\n",
    "    for tr in soup.find_all(\"table\", class_=\"topmovers\"):\n",
    "        for row in tr.find_all(\"tr\"):\n",
    "            for item in row.find_all(\"td\"):\n",
    "                empty_list.append(item.get_text())\n",
    "    stock, decrease = \" \".join(empty_list[31].split()), empty_list[34].split()\n",
    "    clean_decrease = decrease[1].strip(\"(%)\")\n",
    "    return (stock, float(clean_decrease))"
   ]
  },
  {
   "cell_type": "code",
   "execution_count": 214,
   "metadata": {},
   "outputs": [],
   "source": [
    "def get_biggest_sectors(filename):\n",
    "    from bs4 import BeautifulSoup\n",
    "    file = open(filename, \"r\").read()\n",
    "    soup = BeautifulSoup(file, \"lxml\")\n",
    "    empty_list = []\n",
    "    for tr in soup.find_all(\"div\", class_=\"id-secperf sfe-section-major\"):\n",
    "        for row in tr.find_all(\"tr\"):\n",
    "            for item in row.find_all(\"td\"):\n",
    "                empty_list.append(item.get_text().split())\n",
    "    energy = \"\".join(empty_list[4])\n",
    "    energy = energy.strip(\"%\")\n",
    "    basic_materials = \"\".join(empty_list[20])\n",
    "    basic_materials = basic_materials.strip(\"%\")\n",
    "    industrials = \"\".join(empty_list[36])\n",
    "    industrials = industrials.strip(\"%\")\n",
    "    return (energy, basic_materials, industrials)"
   ]
  },
  {
   "cell_type": "code",
   "execution_count": 263,
   "metadata": {},
   "outputs": [],
   "source": [
    "def create_jsons():\n",
    "    energy_mover = get_biggest_movers(\"energy.htm\")\n",
    "    energy_loser = get_biggest_losers(\"energy.htm\")\n",
    "    basic_mover = get_biggest_movers(\"basic materials.htm\")\n",
    "    basic_loser = get_biggest_losers(\"basic materials.htm\")\n",
    "    indust_mover = get_biggest_movers(\"industrials.htm\")\n",
    "    indust_loser = get_biggest_losers(\"industrials.htm\")\n",
    "\n",
    "    energy, basic_materials, industrials = get_biggest_sectors(\"Google Finance.htm\")\n",
    "    results = {\n",
    "        \"results\" : {\n",
    "            \"energy\" : {\n",
    "                \"biggest_gainer\" : {\n",
    "                    \"equity\" : energy_mover[0],\n",
    "                    \"change\" : energy_mover[1]\n",
    "                },\n",
    "                \"biggest_loser\" : {\n",
    "                    \"equity\" : energy_loser[0],\n",
    "                    \"change\" : energy_loser[1]\n",
    "                },\n",
    "                \"change\" : energy\n",
    "            },\n",
    "            \"basic materials\" : {\n",
    "                \"biggest_gainer\" : {\n",
    "                    \"equity\" : basic_mover[0],\n",
    "                    \"change\" : basic_mover[1]\n",
    "                },\n",
    "                \"biggest_loser\" : {\n",
    "                    \"equity\" : basic_loser[0],\n",
    "                    \"change\" : basic_loser[1]\n",
    "                },\n",
    "                \"change\" : basic_materials\n",
    "            },\n",
    "            \"industrials\" : {\n",
    "                \"biggest_gainer\" : {\n",
    "                    \"equity\" : indust_mover[0],\n",
    "                    \"change\" : indust_mover[1]\n",
    "                },\n",
    "                \"biggest_loser\" : {\n",
    "                    \"equity\" : indust_loser[0],\n",
    "                    \"change\" : indust_loser[1]\n",
    "                },\n",
    "                \"change\" : industrials\n",
    "            }\n",
    "        }\n",
    "    }\n",
    "    return json.dumps(results)"
   ]
  },
  {
   "cell_type": "code",
   "execution_count": 264,
   "metadata": {},
   "outputs": [
    {
     "name": "stdout",
     "output_type": "stream",
     "text": [
      "\n",
      "McDermott International\n",
      "\n",
      "\n",
      "Gold Fields Limited (ADR)\n",
      "\n",
      "\n",
      "LML Payment Systems, Inc.\n",
      "\n"
     ]
    }
   ],
   "source": [
    "answer = create_jsons()"
   ]
  },
  {
   "cell_type": "code",
   "execution_count": 265,
   "metadata": {},
   "outputs": [
    {
     "data": {
      "text/plain": [
       "'{\"results\": {\"energy\": {\"biggest_gainer\": {\"equity\": \"McDermott International\", \"change\": 5.31}, \"biggest_loser\": {\"equity\": \"Bill Barrett Corporation\", \"change\": -13.18}, \"change\": \"-1.48\"}, \"basic materials\": {\"biggest_gainer\": {\"equity\": \"Gold Fields Limited (ADR)\", \"change\": 3.22}, \"biggest_loser\": {\"equity\": \"Jaguar Mining Inc (USA)\", \"change\": -5.85}, \"change\": \"-0.35\"}, \"industrials\": {\"biggest_gainer\": {\"equity\": \"LML Payment Systems, Inc.\", \"change\": 633.43}, \"biggest_loser\": {\"equity\": \"Chicago Bridge & Iron Co\", \"change\": -12.07}, \"change\": \"-0.46\"}}}'"
      ]
     },
     "execution_count": 265,
     "metadata": {},
     "output_type": "execute_result"
    }
   ],
   "source": [
    "answer"
   ]
  },
  {
   "cell_type": "code",
   "execution_count": null,
   "metadata": {
    "collapsed": true
   },
   "outputs": [],
   "source": []
  }
 ],
 "metadata": {
  "kernelspec": {
   "display_name": "Python 3",
   "language": "python",
   "name": "python3"
  },
  "language_info": {
   "codemirror_mode": {
    "name": "ipython",
    "version": 3
   },
   "file_extension": ".py",
   "mimetype": "text/x-python",
   "name": "python",
   "nbconvert_exporter": "python",
   "pygments_lexer": "ipython3",
   "version": "3.6.0"
  }
 },
 "nbformat": 4,
 "nbformat_minor": 2
}
