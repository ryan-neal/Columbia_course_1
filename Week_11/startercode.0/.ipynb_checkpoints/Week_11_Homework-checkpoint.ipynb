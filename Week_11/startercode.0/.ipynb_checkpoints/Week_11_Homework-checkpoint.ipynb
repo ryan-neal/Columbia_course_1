{
 "cells": [
  {
   "cell_type": "code",
   "execution_count": 257,
   "metadata": {
    "collapsed": true
   },
   "outputs": [],
   "source": [
    "import numpy as np\n",
    "import pandas as pd\n",
    "from sklearn import datasets, linear_model\n",
    "import datetime\n",
    "    "
   ]
  },
  {
   "cell_type": "code",
   "execution_count": 258,
   "metadata": {
    "collapsed": true
   },
   "outputs": [],
   "source": [
    "df = pd.read_csv('nyc.csv',header=0)"
   ]
  },
  {
   "cell_type": "code",
   "execution_count": 259,
   "metadata": {},
   "outputs": [],
   "source": [
    "df[\"Borough\"] = df[\"Borough\"].str.replace('\\d+', '')\n",
    "df[\"Borough\"] = df[\"Borough\"].str.replace('Unspecified', '')    \n",
    "df[\"Borough\"] = df[\"Borough\"].str.strip()\n",
    "df[\"borough_num\"] = df[\"Borough\"].map({\"MANHATTAN\":1, \"BROOKLYN\":2, \"QUEENS\":3, \"STATEN ISLAND\":4, \"BRONX\":5})\n",
    "df[\"borough_num\"].fillna(0, inplace= True)\n",
    "df['borough_num'] = df['borough_num'].astype(int)\n",
    "df = df[df[\"borough_num\"] != 0]"
   ]
  },
  {
   "cell_type": "code",
   "execution_count": 260,
   "metadata": {},
   "outputs": [],
   "source": [
    "df.drop(\"Unnamed: 0\", axis=1, inplace=True)"
   ]
  },
  {
   "cell_type": "code",
   "execution_count": 261,
   "metadata": {},
   "outputs": [],
   "source": [
    "df[\"Created Date\"] = pd.to_datetime(df[\"Created Date\"])"
   ]
  },
  {
   "cell_type": "code",
   "execution_count": 262,
   "metadata": {},
   "outputs": [
    {
     "data": {
      "text/plain": [
       "dtype('<M8[ns]')"
      ]
     },
     "execution_count": 262,
     "metadata": {},
     "output_type": "execute_result"
    }
   ],
   "source": [
    "df[\"Created Date\"].dtype"
   ]
  },
  {
   "cell_type": "code",
   "execution_count": 263,
   "metadata": {},
   "outputs": [],
   "source": [
    "df['month'] = df['Created Date'].apply(lambda x:x.month)"
   ]
  },
  {
   "cell_type": "code",
   "execution_count": 264,
   "metadata": {},
   "outputs": [],
   "source": [
    "df['hour'] = df['Created Date'].apply(lambda x:x.hour)"
   ]
  },
  {
   "cell_type": "code",
   "execution_count": 265,
   "metadata": {},
   "outputs": [],
   "source": [
    "df['weekday'] = df['Created Date'].apply(lambda x:x.weekday())"
   ]
  },
  {
   "cell_type": "code",
   "execution_count": 266,
   "metadata": {
    "scrolled": true
   },
   "outputs": [
    {
     "data": {
      "text/html": [
       "<div>\n",
       "<table border=\"1\" class=\"dataframe\">\n",
       "  <thead>\n",
       "    <tr style=\"text-align: right;\">\n",
       "      <th></th>\n",
       "      <th>Unique Key</th>\n",
       "      <th>Created Date</th>\n",
       "      <th>Closed Date</th>\n",
       "      <th>Agency</th>\n",
       "      <th>Descriptor</th>\n",
       "      <th>Borough</th>\n",
       "      <th>processing_time</th>\n",
       "      <th>borough_num</th>\n",
       "      <th>month</th>\n",
       "      <th>hour</th>\n",
       "      <th>weekday</th>\n",
       "    </tr>\n",
       "  </thead>\n",
       "  <tbody>\n",
       "    <tr>\n",
       "      <th>0</th>\n",
       "      <td>32305299</td>\n",
       "      <td>2016-01-01 00:00:09</td>\n",
       "      <td>2016-01-01 01:57:32</td>\n",
       "      <td>NYPD</td>\n",
       "      <td>Loud Music/Party</td>\n",
       "      <td>BROOKLYN</td>\n",
       "      <td>0.081516</td>\n",
       "      <td>2</td>\n",
       "      <td>1</td>\n",
       "      <td>0</td>\n",
       "      <td>4</td>\n",
       "    </tr>\n",
       "    <tr>\n",
       "      <th>1</th>\n",
       "      <td>32310343</td>\n",
       "      <td>2016-01-01 00:00:40</td>\n",
       "      <td>2016-01-01 03:12:53</td>\n",
       "      <td>NYPD</td>\n",
       "      <td>Loud Music/Party</td>\n",
       "      <td>BRONX</td>\n",
       "      <td>0.133484</td>\n",
       "      <td>5</td>\n",
       "      <td>1</td>\n",
       "      <td>0</td>\n",
       "      <td>4</td>\n",
       "    </tr>\n",
       "    <tr>\n",
       "      <th>2</th>\n",
       "      <td>32309107</td>\n",
       "      <td>2016-01-01 00:01:09</td>\n",
       "      <td>2016-01-21 09:20:55</td>\n",
       "      <td>HPD</td>\n",
       "      <td>NO LIGHTING</td>\n",
       "      <td>BRONX</td>\n",
       "      <td>20.388727</td>\n",
       "      <td>5</td>\n",
       "      <td>1</td>\n",
       "      <td>0</td>\n",
       "      <td>4</td>\n",
       "    </tr>\n",
       "    <tr>\n",
       "      <th>4</th>\n",
       "      <td>32309212</td>\n",
       "      <td>2016-01-01 00:03:03</td>\n",
       "      <td>2016-01-08 01:13:00</td>\n",
       "      <td>HPD</td>\n",
       "      <td>ENTIRE BUILDING</td>\n",
       "      <td>BRONX</td>\n",
       "      <td>7.048576</td>\n",
       "      <td>5</td>\n",
       "      <td>1</td>\n",
       "      <td>0</td>\n",
       "      <td>4</td>\n",
       "    </tr>\n",
       "    <tr>\n",
       "      <th>5</th>\n",
       "      <td>32305983</td>\n",
       "      <td>2016-01-01 00:03:03</td>\n",
       "      <td>2016-01-01 03:24:46</td>\n",
       "      <td>NYPD</td>\n",
       "      <td>Loud Music/Party</td>\n",
       "      <td>QUEENS</td>\n",
       "      <td>0.140081</td>\n",
       "      <td>3</td>\n",
       "      <td>1</td>\n",
       "      <td>0</td>\n",
       "      <td>4</td>\n",
       "    </tr>\n",
       "  </tbody>\n",
       "</table>\n",
       "</div>"
      ],
      "text/plain": [
       "   Unique Key        Created Date          Closed Date Agency  \\\n",
       "0    32305299 2016-01-01 00:00:09  2016-01-01 01:57:32   NYPD   \n",
       "1    32310343 2016-01-01 00:00:40  2016-01-01 03:12:53   NYPD   \n",
       "2    32309107 2016-01-01 00:01:09  2016-01-21 09:20:55    HPD   \n",
       "4    32309212 2016-01-01 00:03:03  2016-01-08 01:13:00    HPD   \n",
       "5    32305983 2016-01-01 00:03:03  2016-01-01 03:24:46   NYPD   \n",
       "\n",
       "         Descriptor   Borough  processing_time  borough_num  month  hour  \\\n",
       "0  Loud Music/Party  BROOKLYN         0.081516            2      1     0   \n",
       "1  Loud Music/Party     BRONX         0.133484            5      1     0   \n",
       "2       NO LIGHTING     BRONX        20.388727            5      1     0   \n",
       "4   ENTIRE BUILDING     BRONX         7.048576            5      1     0   \n",
       "5  Loud Music/Party    QUEENS         0.140081            3      1     0   \n",
       "\n",
       "   weekday  \n",
       "0        4  \n",
       "1        4  \n",
       "2        4  \n",
       "4        4  \n",
       "5        4  "
      ]
     },
     "execution_count": 266,
     "metadata": {},
     "output_type": "execute_result"
    }
   ],
   "source": [
    "df.head()"
   ]
  },
  {
   "cell_type": "code",
   "execution_count": 267,
   "metadata": {},
   "outputs": [
    {
     "data": {
      "text/plain": [
       "array(['NYPD', 'HPD', 'DOHMH', 'DOT', 'DSNY', 'DEP', 'DOB', 'TLC', 'FDNY',\n",
       "       'DPR', 'EDC', 'DOF', 'DCA', 'DFTA', 'DOE', '3-1-1'], dtype=object)"
      ]
     },
     "execution_count": 267,
     "metadata": {},
     "output_type": "execute_result"
    }
   ],
   "source": [
    "df[\"Agency\"].unique()"
   ]
  },
  {
   "cell_type": "code",
   "execution_count": 268,
   "metadata": {
    "collapsed": true
   },
   "outputs": [],
   "source": [
    "agency_num = {}\n",
    "for num, agency in enumerate((df['Agency'].unique())): \n",
    "    agency_num[agency] = num\n",
    "df['agency_num'] = df['Agency'].apply(lambda x: agency_num[x])"
   ]
  },
  {
   "cell_type": "code",
   "execution_count": 269,
   "metadata": {},
   "outputs": [],
   "source": [
    "def transform_processing(time):\n",
    "    if time > 1:\n",
    "        return 1\n",
    "    else:\n",
    "        return 0"
   ]
  },
  {
   "cell_type": "code",
   "execution_count": 270,
   "metadata": {},
   "outputs": [],
   "source": [
    "df[\"processing_time_window\"] = df[\"processing_time\"].apply(transform_processing)"
   ]
  },
  {
   "cell_type": "code",
   "execution_count": 271,
   "metadata": {},
   "outputs": [
    {
     "data": {
      "text/html": [
       "<div>\n",
       "<table border=\"1\" class=\"dataframe\">\n",
       "  <thead>\n",
       "    <tr style=\"text-align: right;\">\n",
       "      <th></th>\n",
       "      <th>Unique Key</th>\n",
       "      <th>Created Date</th>\n",
       "      <th>Closed Date</th>\n",
       "      <th>Agency</th>\n",
       "      <th>Descriptor</th>\n",
       "      <th>Borough</th>\n",
       "      <th>processing_time</th>\n",
       "      <th>borough_num</th>\n",
       "      <th>month</th>\n",
       "      <th>hour</th>\n",
       "      <th>weekday</th>\n",
       "      <th>agency_num</th>\n",
       "      <th>processing_time_window</th>\n",
       "    </tr>\n",
       "  </thead>\n",
       "  <tbody>\n",
       "    <tr>\n",
       "      <th>0</th>\n",
       "      <td>32305299</td>\n",
       "      <td>2016-01-01 00:00:09</td>\n",
       "      <td>2016-01-01 01:57:32</td>\n",
       "      <td>NYPD</td>\n",
       "      <td>Loud Music/Party</td>\n",
       "      <td>BROOKLYN</td>\n",
       "      <td>0.081516</td>\n",
       "      <td>2</td>\n",
       "      <td>1</td>\n",
       "      <td>0</td>\n",
       "      <td>4</td>\n",
       "      <td>0</td>\n",
       "      <td>0</td>\n",
       "    </tr>\n",
       "    <tr>\n",
       "      <th>1</th>\n",
       "      <td>32310343</td>\n",
       "      <td>2016-01-01 00:00:40</td>\n",
       "      <td>2016-01-01 03:12:53</td>\n",
       "      <td>NYPD</td>\n",
       "      <td>Loud Music/Party</td>\n",
       "      <td>BRONX</td>\n",
       "      <td>0.133484</td>\n",
       "      <td>5</td>\n",
       "      <td>1</td>\n",
       "      <td>0</td>\n",
       "      <td>4</td>\n",
       "      <td>0</td>\n",
       "      <td>0</td>\n",
       "    </tr>\n",
       "    <tr>\n",
       "      <th>2</th>\n",
       "      <td>32309107</td>\n",
       "      <td>2016-01-01 00:01:09</td>\n",
       "      <td>2016-01-21 09:20:55</td>\n",
       "      <td>HPD</td>\n",
       "      <td>NO LIGHTING</td>\n",
       "      <td>BRONX</td>\n",
       "      <td>20.388727</td>\n",
       "      <td>5</td>\n",
       "      <td>1</td>\n",
       "      <td>0</td>\n",
       "      <td>4</td>\n",
       "      <td>1</td>\n",
       "      <td>1</td>\n",
       "    </tr>\n",
       "    <tr>\n",
       "      <th>4</th>\n",
       "      <td>32309212</td>\n",
       "      <td>2016-01-01 00:03:03</td>\n",
       "      <td>2016-01-08 01:13:00</td>\n",
       "      <td>HPD</td>\n",
       "      <td>ENTIRE BUILDING</td>\n",
       "      <td>BRONX</td>\n",
       "      <td>7.048576</td>\n",
       "      <td>5</td>\n",
       "      <td>1</td>\n",
       "      <td>0</td>\n",
       "      <td>4</td>\n",
       "      <td>1</td>\n",
       "      <td>1</td>\n",
       "    </tr>\n",
       "    <tr>\n",
       "      <th>5</th>\n",
       "      <td>32305983</td>\n",
       "      <td>2016-01-01 00:03:03</td>\n",
       "      <td>2016-01-01 03:24:46</td>\n",
       "      <td>NYPD</td>\n",
       "      <td>Loud Music/Party</td>\n",
       "      <td>QUEENS</td>\n",
       "      <td>0.140081</td>\n",
       "      <td>3</td>\n",
       "      <td>1</td>\n",
       "      <td>0</td>\n",
       "      <td>4</td>\n",
       "      <td>0</td>\n",
       "      <td>0</td>\n",
       "    </tr>\n",
       "  </tbody>\n",
       "</table>\n",
       "</div>"
      ],
      "text/plain": [
       "   Unique Key        Created Date          Closed Date Agency  \\\n",
       "0    32305299 2016-01-01 00:00:09  2016-01-01 01:57:32   NYPD   \n",
       "1    32310343 2016-01-01 00:00:40  2016-01-01 03:12:53   NYPD   \n",
       "2    32309107 2016-01-01 00:01:09  2016-01-21 09:20:55    HPD   \n",
       "4    32309212 2016-01-01 00:03:03  2016-01-08 01:13:00    HPD   \n",
       "5    32305983 2016-01-01 00:03:03  2016-01-01 03:24:46   NYPD   \n",
       "\n",
       "         Descriptor   Borough  processing_time  borough_num  month  hour  \\\n",
       "0  Loud Music/Party  BROOKLYN         0.081516            2      1     0   \n",
       "1  Loud Music/Party     BRONX         0.133484            5      1     0   \n",
       "2       NO LIGHTING     BRONX        20.388727            5      1     0   \n",
       "4   ENTIRE BUILDING     BRONX         7.048576            5      1     0   \n",
       "5  Loud Music/Party    QUEENS         0.140081            3      1     0   \n",
       "\n",
       "   weekday  agency_num  processing_time_window  \n",
       "0        4           0                       0  \n",
       "1        4           0                       0  \n",
       "2        4           1                       1  \n",
       "4        4           1                       1  \n",
       "5        4           0                       0  "
      ]
     },
     "execution_count": 271,
     "metadata": {},
     "output_type": "execute_result"
    }
   ],
   "source": [
    "df.head()"
   ]
  },
  {
   "cell_type": "code",
   "execution_count": 272,
   "metadata": {},
   "outputs": [],
   "source": [
    "# Question 1: transforming the data\n",
    "def filter_nyc():\n",
    "    df = pd.read_csv('nyc.csv',header=0)\n",
    "\n",
    "    # Your work here\n",
    "    df.drop(\"Unnamed: 0\", axis=1, inplace=True)\n",
    "    df[\"Created Date\"] = pd.to_datetime(df[\"Created Date\"])\n",
    "    df['month'] = df['Created Date'].apply(lambda x:x.month)\n",
    "    df['hour'] = df['Created Date'].apply(lambda x:x.hour)\n",
    "    df['weekday'] = df['Created Date'].apply(lambda x:x.weekday())\n",
    "\n",
    "    agency_num = {}\n",
    "    for num, agency in enumerate((df['Agency'].unique())): \n",
    "         agency_num[agency] = num\n",
    "    df['agency_num'] = df['Agency'].apply(lambda x: agency_num[x])\n",
    "    \n",
    "    df[\"Borough\"] = df[\"Borough\"].str.replace('\\d+', '')\n",
    "    df[\"Borough\"] = df[\"Borough\"].str.replace('Unspecified', '')    \n",
    "    df[\"Borough\"] = df[\"Borough\"].str.strip()\n",
    "    df[\"borough_num\"] = df[\"Borough\"].map({\"MANHATTAN\":1, \"BROOKLYN\":2, \"QUEENS\":3, \"STATEN ISLAND\":4, \"BRONX\":5})\n",
    "    df[\"borough_num\"].fillna(0, inplace= True)\n",
    "    df['borough_num'] = df['borough_num'].astype(int)\n",
    "    df = df[df[\"borough_num\"] != 0]\n",
    "    \n",
    "    def transform_processing(time):\n",
    "        if time > 1:\n",
    "            return 1\n",
    "        else:\n",
    "            return 0\n",
    "    \n",
    "    df[\"processing_time_bucket\"] = df[\"processing_time\"].apply(transform_processing)\n",
    "    \n",
    "    \n",
    "    \n",
    "    df[['hour', 'month', 'weekday', 'agency_num', 'borough_num', 'processing_time_bucket']].to_csv('filtered.csv',index=False)"
   ]
  },
  {
   "cell_type": "code",
   "execution_count": 273,
   "metadata": {
    "collapsed": true
   },
   "outputs": [],
   "source": [
    "filter_nyc()"
   ]
  },
  {
   "cell_type": "code",
   "execution_count": 274,
   "metadata": {},
   "outputs": [
    {
     "ename": "IndentationError",
     "evalue": "expected an indented block (<ipython-input-274-4ebbe030d2c2>, line 3)",
     "output_type": "error",
     "traceback": [
      "\u001b[0;36m  File \u001b[0;32m\"<ipython-input-274-4ebbe030d2c2>\"\u001b[0;36m, line \u001b[0;32m3\u001b[0m\n\u001b[0;31m    pass\u001b[0m\n\u001b[0m       ^\u001b[0m\n\u001b[0;31mIndentationError\u001b[0m\u001b[0;31m:\u001b[0m expected an indented block\n"
     ]
    }
   ],
   "source": [
    "    # Question 2: build the model and predict\n",
    "def build_and_predict():\n",
    "    data = pd.read_csv('filtered.csv')\n",
    "    test = pd.read_csv('topredict.csv')\n",
    "    \n",
    "    # Your work here\n",
    "    \n",
    "    # yourDF.to_csv('predictions.csv',index=True,index_label='index') (you can change this line if you want)"
   ]
  }
 ],
 "metadata": {
  "kernelspec": {
   "display_name": "Python 3",
   "language": "python",
   "name": "python3"
  },
  "language_info": {
   "codemirror_mode": {
    "name": "ipython",
    "version": 3
   },
   "file_extension": ".py",
   "mimetype": "text/x-python",
   "name": "python",
   "nbconvert_exporter": "python",
   "pygments_lexer": "ipython3",
   "version": "3.6.0"
  }
 },
 "nbformat": 4,
 "nbformat_minor": 2
}
