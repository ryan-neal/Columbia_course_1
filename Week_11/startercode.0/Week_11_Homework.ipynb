{
 "cells": [
  {
   "cell_type": "code",
   "execution_count": 19,
   "metadata": {
    "collapsed": true
   },
   "outputs": [],
   "source": [
    "import numpy as np\n",
    "import pandas as pd\n",
    "from sklearn import datasets, linear_model\n",
    "import datetime\n",
    "    "
   ]
  },
  {
   "cell_type": "code",
   "execution_count": 20,
   "metadata": {
    "collapsed": true
   },
   "outputs": [],
   "source": [
    "df = pd.read_csv('nyc.csv',header=0)"
   ]
  },
  {
   "cell_type": "code",
   "execution_count": 21,
   "metadata": {
    "collapsed": true
   },
   "outputs": [],
   "source": [
    "df[\"Borough\"] = df[\"Borough\"].str.replace('\\d+', '')\n",
    "df[\"Borough\"] = df[\"Borough\"].str.replace('Unspecified', '')    \n",
    "df[\"Borough\"] = df[\"Borough\"].str.strip()\n",
    "df[\"borough_num\"] = df[\"Borough\"].map({\"MANHATTAN\":1, \"BROOKLYN\":2, \"QUEENS\":3, \"STATEN ISLAND\":4, \"BRONX\":5})\n",
    "df[\"borough_num\"].fillna(0, inplace= True)\n",
    "df['borough_num'] = df['borough_num'].astype(int)\n",
    "df = df[df[\"borough_num\"] != 0]"
   ]
  },
  {
   "cell_type": "code",
   "execution_count": 22,
   "metadata": {
    "collapsed": true
   },
   "outputs": [],
   "source": [
    "df.drop(\"Unnamed: 0\", axis=1, inplace=True)"
   ]
  },
  {
   "cell_type": "code",
   "execution_count": 23,
   "metadata": {
    "collapsed": true
   },
   "outputs": [],
   "source": [
    "df[\"Created Date\"] = pd.to_datetime(df[\"Created Date\"])"
   ]
  },
  {
   "cell_type": "code",
   "execution_count": 24,
   "metadata": {},
   "outputs": [
    {
     "data": {
      "text/plain": [
       "dtype('<M8[ns]')"
      ]
     },
     "execution_count": 24,
     "metadata": {},
     "output_type": "execute_result"
    }
   ],
   "source": [
    "df[\"Created Date\"].dtype"
   ]
  },
  {
   "cell_type": "code",
   "execution_count": 25,
   "metadata": {
    "collapsed": true
   },
   "outputs": [],
   "source": [
    "df['month'] = df['Created Date'].apply(lambda x:x.month)"
   ]
  },
  {
   "cell_type": "code",
   "execution_count": 26,
   "metadata": {
    "collapsed": true
   },
   "outputs": [],
   "source": [
    "df['hour'] = df['Created Date'].apply(lambda x:x.hour)"
   ]
  },
  {
   "cell_type": "code",
   "execution_count": 27,
   "metadata": {
    "collapsed": true
   },
   "outputs": [],
   "source": [
    "df['weekday'] = df['Created Date'].apply(lambda x:x.weekday())"
   ]
  },
  {
   "cell_type": "code",
   "execution_count": 28,
   "metadata": {
    "scrolled": true
   },
   "outputs": [
    {
     "data": {
      "text/html": [
       "<div>\n",
       "<table border=\"1\" class=\"dataframe\">\n",
       "  <thead>\n",
       "    <tr style=\"text-align: right;\">\n",
       "      <th></th>\n",
       "      <th>Unique Key</th>\n",
       "      <th>Created Date</th>\n",
       "      <th>Closed Date</th>\n",
       "      <th>Agency</th>\n",
       "      <th>Descriptor</th>\n",
       "      <th>Borough</th>\n",
       "      <th>processing_time</th>\n",
       "      <th>borough_num</th>\n",
       "      <th>month</th>\n",
       "      <th>hour</th>\n",
       "      <th>weekday</th>\n",
       "    </tr>\n",
       "  </thead>\n",
       "  <tbody>\n",
       "    <tr>\n",
       "      <th>0</th>\n",
       "      <td>32305299</td>\n",
       "      <td>2016-01-01 00:00:09</td>\n",
       "      <td>2016-01-01 01:57:32</td>\n",
       "      <td>NYPD</td>\n",
       "      <td>Loud Music/Party</td>\n",
       "      <td>BROOKLYN</td>\n",
       "      <td>0.081516</td>\n",
       "      <td>2</td>\n",
       "      <td>1</td>\n",
       "      <td>0</td>\n",
       "      <td>4</td>\n",
       "    </tr>\n",
       "    <tr>\n",
       "      <th>1</th>\n",
       "      <td>32310343</td>\n",
       "      <td>2016-01-01 00:00:40</td>\n",
       "      <td>2016-01-01 03:12:53</td>\n",
       "      <td>NYPD</td>\n",
       "      <td>Loud Music/Party</td>\n",
       "      <td>BRONX</td>\n",
       "      <td>0.133484</td>\n",
       "      <td>5</td>\n",
       "      <td>1</td>\n",
       "      <td>0</td>\n",
       "      <td>4</td>\n",
       "    </tr>\n",
       "    <tr>\n",
       "      <th>2</th>\n",
       "      <td>32309107</td>\n",
       "      <td>2016-01-01 00:01:09</td>\n",
       "      <td>2016-01-21 09:20:55</td>\n",
       "      <td>HPD</td>\n",
       "      <td>NO LIGHTING</td>\n",
       "      <td>BRONX</td>\n",
       "      <td>20.388727</td>\n",
       "      <td>5</td>\n",
       "      <td>1</td>\n",
       "      <td>0</td>\n",
       "      <td>4</td>\n",
       "    </tr>\n",
       "    <tr>\n",
       "      <th>4</th>\n",
       "      <td>32309212</td>\n",
       "      <td>2016-01-01 00:03:03</td>\n",
       "      <td>2016-01-08 01:13:00</td>\n",
       "      <td>HPD</td>\n",
       "      <td>ENTIRE BUILDING</td>\n",
       "      <td>BRONX</td>\n",
       "      <td>7.048576</td>\n",
       "      <td>5</td>\n",
       "      <td>1</td>\n",
       "      <td>0</td>\n",
       "      <td>4</td>\n",
       "    </tr>\n",
       "    <tr>\n",
       "      <th>5</th>\n",
       "      <td>32305983</td>\n",
       "      <td>2016-01-01 00:03:03</td>\n",
       "      <td>2016-01-01 03:24:46</td>\n",
       "      <td>NYPD</td>\n",
       "      <td>Loud Music/Party</td>\n",
       "      <td>QUEENS</td>\n",
       "      <td>0.140081</td>\n",
       "      <td>3</td>\n",
       "      <td>1</td>\n",
       "      <td>0</td>\n",
       "      <td>4</td>\n",
       "    </tr>\n",
       "  </tbody>\n",
       "</table>\n",
       "</div>"
      ],
      "text/plain": [
       "   Unique Key        Created Date          Closed Date Agency  \\\n",
       "0    32305299 2016-01-01 00:00:09  2016-01-01 01:57:32   NYPD   \n",
       "1    32310343 2016-01-01 00:00:40  2016-01-01 03:12:53   NYPD   \n",
       "2    32309107 2016-01-01 00:01:09  2016-01-21 09:20:55    HPD   \n",
       "4    32309212 2016-01-01 00:03:03  2016-01-08 01:13:00    HPD   \n",
       "5    32305983 2016-01-01 00:03:03  2016-01-01 03:24:46   NYPD   \n",
       "\n",
       "         Descriptor   Borough  processing_time  borough_num  month  hour  \\\n",
       "0  Loud Music/Party  BROOKLYN         0.081516            2      1     0   \n",
       "1  Loud Music/Party     BRONX         0.133484            5      1     0   \n",
       "2       NO LIGHTING     BRONX        20.388727            5      1     0   \n",
       "4   ENTIRE BUILDING     BRONX         7.048576            5      1     0   \n",
       "5  Loud Music/Party    QUEENS         0.140081            3      1     0   \n",
       "\n",
       "   weekday  \n",
       "0        4  \n",
       "1        4  \n",
       "2        4  \n",
       "4        4  \n",
       "5        4  "
      ]
     },
     "execution_count": 28,
     "metadata": {},
     "output_type": "execute_result"
    }
   ],
   "source": [
    "df.head()"
   ]
  },
  {
   "cell_type": "code",
   "execution_count": 29,
   "metadata": {},
   "outputs": [
    {
     "data": {
      "text/plain": [
       "array(['NYPD', 'HPD', 'DOHMH', 'DOT', 'DSNY', 'DEP', 'DOB', 'TLC', 'FDNY',\n",
       "       'DPR', 'EDC', 'DOF', 'DCA', 'DFTA', 'DOE', '3-1-1'], dtype=object)"
      ]
     },
     "execution_count": 29,
     "metadata": {},
     "output_type": "execute_result"
    }
   ],
   "source": [
    "df[\"Agency\"].unique()"
   ]
  },
  {
   "cell_type": "code",
   "execution_count": 30,
   "metadata": {
    "collapsed": true
   },
   "outputs": [],
   "source": [
    "agency_num = {}\n",
    "for num, agency in enumerate((df['Agency'].unique())): \n",
    "    agency_num[agency] = num\n",
    "df['agency_num'] = df['Agency'].apply(lambda x: agency_num[x])"
   ]
  },
  {
   "cell_type": "code",
   "execution_count": 31,
   "metadata": {
    "collapsed": true
   },
   "outputs": [],
   "source": [
    "def transform_processing(time):\n",
    "    if time > 1:\n",
    "        return 1\n",
    "    else:\n",
    "        return 0"
   ]
  },
  {
   "cell_type": "code",
   "execution_count": 32,
   "metadata": {
    "collapsed": true
   },
   "outputs": [],
   "source": [
    "df[\"processing_time_window\"] = df[\"processing_time\"].apply(transform_processing)"
   ]
  },
  {
   "cell_type": "code",
   "execution_count": 33,
   "metadata": {},
   "outputs": [
    {
     "data": {
      "text/html": [
       "<div>\n",
       "<table border=\"1\" class=\"dataframe\">\n",
       "  <thead>\n",
       "    <tr style=\"text-align: right;\">\n",
       "      <th></th>\n",
       "      <th>Unique Key</th>\n",
       "      <th>Created Date</th>\n",
       "      <th>Closed Date</th>\n",
       "      <th>Agency</th>\n",
       "      <th>Descriptor</th>\n",
       "      <th>Borough</th>\n",
       "      <th>processing_time</th>\n",
       "      <th>borough_num</th>\n",
       "      <th>month</th>\n",
       "      <th>hour</th>\n",
       "      <th>weekday</th>\n",
       "      <th>agency_num</th>\n",
       "      <th>processing_time_window</th>\n",
       "    </tr>\n",
       "  </thead>\n",
       "  <tbody>\n",
       "    <tr>\n",
       "      <th>0</th>\n",
       "      <td>32305299</td>\n",
       "      <td>2016-01-01 00:00:09</td>\n",
       "      <td>2016-01-01 01:57:32</td>\n",
       "      <td>NYPD</td>\n",
       "      <td>Loud Music/Party</td>\n",
       "      <td>BROOKLYN</td>\n",
       "      <td>0.081516</td>\n",
       "      <td>2</td>\n",
       "      <td>1</td>\n",
       "      <td>0</td>\n",
       "      <td>4</td>\n",
       "      <td>0</td>\n",
       "      <td>0</td>\n",
       "    </tr>\n",
       "    <tr>\n",
       "      <th>1</th>\n",
       "      <td>32310343</td>\n",
       "      <td>2016-01-01 00:00:40</td>\n",
       "      <td>2016-01-01 03:12:53</td>\n",
       "      <td>NYPD</td>\n",
       "      <td>Loud Music/Party</td>\n",
       "      <td>BRONX</td>\n",
       "      <td>0.133484</td>\n",
       "      <td>5</td>\n",
       "      <td>1</td>\n",
       "      <td>0</td>\n",
       "      <td>4</td>\n",
       "      <td>0</td>\n",
       "      <td>0</td>\n",
       "    </tr>\n",
       "    <tr>\n",
       "      <th>2</th>\n",
       "      <td>32309107</td>\n",
       "      <td>2016-01-01 00:01:09</td>\n",
       "      <td>2016-01-21 09:20:55</td>\n",
       "      <td>HPD</td>\n",
       "      <td>NO LIGHTING</td>\n",
       "      <td>BRONX</td>\n",
       "      <td>20.388727</td>\n",
       "      <td>5</td>\n",
       "      <td>1</td>\n",
       "      <td>0</td>\n",
       "      <td>4</td>\n",
       "      <td>1</td>\n",
       "      <td>1</td>\n",
       "    </tr>\n",
       "    <tr>\n",
       "      <th>4</th>\n",
       "      <td>32309212</td>\n",
       "      <td>2016-01-01 00:03:03</td>\n",
       "      <td>2016-01-08 01:13:00</td>\n",
       "      <td>HPD</td>\n",
       "      <td>ENTIRE BUILDING</td>\n",
       "      <td>BRONX</td>\n",
       "      <td>7.048576</td>\n",
       "      <td>5</td>\n",
       "      <td>1</td>\n",
       "      <td>0</td>\n",
       "      <td>4</td>\n",
       "      <td>1</td>\n",
       "      <td>1</td>\n",
       "    </tr>\n",
       "    <tr>\n",
       "      <th>5</th>\n",
       "      <td>32305983</td>\n",
       "      <td>2016-01-01 00:03:03</td>\n",
       "      <td>2016-01-01 03:24:46</td>\n",
       "      <td>NYPD</td>\n",
       "      <td>Loud Music/Party</td>\n",
       "      <td>QUEENS</td>\n",
       "      <td>0.140081</td>\n",
       "      <td>3</td>\n",
       "      <td>1</td>\n",
       "      <td>0</td>\n",
       "      <td>4</td>\n",
       "      <td>0</td>\n",
       "      <td>0</td>\n",
       "    </tr>\n",
       "  </tbody>\n",
       "</table>\n",
       "</div>"
      ],
      "text/plain": [
       "   Unique Key        Created Date          Closed Date Agency  \\\n",
       "0    32305299 2016-01-01 00:00:09  2016-01-01 01:57:32   NYPD   \n",
       "1    32310343 2016-01-01 00:00:40  2016-01-01 03:12:53   NYPD   \n",
       "2    32309107 2016-01-01 00:01:09  2016-01-21 09:20:55    HPD   \n",
       "4    32309212 2016-01-01 00:03:03  2016-01-08 01:13:00    HPD   \n",
       "5    32305983 2016-01-01 00:03:03  2016-01-01 03:24:46   NYPD   \n",
       "\n",
       "         Descriptor   Borough  processing_time  borough_num  month  hour  \\\n",
       "0  Loud Music/Party  BROOKLYN         0.081516            2      1     0   \n",
       "1  Loud Music/Party     BRONX         0.133484            5      1     0   \n",
       "2       NO LIGHTING     BRONX        20.388727            5      1     0   \n",
       "4   ENTIRE BUILDING     BRONX         7.048576            5      1     0   \n",
       "5  Loud Music/Party    QUEENS         0.140081            3      1     0   \n",
       "\n",
       "   weekday  agency_num  processing_time_window  \n",
       "0        4           0                       0  \n",
       "1        4           0                       0  \n",
       "2        4           1                       1  \n",
       "4        4           1                       1  \n",
       "5        4           0                       0  "
      ]
     },
     "execution_count": 33,
     "metadata": {},
     "output_type": "execute_result"
    }
   ],
   "source": [
    "df.head()"
   ]
  },
  {
   "cell_type": "code",
   "execution_count": 48,
   "metadata": {
    "collapsed": true
   },
   "outputs": [],
   "source": [
    "# Question 1: transforming the data\n",
    "def filter_nyc():\n",
    "    df = pd.read_csv('nyc.csv',header=0)\n",
    "\n",
    "    # Your work here\n",
    "    df.drop(\"Unnamed: 0\", axis=1, inplace=True)\n",
    "    df[\"Created Date\"] = pd.to_datetime(df[\"Created Date\"])\n",
    "    df['month'] = df['Created Date'].apply(lambda x:x.month)\n",
    "    df['hour'] = df['Created Date'].apply(lambda x:x.hour)\n",
    "    df['weekday'] = df['Created Date'].apply(lambda x:x.isoweekday())\n",
    "\n",
    "    agency_num = {}\n",
    "    for num, agency in enumerate((df['Agency'].unique())): \n",
    "         agency_num[agency] = num\n",
    "    df['agency_num'] = df['Agency'].apply(lambda x: agency_num[x])\n",
    "    \n",
    "    df[\"Borough\"] = df[\"Borough\"].str.replace('\\d+', '')\n",
    "    df[\"Borough\"] = df[\"Borough\"].str.replace('Unspecified', '')    \n",
    "    df[\"Borough\"] = df[\"Borough\"].str.strip()\n",
    "    df[\"borough_num\"] = df[\"Borough\"].map({\"MANHATTAN\":1, \"BROOKLYN\":2, \"QUEENS\":3, \"STATEN ISLAND\":4, \"BRONX\":5})\n",
    "    df[\"borough_num\"].fillna(0, inplace= True)\n",
    "    df['borough_num'] = df['borough_num'].astype(int)\n",
    "    \n",
    "    def transform_processing(time):\n",
    "        if time > 1:\n",
    "            return 1\n",
    "        else:\n",
    "            return 0\n",
    "    \n",
    "    df[\"processing_time_bucket\"] = df[\"processing_time\"].apply(transform_processing)\n",
    "    \n",
    "    \n",
    "    \n",
    "    df[['hour', 'month', 'weekday', 'agency_num', 'borough_num', 'processing_time_bucket']].to_csv('filtered.csv',index=False)"
   ]
  },
  {
   "cell_type": "code",
   "execution_count": 49,
   "metadata": {
    "collapsed": true
   },
   "outputs": [],
   "source": [
    "filter_nyc()"
   ]
  },
  {
   "cell_type": "code",
   "execution_count": 63,
   "metadata": {},
   "outputs": [],
   "source": [
    "# Question 2: build the model and predict\n",
    "def build_and_predict():\n",
    "    data = pd.read_csv('filtered.csv')\n",
    "    test = pd.read_csv('topredict.csv')\n",
    "    y = data[\"processing_time_bucket\"]\n",
    "    X = data.drop(\"processing_time_bucket\", axis=1)\n",
    "    # Your work here\n",
    "    reg = linear_model.LogisticRegression()\n",
    "    reg.fit(X, y)\n",
    "    predict = reg.predict(test)\n",
    "    frame = pd.DataFrame(predict, columns=[[\"predictions\"]])\n",
    "    frame.to_csv('predictions.csv',index=True,index_label='index')"
   ]
  },
  {
   "cell_type": "code",
   "execution_count": 37,
   "metadata": {
    "collapsed": true
   },
   "outputs": [],
   "source": [
    "data = pd.read_csv('filtered.csv')\n",
    "test = pd.read_csv('topredict.csv')"
   ]
  },
  {
   "cell_type": "code",
   "execution_count": 40,
   "metadata": {},
   "outputs": [],
   "source": [
    "y = data[\"processing_time_bucket\"]"
   ]
  },
  {
   "cell_type": "code",
   "execution_count": 42,
   "metadata": {},
   "outputs": [],
   "source": [
    "X = data.drop(\"processing_time_bucket\", axis=1)"
   ]
  },
  {
   "cell_type": "code",
   "execution_count": 50,
   "metadata": {},
   "outputs": [],
   "source": [
    "reg = linear_model.LogisticRegression()"
   ]
  },
  {
   "cell_type": "code",
   "execution_count": 51,
   "metadata": {},
   "outputs": [
    {
     "data": {
      "text/plain": [
       "LogisticRegression(C=1.0, class_weight=None, dual=False, fit_intercept=True,\n",
       "          intercept_scaling=1, max_iter=100, multi_class='ovr', n_jobs=1,\n",
       "          penalty='l2', random_state=None, solver='liblinear', tol=0.0001,\n",
       "          verbose=0, warm_start=False)"
      ]
     },
     "execution_count": 51,
     "metadata": {},
     "output_type": "execute_result"
    }
   ],
   "source": [
    "reg.fit(X, y)"
   ]
  },
  {
   "cell_type": "code",
   "execution_count": 52,
   "metadata": {
    "collapsed": true
   },
   "outputs": [],
   "source": [
    "predict = reg.predict(test)"
   ]
  },
  {
   "cell_type": "code",
   "execution_count": 53,
   "metadata": {},
   "outputs": [
    {
     "data": {
      "text/plain": [
       "array([1, 0, 0, 1, 1, 0, 0, 0, 0, 1, 0, 0, 1, 1, 0, 1, 1, 0, 0, 0, 1, 0, 1,\n",
       "       0, 0, 0, 1, 0, 1, 0, 0, 1, 0, 0, 1, 1, 1, 0, 1, 0, 1, 0, 0, 1, 0, 1,\n",
       "       1, 0, 0, 0, 1, 0, 0, 0, 0, 1, 1, 0, 0, 0, 0, 1, 0, 0, 0, 0, 1, 0, 1,\n",
       "       0, 0, 0, 1, 0, 1, 1, 1, 0, 0, 0, 0, 0, 1, 0, 1, 0, 0, 0, 0, 0, 0, 1,\n",
       "       0, 1, 0, 0, 0, 1, 1, 0])"
      ]
     },
     "execution_count": 53,
     "metadata": {},
     "output_type": "execute_result"
    }
   ],
   "source": [
    "predict"
   ]
  },
  {
   "cell_type": "code",
   "execution_count": 58,
   "metadata": {},
   "outputs": [],
   "source": [
    "frame = pd.DataFrame(predict, columns=[[\"predictions\"]])"
   ]
  },
  {
   "cell_type": "code",
   "execution_count": 60,
   "metadata": {},
   "outputs": [],
   "source": [
    "frame.index.name = \"index\""
   ]
  },
  {
   "cell_type": "code",
   "execution_count": 61,
   "metadata": {},
   "outputs": [
    {
     "data": {
      "text/html": [
       "<div>\n",
       "<table border=\"1\" class=\"dataframe\">\n",
       "  <thead>\n",
       "    <tr style=\"text-align: right;\">\n",
       "      <th></th>\n",
       "      <th>predictions</th>\n",
       "    </tr>\n",
       "    <tr>\n",
       "      <th>index</th>\n",
       "      <th></th>\n",
       "    </tr>\n",
       "  </thead>\n",
       "  <tbody>\n",
       "    <tr>\n",
       "      <th>0</th>\n",
       "      <td>1</td>\n",
       "    </tr>\n",
       "    <tr>\n",
       "      <th>1</th>\n",
       "      <td>0</td>\n",
       "    </tr>\n",
       "    <tr>\n",
       "      <th>2</th>\n",
       "      <td>0</td>\n",
       "    </tr>\n",
       "    <tr>\n",
       "      <th>3</th>\n",
       "      <td>1</td>\n",
       "    </tr>\n",
       "    <tr>\n",
       "      <th>4</th>\n",
       "      <td>1</td>\n",
       "    </tr>\n",
       "  </tbody>\n",
       "</table>\n",
       "</div>"
      ],
      "text/plain": [
       "       predictions\n",
       "index             \n",
       "0                1\n",
       "1                0\n",
       "2                0\n",
       "3                1\n",
       "4                1"
      ]
     },
     "execution_count": 61,
     "metadata": {},
     "output_type": "execute_result"
    }
   ],
   "source": [
    "frame.head()"
   ]
  },
  {
   "cell_type": "code",
   "execution_count": 64,
   "metadata": {
    "collapsed": true
   },
   "outputs": [],
   "source": [
    "build_and_predict()"
   ]
  },
  {
   "cell_type": "code",
   "execution_count": null,
   "metadata": {
    "collapsed": true
   },
   "outputs": [],
   "source": []
  }
 ],
 "metadata": {
  "kernelspec": {
   "display_name": "Python 3",
   "language": "python",
   "name": "python3"
  },
  "language_info": {
   "codemirror_mode": {
    "name": "ipython",
    "version": 3
   },
   "file_extension": ".py",
   "mimetype": "text/x-python",
   "name": "python",
   "nbconvert_exporter": "python",
   "pygments_lexer": "ipython3",
   "version": "3.6.0"
  }
 },
 "nbformat": 4,
 "nbformat_minor": 2
}
