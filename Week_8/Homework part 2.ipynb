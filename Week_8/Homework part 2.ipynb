{
 "cells": [
  {
   "cell_type": "code",
   "execution_count": 1,
   "metadata": {
    "collapsed": true
   },
   "outputs": [],
   "source": [
    "import pandas as pd\n",
    "import numpy as np\n",
    "import seaborn as sns\n",
    "import matplotlib.pyplot as plt\n",
    "import matplotlib\n",
    "import datetime\n",
    "import seaborn as sns\n",
    "%matplotlib inline\n"
   ]
  },
  {
   "cell_type": "code",
   "execution_count": 2,
   "metadata": {
    "collapsed": true
   },
   "outputs": [],
   "source": [
    "df = pd.read_csv(\"311_data.csv\")\n",
    "df['Created Date'] = df['Created Date'].apply(lambda x:datetime.datetime.strptime(x,'%m/%d/%Y %I:%M:%S %p'))\n",
    "df = df[df[\"Closed Date\"].notnull()]\n",
    "df[\"Closed Date\"] = df[\"Closed Date\"].apply(lambda x:str(x))\n",
    "df['Closed Date'] = df['Closed Date'].apply(lambda x:datetime.datetime.strptime(x,'%m/%d/%Y %I:%M:%S %p'))\n",
    "df[\"processing_time\"] = df[\"Closed Date\"] - df[\"Created Date\"]\n",
    "df[\"start_time_window\"] = df[\"Created Date\"].apply(lambda x:x.hour)"
   ]
  },
  {
   "cell_type": "code",
   "execution_count": 3,
   "metadata": {
    "collapsed": true
   },
   "outputs": [],
   "source": [
    "df['float_time'] =df['processing_time'].apply(lambda x:x/np.timedelta64(1, 'D'))"
   ]
  },
  {
   "cell_type": "code",
   "execution_count": 4,
   "metadata": {},
   "outputs": [
    {
     "data": {
      "text/plain": [
       "<matplotlib.figure.Figure at 0x112c708d0>"
      ]
     },
     "metadata": {},
     "output_type": "display_data"
    },
    {
     "data": {
      "text/plain": [
       "<matplotlib.figure.Figure at 0x11379c438>"
      ]
     },
     "metadata": {},
     "output_type": "display_data"
    },
    {
     "data": {
      "text/plain": [
       "<matplotlib.figure.Figure at 0x116a53a20>"
      ]
     },
     "metadata": {},
     "output_type": "display_data"
    },
    {
     "data": {
      "text/plain": [
       "<matplotlib.figure.Figure at 0x116933a90>"
      ]
     },
     "metadata": {},
     "output_type": "display_data"
    }
   ],
   "source": [
    "plt.gcf().subplots_adjust(bottom=0.15)\n",
    "#Your code starts here\n",
    "grouped = df[['float_time','start_time_window']].groupby('start_time_window')\n",
    "grouped.mean().plot(kind='bar', figsize=(8,5.5))\n",
    "plt.savefig(\"1.png\",dpi=100)\n",
    "plt.clf()\n",
    "\n",
    "sns.boxplot(x=df[\"start_time_window\"], y=df[\"float_time\"])\n",
    "plt.savefig(\"2.png\",dpi=100)\n",
    "plt.clf()\n",
    "\n",
    "grouped = df[['float_time','Agency']].groupby('Agency')\n",
    "grouped.mean().sort_values('float_time',ascending=False).plot(kind='bar', figsize=(8,5.5))\n",
    "plt.savefig(\"3.png\",dpi=100)\n",
    "plt.clf()\n",
    "\n",
    "agency_borough = df.groupby(['Agency', 'Borough'])['float_time'].agg('mean').unstack()\n",
    "#We'll arrange the subplots in two rows and three columns. \n",
    "#Since we have only 5 boroughs, one plot will be blank\n",
    "COL_NUM = 2\n",
    "ROW_NUM = 3\n",
    "fig, axes = plt.subplots(ROW_NUM, COL_NUM, figsize=(12,12))\n",
    "\n",
    "for i, (label, col) in enumerate(agency_borough.iteritems()): \n",
    "    ax = axes[int(i/COL_NUM), i%COL_NUM]\n",
    "    col = col.sort_values(ascending=False)\n",
    "    col.plot(kind='barh', ax=ax)\n",
    "    ax.set_title(label)\n",
    "\n",
    "plt.tight_layout() \n",
    "plt.savefig(\"4.png\",dpi=100)\n",
    "plt.clf()\n"
   ]
  },
  {
   "cell_type": "code",
   "execution_count": 5,
   "metadata": {
    "collapsed": true
   },
   "outputs": [],
   "source": [
    "agency_borough = df.groupby(['Agency', 'Borough'])['float_time'].agg('mean').unstack()"
   ]
  },
  {
   "cell_type": "code",
   "execution_count": 6,
   "metadata": {},
   "outputs": [
    {
     "data": {
      "text/html": [
       "<div>\n",
       "<table border=\"1\" class=\"dataframe\">\n",
       "  <thead>\n",
       "    <tr style=\"text-align: right;\">\n",
       "      <th>Borough</th>\n",
       "      <th>BRONX</th>\n",
       "      <th>BROOKLYN</th>\n",
       "      <th>MANHATTAN</th>\n",
       "      <th>QUEENS</th>\n",
       "      <th>STATEN ISLAND</th>\n",
       "      <th>Unspecified</th>\n",
       "    </tr>\n",
       "    <tr>\n",
       "      <th>Agency</th>\n",
       "      <th></th>\n",
       "      <th></th>\n",
       "      <th></th>\n",
       "      <th></th>\n",
       "      <th></th>\n",
       "      <th></th>\n",
       "    </tr>\n",
       "  </thead>\n",
       "  <tbody>\n",
       "    <tr>\n",
       "      <th>DEP</th>\n",
       "      <td>4.011111</td>\n",
       "      <td>19.220023</td>\n",
       "      <td>4.919618</td>\n",
       "      <td>12.348148</td>\n",
       "      <td>2.937847</td>\n",
       "      <td>NaN</td>\n",
       "    </tr>\n",
       "    <tr>\n",
       "      <th>DHS</th>\n",
       "      <td>0.000266</td>\n",
       "      <td>NaN</td>\n",
       "      <td>0.000463</td>\n",
       "      <td>NaN</td>\n",
       "      <td>NaN</td>\n",
       "      <td>NaN</td>\n",
       "    </tr>\n",
       "    <tr>\n",
       "      <th>DOB</th>\n",
       "      <td>NaN</td>\n",
       "      <td>3.965768</td>\n",
       "      <td>2.971794</td>\n",
       "      <td>0.000000</td>\n",
       "      <td>NaN</td>\n",
       "      <td>NaN</td>\n",
       "    </tr>\n",
       "    <tr>\n",
       "      <th>DOHMH</th>\n",
       "      <td>2.996586</td>\n",
       "      <td>3.292095</td>\n",
       "      <td>60.926354</td>\n",
       "      <td>NaN</td>\n",
       "      <td>NaN</td>\n",
       "      <td>NaN</td>\n",
       "    </tr>\n",
       "    <tr>\n",
       "      <th>DOT</th>\n",
       "      <td>1.707337</td>\n",
       "      <td>3.305910</td>\n",
       "      <td>1.760639</td>\n",
       "      <td>13.571032</td>\n",
       "      <td>NaN</td>\n",
       "      <td>16.644284</td>\n",
       "    </tr>\n",
       "    <tr>\n",
       "      <th>DPR</th>\n",
       "      <td>NaN</td>\n",
       "      <td>0.058727</td>\n",
       "      <td>NaN</td>\n",
       "      <td>NaN</td>\n",
       "      <td>NaN</td>\n",
       "      <td>NaN</td>\n",
       "    </tr>\n",
       "    <tr>\n",
       "      <th>DSNY</th>\n",
       "      <td>4.141667</td>\n",
       "      <td>1.186048</td>\n",
       "      <td>2.647569</td>\n",
       "      <td>0.903472</td>\n",
       "      <td>2.268750</td>\n",
       "      <td>NaN</td>\n",
       "    </tr>\n",
       "    <tr>\n",
       "      <th>FDNY</th>\n",
       "      <td>NaN</td>\n",
       "      <td>5.468623</td>\n",
       "      <td>NaN</td>\n",
       "      <td>NaN</td>\n",
       "      <td>NaN</td>\n",
       "      <td>NaN</td>\n",
       "    </tr>\n",
       "    <tr>\n",
       "      <th>HPD</th>\n",
       "      <td>7.797139</td>\n",
       "      <td>7.412919</td>\n",
       "      <td>6.889536</td>\n",
       "      <td>8.656059</td>\n",
       "      <td>5.701742</td>\n",
       "      <td>1.001412</td>\n",
       "    </tr>\n",
       "    <tr>\n",
       "      <th>HRA</th>\n",
       "      <td>NaN</td>\n",
       "      <td>NaN</td>\n",
       "      <td>NaN</td>\n",
       "      <td>NaN</td>\n",
       "      <td>NaN</td>\n",
       "      <td>0.000193</td>\n",
       "    </tr>\n",
       "    <tr>\n",
       "      <th>NYPD</th>\n",
       "      <td>0.387209</td>\n",
       "      <td>0.158518</td>\n",
       "      <td>0.124590</td>\n",
       "      <td>0.144342</td>\n",
       "      <td>0.134527</td>\n",
       "      <td>0.914039</td>\n",
       "    </tr>\n",
       "    <tr>\n",
       "      <th>TLC</th>\n",
       "      <td>28.290984</td>\n",
       "      <td>64.441590</td>\n",
       "      <td>64.606314</td>\n",
       "      <td>54.159130</td>\n",
       "      <td>NaN</td>\n",
       "      <td>NaN</td>\n",
       "    </tr>\n",
       "  </tbody>\n",
       "</table>\n",
       "</div>"
      ],
      "text/plain": [
       "Borough      BRONX   BROOKLYN  MANHATTAN     QUEENS  STATEN ISLAND  \\\n",
       "Agency                                                               \n",
       "DEP       4.011111  19.220023   4.919618  12.348148       2.937847   \n",
       "DHS       0.000266        NaN   0.000463        NaN            NaN   \n",
       "DOB            NaN   3.965768   2.971794   0.000000            NaN   \n",
       "DOHMH     2.996586   3.292095  60.926354        NaN            NaN   \n",
       "DOT       1.707337   3.305910   1.760639  13.571032            NaN   \n",
       "DPR            NaN   0.058727        NaN        NaN            NaN   \n",
       "DSNY      4.141667   1.186048   2.647569   0.903472       2.268750   \n",
       "FDNY           NaN   5.468623        NaN        NaN            NaN   \n",
       "HPD       7.797139   7.412919   6.889536   8.656059       5.701742   \n",
       "HRA            NaN        NaN        NaN        NaN            NaN   \n",
       "NYPD      0.387209   0.158518   0.124590   0.144342       0.134527   \n",
       "TLC      28.290984  64.441590  64.606314  54.159130            NaN   \n",
       "\n",
       "Borough  Unspecified  \n",
       "Agency                \n",
       "DEP              NaN  \n",
       "DHS              NaN  \n",
       "DOB              NaN  \n",
       "DOHMH            NaN  \n",
       "DOT        16.644284  \n",
       "DPR              NaN  \n",
       "DSNY             NaN  \n",
       "FDNY             NaN  \n",
       "HPD         1.001412  \n",
       "HRA         0.000193  \n",
       "NYPD        0.914039  \n",
       "TLC              NaN  "
      ]
     },
     "execution_count": 6,
     "metadata": {},
     "output_type": "execute_result"
    }
   ],
   "source": [
    "agency_borough"
   ]
  },
  {
   "cell_type": "code",
   "execution_count": 7,
   "metadata": {
    "scrolled": true
   },
   "outputs": [
    {
     "data": {
      "image/png": "[encoded data removed]",
      "text/plain": [
       "<matplotlib.figure.Figure at 0x116ef9780>"
      ]
     },
     "metadata": {},
     "output_type": "display_data"
    }
   ],
   "source": [
    "#We'll arrange the subplots in two rows and three columns. \n",
    "#Since we have only 5 boroughs, one plot will be blank\n",
    "COL_NUM = 2\n",
    "ROW_NUM = 3\n",
    "import matplotlib.pyplot as plt\n",
    "fig, axes = plt.subplots(ROW_NUM, COL_NUM, figsize=(12,12))\n",
    "\n",
    "for i, (label, col) in enumerate(agency_borough.iteritems()): \n",
    "    ax = axes[int(i/COL_NUM), i%COL_NUM]\n",
    "    col = col.sort_values(ascending=False)\n",
    "    col.plot(kind='barh', ax=ax)\n",
    "    ax.set_title(label)\n",
    "\n",
    "plt.tight_layout() "
   ]
  },
  {
   "cell_type": "code",
   "execution_count": null,
   "metadata": {
    "collapsed": true
   },
   "outputs": [],
   "source": []
  }
 ],
 "metadata": {
  "kernelspec": {
   "display_name": "Python 3",
   "language": "python",
   "name": "python3"
  },
  "language_info": {
   "codemirror_mode": {
    "name": "ipython",
    "version": 3
   },
   "file_extension": ".py",
   "mimetype": "text/x-python",
   "name": "python",
   "nbconvert_exporter": "python",
   "pygments_lexer": "ipython3",
   "version": "3.6.0"
  }
 },
 "nbformat": 4,
 "nbformat_minor": 2
}
