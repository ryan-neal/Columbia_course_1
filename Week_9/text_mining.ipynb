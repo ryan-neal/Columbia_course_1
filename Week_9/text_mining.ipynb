{
 "cells": [
  {
   "cell_type": "code",
   "execution_count": 3,
   "metadata": {
    "collapsed": true
   },
   "outputs": [],
   "source": [
    "import nltk"
   ]
  },
  {
   "cell_type": "markdown",
   "metadata": {},
   "source": [
    "<h1>Working with text!</h1>\n"
   ]
  },
  {
   "cell_type": "markdown",
   "metadata": {},
   "source": [
    "<h2>Sentiment Analysis</h2>\n",
    "Identify entities and emotions in a sentence and use these to determine if the entity is being viewed positively or negatively"
   ]
  },
  {
   "cell_type": "markdown",
   "metadata": {},
   "source": [
    "<h3>Easy examples</h3>\n",
    "<li>I had an <b style=\"color:green\">excellent</b> souffle at the restaurant Cavity Maker</li>\n",
    "<li>Excellent is a positive word for both the souffle as well as for the restaurant</li>"
   ]
  },
  {
   "cell_type": "markdown",
   "metadata": {},
   "source": [
    "<h3>Not so easy examples</h3>\n",
    "<h4>Often, looking at words alone is not enough to figure out the sentiment</h4>\n",
    "<li><i>The Girl on the Train is an <span style=\"color:green\">excellent</span> book for a ‘stuck at home’ snow day</i></li> This one is easy since it includes an explicit positive opinion using a positive word\n",
    "<li><i>The Girl on the Train is an <span style=\"color:green\">excellent</span> book for using as a liner for your cat’s litter box</i></li> Not so simple! The positive word \"excellent\" is used with a negative connotation. \n",
    "<li><i>The Girl on the Train is <span style=\"color:green\">better</span> than Gone Girl</i></li> The positive word is used as a comparator. Whether the writer likes The Girl on the Train or not depends on what he or she thinks of Gone Girl"
   ]
  },
  {
   "cell_type": "markdown",
   "metadata": {},
   "source": [
    "<h4>Bottom line</h4>\n",
    "Sentiment analysis is generally a starting point in analyzing a text and is then coupled with other techniques (e.g., topic analysis)"
   ]
  },
  {
   "cell_type": "markdown",
   "metadata": {},
   "source": [
    "<h2>Sentiment analysis is usually done using a corpus of positive and negative words</h2>\n",
    "<li>Some sources compile lists of positive and negative words\n",
    "<li>Others include the polarity - the degree of positivity or negativity - of each word"
   ]
  },
  {
   "cell_type": "markdown",
   "metadata": {},
   "source": [
    "<h2>Sources of sentiment coded words</h2>\n",
    "<ol>\n",
    "<li>Hu and Liu's sentiment analysis lexicon: words coded as either positive or negative</li>\n",
    "<ul>\n",
    "<li>http://ptrckprry.com/course/ssd/data/positive-words.txt\n",
    "<li>http://ptrckprry.com/course/ssd/data/negative-words.txt\n",
    "</ul>\n",
    "<li>NRC Emotion Lexicon: words coded into emotional categories (many languages)</li>\n",
    "<ul>\n",
    "<li>http://saifmohammad.com/WebPages/NRC-Emotion-Lexicon.htm</li>\n",
    "</ul>\n",
    "<li>SentiWordNet: Lists of words weighted by positive or negative sentiment. Includes guidance on how to use the words</li>\n",
    "<ul>\n",
    "<li>http://sentiwordnet.isti.cnr.it/</li>\n",
    "</ul>\n",
    "<li>Vadar Sentiment tool: 7800 words with positive or negative polarity</li>\n",
    "<ul>\n",
    "<li>Included with python nltk</li>\n",
    "</ul>\n",
    "</ol>"
   ]
  },
  {
   "cell_type": "markdown",
   "metadata": {},
   "source": [
    "<h2>Our examples</h2>\n",
    "<li>Compiled set of 15 reviews each of four neighborhood restaurants\n",
    "<li>Presidential inaugural addresses (from Washington to Trump)\n",
    "<li>Some data from yelp (very limited!)"
   ]
  },
  {
   "cell_type": "markdown",
   "metadata": {},
   "source": [
    "<h3>Simple sentiment analysis</h3>\n",
    "Compute the proportion of positive and negative words in a text"
   ]
  },
  {
   "cell_type": "code",
   "execution_count": 4,
   "metadata": {
    "collapsed": true
   },
   "outputs": [],
   "source": [
    "def get_words(url):\n",
    "    import requests\n",
    "    words = requests.get(url).content.decode('latin-1')\n",
    "    word_list = words.split('\\n')\n",
    "    index = 0\n",
    "    while index < len(word_list):\n",
    "        word = word_list[index]\n",
    "        if ';' in word or not word:\n",
    "            word_list.pop(index)\n",
    "        else:\n",
    "            index+=1\n",
    "    return word_list\n",
    "\n",
    "#Get lists of positive and negative words\n",
    "p_url = 'http://ptrckprry.com/course/ssd/data/positive-words.txt'\n",
    "n_url = 'http://ptrckprry.com/course/ssd/data/negative-words.txt'\n",
    "positive_words = get_words(p_url)\n",
    "negative_words = get_words(n_url)"
   ]
  },
  {
   "cell_type": "markdown",
   "metadata": {},
   "source": [
    "<h4>Read the text being analyzed and count the proportion of positive and negative words in the text</h4>\n"
   ]
  },
  {
   "cell_type": "code",
   "execution_count": 5,
   "metadata": {
    "collapsed": true
   },
   "outputs": [],
   "source": [
    "with open('data/community.txt','r') as f:\n",
    "    community = f.read()\n",
    "with open('data/le_monde.txt','r') as f:\n",
    "    le_monde = f.read()\n"
   ]
  },
  {
   "cell_type": "markdown",
   "metadata": {},
   "source": [
    "<h4>Compute sentiment by looking at the proportion of positive and negative words in the text</h4>"
   ]
  },
  {
   "cell_type": "code",
   "execution_count": 6,
   "metadata": {},
   "outputs": [
    {
     "name": "stdout",
     "output_type": "stream",
     "text": [
      "community 5.09%\t 1.12%\t 3.97%\n",
      "le monde  5.33%\t 1.49%\t 3.85%\n"
     ]
    }
   ],
   "source": [
    "from nltk import word_tokenize\n",
    "cpos = cneg = lpos = lneg = 0\n",
    "for word in word_tokenize(community):\n",
    "    if word in positive_words:\n",
    "        cpos+=1\n",
    "    if word in negative_words:\n",
    "        cneg+=1\n",
    "for word in word_tokenize(le_monde):\n",
    "    if word in positive_words:\n",
    "        lpos+=1\n",
    "    if word in negative_words:\n",
    "        lneg+=1\n",
    "print(\"community {0:1.2f}%\\t {1:1.2f}%\\t {2:1.2f}%\".format(cpos/len(word_tokenize(community))*100,\n",
    "                                                        cneg/len(word_tokenize(community))*100,\n",
    "                                                        (cpos-cneg)/len(word_tokenize(community))*100))\n",
    "print(\"le monde  {0:1.2f}%\\t {1:1.2f}%\\t {2:1.2f}%\".format(lpos/len(word_tokenize(le_monde))*100,\n",
    "                                                        lneg/len(word_tokenize(le_monde))*100,\n",
    "                                                        (lpos-lneg)/len(word_tokenize(le_monde))*100))\n"
   ]
  },
  {
   "cell_type": "markdown",
   "metadata": {},
   "source": [
    "<h2>Simple sentiment analysis using NRC data</h2>\n",
    "<li>NRC data codifies words with emotions</li>\n",
    "<li>14,182 words are coded into 2 sentiments and 8 emotions</li>\n"
   ]
  },
  {
   "cell_type": "markdown",
   "metadata": {},
   "source": [
    "<h4>For example, the word abandonment is associated with anger, fear, sadness and has a negative sentiment</h4>\n",
    "<li>abandoned\tanger\t1\n",
    "<li>abandoned\tanticipation\t0\n",
    "<li>abandoned\tdisgust\t0\n",
    "<li>abandoned\tfear\t1\n",
    "<li>abandoned\tjoy\t0\n",
    "<li>abandoned\tnegative\t1\n",
    "<li>abandoned\tpositive\t0\n",
    "<li>abandoned\tsadness\t1\n",
    "<li>abandoned\tsurprise\t0\n",
    "<li>abandoned\ttrust\t0"
   ]
  },
  {
   "cell_type": "markdown",
   "metadata": {},
   "source": [
    "<h4>Read the NRC sentiment data</h4>"
   ]
  },
  {
   "cell_type": "code",
   "execution_count": 7,
   "metadata": {
    "collapsed": true
   },
   "outputs": [],
   "source": [
    "nrc = \"data/NRC-emotion-lexicon-wordlevel-alphabetized-v0.92.txt\"\n",
    "count=0\n",
    "emotion_dict=dict()\n",
    "with open(nrc,'r') as f:\n",
    "    all_lines = list()\n",
    "    for line in f:\n",
    "        if count < 46:\n",
    "            count+=1\n",
    "            continue\n",
    "        line = line.strip().split('\\t')\n",
    "        if int(line[2]) == 1:\n",
    "            if emotion_dict.get(line[0]):\n",
    "                emotion_dict[line[0]].append(line[1])\n",
    "            else:\n",
    "                emotion_dict[line[0]] = [line[1]]\n",
    "        "
   ]
  },
  {
   "cell_type": "markdown",
   "metadata": {},
   "source": [
    "<h4>Functionalize this</h4>"
   ]
  },
  {
   "cell_type": "code",
   "execution_count": 8,
   "metadata": {
    "collapsed": true
   },
   "outputs": [],
   "source": [
    "def get_nrc_data():\n",
    "    nrc = \"data/NRC-emotion-lexicon-wordlevel-alphabetized-v0.92.txt\"\n",
    "    count=0\n",
    "    emotion_dict=dict()\n",
    "    with open(nrc,'r') as f:\n",
    "        all_lines = list()\n",
    "        for line in f:\n",
    "            if count < 46:\n",
    "                count+=1\n",
    "                continue\n",
    "            line = line.strip().split('\\t')\n",
    "            if int(line[2]) == 1:\n",
    "                if emotion_dict.get(line[0]):\n",
    "                    emotion_dict[line[0]].append(line[1])\n",
    "                else:\n",
    "                    emotion_dict[line[0]] = [line[1]]\n",
    "    return emotion_dict"
   ]
  },
  {
   "cell_type": "code",
   "execution_count": 9,
   "metadata": {},
   "outputs": [
    {
     "data": {
      "text/plain": [
       "['anger', 'fear', 'negative', 'sadness']"
      ]
     },
     "execution_count": 9,
     "metadata": {},
     "output_type": "execute_result"
    }
   ],
   "source": [
    "emotion_dict = get_nrc_data()\n",
    "emotion_dict['abandoned']"
   ]
  },
  {
   "cell_type": "markdown",
   "metadata": {},
   "source": [
    "<h2>Analyzing yelp reviews</h2>\n",
    "<h4>Caveat: We're only looking at one review snippet for each restaurant</h4>\n",
    "<ol>\n",
    "<li>Download yelp python \"pip install yelp\"\n",
    "<li>Register with yelp https://www.yelp.com/developers/manage_api_keys (use anything for the host)\n",
    "<li>Copy the various keys into variables as below\n",
    "</ol>\n",
    "<h4>We'll see what we can figure out re reviews of restaurants close to Columbia</h4>\n",
    "<h4>First let's read in the yelp keys</h4>"
   ]
  },
  {
   "cell_type": "code",
   "execution_count": 10,
   "metadata": {
    "collapsed": true
   },
   "outputs": [],
   "source": [
    "CONSUMER_KEY = \"\"\n",
    "CONSUMER_SECRET = \"\"\n",
    "TOKEN = \"\"\n",
    "TOKEN_SECRET = \"\""
   ]
  },
  {
   "cell_type": "markdown",
   "metadata": {},
   "source": [
    "<h2>I've saved my keys in a file and will use those. Don't run the next cell!</h2>"
   ]
  },
  {
   "cell_type": "code",
   "execution_count": 11,
   "metadata": {},
   "outputs": [
    {
     "ename": "FileNotFoundError",
     "evalue": "[Errno 2] No such file or directory: 'yelp_keys.txt'",
     "output_type": "error",
     "traceback": [
      "\u001b[0;31m---------------------------------------------------------------------------\u001b[0m",
      "\u001b[0;31mFileNotFoundError\u001b[0m                         Traceback (most recent call last)",
      "\u001b[0;32m<ipython-input-11-835187ad02ae>\u001b[0m in \u001b[0;36m<module>\u001b[0;34m()\u001b[0m\n\u001b[0;32m----> 1\u001b[0;31m \u001b[0;32mwith\u001b[0m \u001b[0mopen\u001b[0m\u001b[0;34m(\u001b[0m\u001b[0;34m'yelp_keys.txt'\u001b[0m\u001b[0;34m,\u001b[0m\u001b[0;34m'r'\u001b[0m\u001b[0;34m)\u001b[0m \u001b[0;32mas\u001b[0m \u001b[0mf\u001b[0m\u001b[0;34m:\u001b[0m\u001b[0;34m\u001b[0m\u001b[0m\n\u001b[0m\u001b[1;32m      2\u001b[0m     \u001b[0mcount\u001b[0m \u001b[0;34m=\u001b[0m \u001b[0;36m0\u001b[0m\u001b[0;34m\u001b[0m\u001b[0m\n\u001b[1;32m      3\u001b[0m     \u001b[0;32mfor\u001b[0m \u001b[0mline\u001b[0m \u001b[0;32min\u001b[0m \u001b[0mf\u001b[0m\u001b[0;34m:\u001b[0m\u001b[0;34m\u001b[0m\u001b[0m\n\u001b[1;32m      4\u001b[0m         \u001b[0;32mif\u001b[0m \u001b[0mcount\u001b[0m \u001b[0;34m==\u001b[0m \u001b[0;36m0\u001b[0m\u001b[0;34m:\u001b[0m\u001b[0;34m\u001b[0m\u001b[0m\n\u001b[1;32m      5\u001b[0m             \u001b[0mCONSUMER_KEY\u001b[0m \u001b[0;34m=\u001b[0m \u001b[0mline\u001b[0m\u001b[0;34m.\u001b[0m\u001b[0mstrip\u001b[0m\u001b[0;34m(\u001b[0m\u001b[0;34m)\u001b[0m\u001b[0;34m\u001b[0m\u001b[0m\n",
      "\u001b[0;31mFileNotFoundError\u001b[0m: [Errno 2] No such file or directory: 'yelp_keys.txt'"
     ]
    }
   ],
   "source": [
    "with open('yelp_keys.txt','r') as f:\n",
    "    count = 0\n",
    "    for line in f:\n",
    "        if count == 0:\n",
    "            CONSUMER_KEY = line.strip()\n",
    "        if count == 1:\n",
    "            CONSUMER_SECRET = line.strip()\n",
    "        if count == 2:\n",
    "            TOKEN = line.strip()\n",
    "        if count == 3:\n",
    "            TOKEN_SECRET = line.strip()\n",
    "        count+=1\n"
   ]
  },
  {
   "cell_type": "markdown",
   "metadata": {},
   "source": [
    "<h4>We need to do a few things</h4>\n",
    "<ul>\n",
    "<li>Get the latitude and longitude of our location\n",
    "<li>Set up the parameters for what data we want from yelp\n",
    "<li>Query yelp by passing authentication info as well as our parameters\n",
    "<li>Extract review snippets\n",
    "<li>And append into a containing (restaurant,review snippet) tuples\n",
    "</ul>"
   ]
  },
  {
   "cell_type": "code",
   "execution_count": null,
   "metadata": {
    "collapsed": true
   },
   "outputs": [],
   "source": [
    "#We'll use the get_lat_lng function we wrote way back in week 3\n",
    "def get_lat_lng(address):\n",
    "    url = 'https://maps.googleapis.com/maps/api/geocode/json?address='\n",
    "    url += address\n",
    "    import requests\n",
    "    response = requests.get(url)\n",
    "    if not (response.status_code == 200):\n",
    "        return None\n",
    "    data = response.json()\n",
    "    if not( data['status'] == 'OK'):\n",
    "        return None\n",
    "    main_result = data['results'][0]\n",
    "    geometry = main_result['geometry']\n",
    "    latitude = geometry['location']['lat']\n",
    "    longitude = geometry['location']['lng']\n",
    "    return latitude,longitude\n"
   ]
  },
  {
   "cell_type": "code",
   "execution_count": null,
   "metadata": {
    "collapsed": true
   },
   "outputs": [],
   "source": [
    "lat,long = get_lat_lng(\"Columbia University\")"
   ]
  },
  {
   "cell_type": "code",
   "execution_count": null,
   "metadata": {
    "collapsed": true
   },
   "outputs": [],
   "source": [
    "#Now set up our search parameters\n",
    "def set_search_parameters(lat,long,radius):\n",
    "  #See the Yelp API for more details\n",
    "    params = {}\n",
    "    params[\"term\"] = \"restaurant\"\n",
    "    params[\"ll\"] = \"{},{}\".format(str(lat),str(long))\n",
    "    params[\"radius_filter\"] = str(radius) #The distance around our point in metres\n",
    "    params[\"limit\"] = \"10\" #Limit ourselves to 10 results\n",
    " \n",
    "    return params"
   ]
  },
  {
   "cell_type": "code",
   "execution_count": null,
   "metadata": {
    "collapsed": true
   },
   "outputs": [],
   "source": [
    "set_search_parameters(lat,long,200)"
   ]
  },
  {
   "cell_type": "markdown",
   "metadata": {},
   "source": [
    "<h4>Write the function that queries yelp. We'll use rauth library to handle authentication</h4>\n",
    "!pip install rauth"
   ]
  },
  {
   "cell_type": "code",
   "execution_count": null,
   "metadata": {
    "collapsed": true
   },
   "outputs": [],
   "source": [
    "def get_results(params):\n",
    "    import rauth\n",
    "    consumer_key = CONSUMER_KEY\n",
    "    consumer_secret = CONSUMER_SECRET\n",
    "    token = TOKEN\n",
    "    token_secret = TOKEN_SECRET\n",
    "\n",
    "    session = rauth.OAuth1Session(\n",
    "    consumer_key = consumer_key\n",
    "    ,consumer_secret = consumer_secret\n",
    "    ,access_token = token\n",
    "    ,access_token_secret = token_secret)\n",
    "\n",
    "    request = session.get(\"http://api.yelp.com/v2/search\",params=params)\n",
    "    #Transforms the JSON API response into a Python dictionary\n",
    "    data = request.json()\n",
    "    session.close()\n",
    "\n",
    "    return data\n"
   ]
  },
  {
   "cell_type": "code",
   "execution_count": null,
   "metadata": {
    "collapsed": true
   },
   "outputs": [],
   "source": [
    "#Get the results\n",
    "response = get_results(set_search_parameters(get_lat_lng(\"Community Food and Juice\")[0],get_lat_lng(\"Community Food and Juice\")[1],200))"
   ]
  },
  {
   "cell_type": "markdown",
   "metadata": {},
   "source": [
    "<h4>Extract snippets</h4>"
   ]
  },
  {
   "cell_type": "code",
   "execution_count": null,
   "metadata": {
    "collapsed": true
   },
   "outputs": [],
   "source": [
    "all_snippets = list()\n",
    "for business in response['businesses']:\n",
    "    name = business['name']\n",
    "    snippet = business['snippet_text']\n",
    "    id = business['id']\n",
    "    all_snippets.append((id,name,snippet))\n",
    "all_snippets"
   ]
  },
  {
   "cell_type": "markdown",
   "metadata": {},
   "source": [
    "<h4>Functionalize this</h4>\n"
   ]
  },
  {
   "cell_type": "code",
   "execution_count": null,
   "metadata": {
    "collapsed": true
   },
   "outputs": [],
   "source": [
    "def get_snippets(response):\n",
    "    all_snippets = list()\n",
    "    for business in response['businesses']:\n",
    "        name = business['name']\n",
    "        snippet = business['snippet_text']\n",
    "        id = business['id']\n",
    "        all_snippets.append((id,name,snippet))\n",
    "    return all_snippets\n"
   ]
  },
  {
   "cell_type": "markdown",
   "metadata": {},
   "source": [
    "<h2>A function that analyzes emotions</h2>"
   ]
  },
  {
   "cell_type": "code",
   "execution_count": null,
   "metadata": {
    "collapsed": true
   },
   "outputs": [],
   "source": [
    "def emotion_analyzer(text,emotion_dict=emotion_dict):\n",
    "    #Set up the result dictionary\n",
    "    emotions = {x for y in emotion_dict.values() for x in y}\n",
    "    emotion_count = dict()\n",
    "    for emotion in emotions:\n",
    "        emotion_count[emotion] = 0\n",
    "\n",
    "    #Analyze the text and normalize by total number of words\n",
    "    total_words = len(text.split())\n",
    "    for word in text.split():\n",
    "        if emotion_dict.get(word):\n",
    "            for emotion in emotion_dict.get(word):\n",
    "                emotion_count[emotion] += 1/len(text.split())\n",
    "    return emotion_count"
   ]
  },
  {
   "cell_type": "markdown",
   "metadata": {},
   "source": [
    "<h4>Now we can analyze the emotional content of the review snippets</h4>"
   ]
  },
  {
   "cell_type": "code",
   "execution_count": null,
   "metadata": {
    "collapsed": true
   },
   "outputs": [],
   "source": [
    "print(\"%-12s %1s\\t%1s %1s %1s %1s   %1s %1s %1s %1s\"%(\n",
    "        \"restaurant\",\"fear\",\"trust\",\"negative\",\"positive\",\"joy\",\"disgust\",\"anticip\",\n",
    "        \"sadness\",\"surprise\"))\n",
    "        \n",
    "for snippet in all_snippets:\n",
    "    text = snippet[2]\n",
    "    result = emotion_analyzer(text)\n",
    "    print(\"%-12s %1.2f\\t%1.2f\\t%1.2f\\t%1.2f\\t%1.2f\\t%1.2f\\t%1.2f\\t%1.2f\\t%1.2f\"%(\n",
    "        snippet[1][0:10],result['fear'],result['trust'],\n",
    "          result['negative'],result['positive'],result['joy'],result['disgust'],\n",
    "          result['anticipation'],result['sadness'],result['surprise']))\n"
   ]
  },
  {
   "cell_type": "markdown",
   "metadata": {},
   "source": [
    "<h4>Let's functionalize this</h4>"
   ]
  },
  {
   "cell_type": "code",
   "execution_count": null,
   "metadata": {
    "collapsed": true
   },
   "outputs": [],
   "source": [
    "def comparative_emotion_analyzer(text_tuples):\n",
    "    print(\"%-20s %1s\\t%1s %1s %1s %1s   %1s %1s %1s %1s\"%(\n",
    "            \"restaurant\",\"fear\",\"trust\",\"negative\",\"positive\",\"joy\",\"disgust\",\"anticip\",\n",
    "            \"sadness\",\"surprise\"))\n",
    "        \n",
    "    for text_tuple in text_tuples:\n",
    "        text = text_tuple[2] \n",
    "        result = emotion_analyzer(text)\n",
    "        print(\"%-20s %1.2f\\t%1.2f\\t%1.2f\\t%1.2f\\t%1.2f\\t%1.2f\\t%1.2f\\t%1.2f\\t%1.2f\"%(\n",
    "            text_tuple[1][0:20],result['fear'],result['trust'],\n",
    "              result['negative'],result['positive'],result['joy'],result['disgust'],\n",
    "              result['anticipation'],result['sadness'],result['surprise']))\n",
    "        \n",
    "#And test it        \n",
    "comparative_emotion_analyzer(all_snippets)"
   ]
  },
  {
   "cell_type": "markdown",
   "metadata": {},
   "source": [
    "<h4>And let's functionalize the yelp stuff as well</h4>"
   ]
  },
  {
   "cell_type": "code",
   "execution_count": null,
   "metadata": {
    "collapsed": true
   },
   "outputs": [],
   "source": [
    "def analyze_nearby_restaurants(address,radius):\n",
    "    lat,long = get_lat_lng(address)\n",
    "    params = set_search_parameters(lat,long,radius)\n",
    "    response = get_results(params)\n",
    "    snippets = get_snippets(response)\n",
    "    comparative_emotion_analyzer(snippets)\n",
    "\n",
    "#And test it    \n",
    "analyze_nearby_restaurants(\"Community Food and Juice\",200)\n",
    "    "
   ]
  },
  {
   "cell_type": "code",
   "execution_count": null,
   "metadata": {
    "collapsed": true
   },
   "outputs": [],
   "source": [
    "#Test it on some other place\n",
    "analyze_nearby_restaurants(\"221 Baker Street\",200)"
   ]
  },
  {
   "cell_type": "markdown",
   "metadata": {},
   "source": [
    "<h2>Simple analysis: Word Clouds</h2>"
   ]
  },
  {
   "cell_type": "markdown",
   "metadata": {},
   "source": [
    "<h4>Let's see what sort of words the snippets use</h4>\n",
    "<li>First we'll combine all snippets into one string\n",
    "<li>Then we'll generate a word cloud using the words in the string\n",
    "<li>You may need to install wordcloud using pip\n",
    "<li>pip install wordcloud"
   ]
  },
  {
   "cell_type": "code",
   "execution_count": null,
   "metadata": {
    "collapsed": true
   },
   "outputs": [],
   "source": [
    "all_snippets"
   ]
  },
  {
   "cell_type": "code",
   "execution_count": null,
   "metadata": {
    "collapsed": true
   },
   "outputs": [],
   "source": [
    "text=''\n",
    "for snippet in all_snippets:\n",
    "    text+=snippet[2]\n",
    "text"
   ]
  },
  {
   "cell_type": "code",
   "execution_count": null,
   "metadata": {
    "collapsed": true
   },
   "outputs": [],
   "source": [
    "from wordcloud import WordCloud, STOPWORDS\n",
    "import matplotlib.pyplot as plt\n",
    "%matplotlib inline\n",
    "\n",
    "wordcloud = WordCloud(stopwords=STOPWORDS,background_color='white',width=3000,height=3000).generate(text)\n",
    "\n",
    "\n",
    "plt.imshow(wordcloud)\n",
    "plt.axis('off')\n",
    "plt.show()"
   ]
  },
  {
   "cell_type": "markdown",
   "metadata": {},
   "source": [
    "<h2>Let's do a detailed comparison of local restaurants</h2>\n",
    "<h4>I've saved a few reviews for each restaurant in four directories</h4>\n",
    "<h4>We'll use the PlainTextCorpusReader to read these directories</h4>\n",
    "<li>PlainTextCorpusReader reads all matching files in a directory and saves them by file-ids"
   ]
  },
  {
   "cell_type": "code",
   "execution_count": null,
   "metadata": {
    "collapsed": true
   },
   "outputs": [],
   "source": [
    "import nltk\n",
    "from nltk.corpus import PlaintextCorpusReader\n",
    "community_root = \"data/community\"\n",
    "le_monde_root = \"data/le_monde\"\n",
    "community_files = \"community.*\"\n",
    "le_monde_files = \"le_monde.*\"\n",
    "heights_root = \"data/heights\"\n",
    "heights_files = \"heights.*\"\n",
    "amigos_root = \"data/amigos\"\n",
    "amigos_files = \"amigos.*\"\n",
    "community_data = PlaintextCorpusReader(community_root,community_files)\n",
    "le_monde_data = PlaintextCorpusReader(le_monde_root,le_monde_files)\n",
    "heights_data = PlaintextCorpusReader(heights_root,heights_files)\n",
    "amigos_data = PlaintextCorpusReader(amigos_root,amigos_files)"
   ]
  },
  {
   "cell_type": "code",
   "execution_count": null,
   "metadata": {
    "collapsed": true
   },
   "outputs": [],
   "source": [
    "amigos_data.fileids()"
   ]
  },
  {
   "cell_type": "code",
   "execution_count": null,
   "metadata": {
    "collapsed": true
   },
   "outputs": [],
   "source": [
    "amigos_data.raw()"
   ]
  },
  {
   "cell_type": "markdown",
   "metadata": {},
   "source": [
    "<h4>We need to modify comparitive_emotion_analyzer to tell it where the restaurant name and the text is in the tuple</h4>"
   ]
  },
  {
   "cell_type": "code",
   "execution_count": null,
   "metadata": {
    "collapsed": true
   },
   "outputs": [],
   "source": [
    "def comparative_emotion_analyzer(text_tuples,name_location=1,text_location=2):\n",
    "    print(\"%-20s %1s\\t%1s %1s %1s %1s   %1s %1s %1s %1s\"%(\n",
    "            \"restaurant\",\"fear\",\"trust\",\"negative\",\"positive\",\"joy\",\"disgust\",\"anticip\",\n",
    "            \"sadness\",\"surprise\"))\n",
    "        \n",
    "    for text_tuple in text_tuples:\n",
    "        text = text_tuple[text_location] \n",
    "        result = emotion_analyzer(text)\n",
    "        print(\"%-20s %1.2f\\t%1.2f\\t%1.2f\\t%1.2f\\t%1.2f\\t%1.2f\\t%1.2f\\t%1.2f\\t%1.2f\"%(\n",
    "            text_tuple[name_location][0:20],result['fear'],result['trust'],\n",
    "              result['negative'],result['positive'],result['joy'],result['disgust'],\n",
    "              result['anticipation'],result['sadness'],result['surprise']))\n",
    "        \n",
    "#And test it        \n",
    "#comparative_emotion_analyzer(all_snippets)"
   ]
  },
  {
   "cell_type": "code",
   "execution_count": null,
   "metadata": {
    "collapsed": true
   },
   "outputs": [],
   "source": [
    "restaurant_data = [('community',community_data.raw()),('le monde',le_monde_data.raw())\n",
    "                  ,('heights',heights_data.raw()), ('amigos',amigos_data.raw())]\n",
    "comparative_emotion_analyzer(restaurant_data,0,1)"
   ]
  },
  {
   "cell_type": "markdown",
   "metadata": {},
   "source": [
    "<h2>Simple Analysis: Complexity</h2>\n",
    "<h4>We'll look at four complexity factors</h4>\n",
    "<li>average word length: longer words adds to complexity\n",
    "<li>average sentence length: longer sentences are more complex (unless the text is rambling!)\n",
    "<li>vocabulary: the ratio of unique words used to the total number of words (more variety, more complexity)"
   ]
  },
  {
   "cell_type": "markdown",
   "metadata": {},
   "source": [
    "<b>token:</b> A sequence (or group) of characters of interest. For e.g., in the below analysis, a token = a word\n",
    "<li>Generally: A token is the base unit of analysis</li>\n",
    "<li>So, the first step is to convert text into tokens and nltk text object</li>"
   ]
  },
  {
   "cell_type": "code",
   "execution_count": 12,
   "metadata": {},
   "outputs": [
    {
     "ename": "NameError",
     "evalue": "name 'le_monde_data' is not defined",
     "output_type": "error",
     "traceback": [
      "\u001b[0;31m---------------------------------------------------------------------------\u001b[0m",
      "\u001b[0;31mNameError\u001b[0m                                 Traceback (most recent call last)",
      "\u001b[0;32m<ipython-input-12-b0968c32e4b8>\u001b[0m in \u001b[0;36m<module>\u001b[0;34m()\u001b[0m\n\u001b[1;32m      1\u001b[0m \u001b[0;31m#Construct tokens (words/sentences) from the text\u001b[0m\u001b[0;34m\u001b[0m\u001b[0;34m\u001b[0m\u001b[0m\n\u001b[0;32m----> 2\u001b[0;31m \u001b[0mtext\u001b[0m \u001b[0;34m=\u001b[0m \u001b[0mle_monde_data\u001b[0m\u001b[0;34m.\u001b[0m\u001b[0mraw\u001b[0m\u001b[0;34m(\u001b[0m\u001b[0;34m)\u001b[0m\u001b[0;34m\u001b[0m\u001b[0m\n\u001b[0m\u001b[1;32m      3\u001b[0m \u001b[0;32mimport\u001b[0m \u001b[0mnltk\u001b[0m\u001b[0;34m\u001b[0m\u001b[0m\n\u001b[1;32m      4\u001b[0m \u001b[0;32mfrom\u001b[0m \u001b[0mnltk\u001b[0m \u001b[0;32mimport\u001b[0m \u001b[0msent_tokenize\u001b[0m\u001b[0;34m,\u001b[0m\u001b[0mword_tokenize\u001b[0m\u001b[0;34m\u001b[0m\u001b[0m\n\u001b[1;32m      5\u001b[0m \u001b[0msentences\u001b[0m \u001b[0;34m=\u001b[0m \u001b[0mnltk\u001b[0m\u001b[0;34m.\u001b[0m\u001b[0mText\u001b[0m\u001b[0;34m(\u001b[0m\u001b[0msent_tokenize\u001b[0m\u001b[0;34m(\u001b[0m\u001b[0mtext\u001b[0m\u001b[0;34m)\u001b[0m\u001b[0;34m)\u001b[0m\u001b[0;34m\u001b[0m\u001b[0m\n",
      "\u001b[0;31mNameError\u001b[0m: name 'le_monde_data' is not defined"
     ]
    }
   ],
   "source": [
    "#Construct tokens (words/sentences) from the text\n",
    "text = le_monde_data.raw()\n",
    "import nltk\n",
    "from nltk import sent_tokenize,word_tokenize \n",
    "sentences = nltk.Text(sent_tokenize(text))\n",
    "print(len(sentences))\n",
    "words = nltk.Text(word_tokenize(text))\n",
    "print(len(words))"
   ]
  },
  {
   "cell_type": "code",
   "execution_count": null,
   "metadata": {
    "collapsed": true
   },
   "outputs": [],
   "source": [
    "num_chars=len(text)\n",
    "num_words=len(word_tokenize(text))\n",
    "num_sentences=len(sent_tokenize(text))\n",
    "vocab = {x.lower() for x in word_tokenize(text)}\n",
    "print(num_chars,int(num_chars/num_words),int(num_words/num_sentences),(len(vocab)/num_words))\n"
   ]
  },
  {
   "cell_type": "markdown",
   "metadata": {},
   "source": [
    "<h4>Functionalize this</h4>"
   ]
  },
  {
   "cell_type": "code",
   "execution_count": 35,
   "metadata": {
    "collapsed": true
   },
   "outputs": [],
   "source": [
    "def get_complexity(text):\n",
    "    num_chars=len(text)\n",
    "    num_words=len(word_tokenize(text))\n",
    "    num_sentences=len(sent_tokenize(text))\n",
    "    vocab = {x.lower() for x in word_tokenize(text)}\n",
    "    return len(vocab),int(num_chars/num_words),int(num_words/num_sentences),len(vocab)/num_words"
   ]
  },
  {
   "cell_type": "code",
   "execution_count": null,
   "metadata": {
    "collapsed": true
   },
   "outputs": [],
   "source": [
    "get_complexity(le_monde_data.raw())"
   ]
  },
  {
   "cell_type": "code",
   "execution_count": null,
   "metadata": {
    "collapsed": true
   },
   "outputs": [],
   "source": [
    "for text in restaurant_data:\n",
    "    (vocab,word_size,sent_size,vocab_to_text) = get_complexity(text[1])\n",
    "    print(\"{0:15s}\\t{1:1.2f}\\t{2:1.2f}\\t{3:1.2f}\\t{4:1.2f}\".format(text[0],vocab,word_size,sent_size,vocab_to_text))"
   ]
  },
  {
   "cell_type": "markdown",
   "metadata": {},
   "source": [
    "<h4>We could do a word cloud comparison</h4>\n",
    "We'll remove short words and look only at words longer than 6 letters"
   ]
  },
  {
   "cell_type": "code",
   "execution_count": 36,
   "metadata": {},
   "outputs": [
    {
     "ename": "NameError",
     "evalue": "name 'restaurant_data' is not defined",
     "output_type": "error",
     "traceback": [
      "\u001b[0;31m---------------------------------------------------------------------------\u001b[0m",
      "\u001b[0;31mNameError\u001b[0m                                 Traceback (most recent call last)",
      "\u001b[0;32m<ipython-input-36-c6432a29e262>\u001b[0m in \u001b[0;36m<module>\u001b[0;34m()\u001b[0m\n\u001b[0;32m----> 1\u001b[0;31m \u001b[0mtexts\u001b[0m \u001b[0;34m=\u001b[0m \u001b[0mrestaurant_data\u001b[0m\u001b[0;34m\u001b[0m\u001b[0m\n\u001b[0m\u001b[1;32m      2\u001b[0m \u001b[0;32mfrom\u001b[0m \u001b[0mwordcloud\u001b[0m \u001b[0;32mimport\u001b[0m \u001b[0mWordCloud\u001b[0m\u001b[0;34m,\u001b[0m \u001b[0mSTOPWORDS\u001b[0m\u001b[0;34m\u001b[0m\u001b[0m\n\u001b[1;32m      3\u001b[0m \u001b[0;32mimport\u001b[0m \u001b[0mmatplotlib\u001b[0m\u001b[0;34m.\u001b[0m\u001b[0mpyplot\u001b[0m \u001b[0;32mas\u001b[0m \u001b[0mplt\u001b[0m\u001b[0;34m\u001b[0m\u001b[0m\n\u001b[1;32m      4\u001b[0m \u001b[0mget_ipython\u001b[0m\u001b[0;34m(\u001b[0m\u001b[0;34m)\u001b[0m\u001b[0;34m.\u001b[0m\u001b[0mmagic\u001b[0m\u001b[0;34m(\u001b[0m\u001b[0;34m'matplotlib inline'\u001b[0m\u001b[0;34m)\u001b[0m\u001b[0;34m\u001b[0m\u001b[0m\n\u001b[1;32m      5\u001b[0m \u001b[0;31m#Remove unwanted words\u001b[0m\u001b[0;34m\u001b[0m\u001b[0;34m\u001b[0m\u001b[0m\n",
      "\u001b[0;31mNameError\u001b[0m: name 'restaurant_data' is not defined"
     ]
    }
   ],
   "source": [
    "texts = restaurant_data\n",
    "from wordcloud import WordCloud, STOPWORDS\n",
    "import matplotlib.pyplot as plt\n",
    "%matplotlib inline\n",
    "#Remove unwanted words\n",
    "#As we look at the cloud, we can get rid of words that don't make sense by adding them to this variable\n",
    "DELETE_WORDS = []\n",
    "def remove_words(text_string,DELETE_WORDS=DELETE_WORDS):\n",
    "    for word in DELETE_WORDS:\n",
    "        text_string = text_string.replace(word,' ')\n",
    "    return text_string\n",
    "\n",
    "#Remove short words\n",
    "MIN_LENGTH = 0\n",
    "def remove_short_words(text_string,min_length = MIN_LENGTH):\n",
    "    word_list = text_string.split()\n",
    "    for word in word_list:\n",
    "        if len(word) < min_length:\n",
    "            text_string = text_string.replace(' '+word+' ',' ',1)\n",
    "    return text_string\n",
    "\n",
    "\n",
    "#Set up side by side clouds\n",
    "COL_NUM = 2\n",
    "ROW_NUM = 2\n",
    "fig, axes = plt.subplots(ROW_NUM, COL_NUM, figsize=(12,12))\n",
    "\n",
    "for i in range(0,len(texts)):\n",
    "    text_string = remove_words(texts[i][1])\n",
    "    text_string = remove_short_words(text_string)\n",
    "    ax = axes[i%2]\n",
    "    ax = axes[i//2, i%2] #Use this if ROW_NUM >=2\n",
    "    ax.set_title(texts[i][0])\n",
    "    wordcloud = WordCloud(stopwords=STOPWORDS,background_color='white',width=1200,height=1000,max_words=20).generate(text_string)\n",
    "    ax.imshow(wordcloud)\n",
    "    ax.axis('off')\n",
    "plt.show()"
   ]
  },
  {
   "cell_type": "markdown",
   "metadata": {},
   "source": [
    "<h3>Comparing complexity of restaurant reviews won't get us anything useful</h3>\n",
    "<h3>Let's look at something more useful</h3>"
   ]
  },
  {
   "cell_type": "markdown",
   "metadata": {},
   "source": [
    "<h2>nltk: Python's natural language toolkit</h2>\n"
   ]
  },
  {
   "cell_type": "markdown",
   "metadata": {},
   "source": [
    "<h3>ntlk documentation link:</h3> http://www.nltk.org/api/nltk.html\n",
    "<h3>Commands cheat sheet</h3> https://blogs.princeton.edu/etc/files/2014/03/Text-Analysis-with-NLTK-Cheatsheet.pdf\n",
    "<h3>nltk book</h3>http://www.nltk.org/book/"
   ]
  },
  {
   "cell_type": "markdown",
   "metadata": {},
   "source": [
    "<h2>nltk contains a large corpora of pre-tokenized text</h2>\n",
    "Load it using the command:<p>\n",
    "nltk.download()\n",
    "\n",
    "    "
   ]
  },
  {
   "cell_type": "markdown",
   "metadata": {},
   "source": [
    "<h4>Import the corpora</h4>"
   ]
  },
  {
   "cell_type": "code",
   "execution_count": 31,
   "metadata": {},
   "outputs": [
    {
     "name": "stdout",
     "output_type": "stream",
     "text": [
      "*** Introductory Examples for the NLTK Book ***\n",
      "Loading text1, ..., text9 and sent1, ..., sent9\n",
      "Type the name of the text or sentence to view it.\n",
      "Type: 'texts()' or 'sents()' to list the materials.\n",
      "text1: Moby Dick by Herman Melville 1851\n",
      "text2: Sense and Sensibility by Jane Austen 1811\n",
      "text3: The Book of Genesis\n",
      "text4: Inaugural Address Corpus\n",
      "text5: Chat Corpus\n",
      "text6: Monty Python and the Holy Grail\n",
      "text7: Wall Street Journal\n",
      "text8: Personals Corpus\n",
      "text9: The Man Who Was Thursday by G . K . Chesterton 1908\n"
     ]
    }
   ],
   "source": [
    "from nltk.book import *"
   ]
  },
  {
   "cell_type": "markdown",
   "metadata": {},
   "source": [
    "<h1>Often, a comparitive analysis helps us understand text better</h1>\n",
    "<h2>Let's look at US Presidentinaugural speeches</h2>\n",
    "<h4>Copy the files 2013-Obama.txt and 2017-Trump.txt to the nltk_data/corpora/inaugural directory. nltk_data should be under your home directory</h4>"
   ]
  },
  {
   "cell_type": "code",
   "execution_count": 32,
   "metadata": {},
   "outputs": [
    {
     "data": {
      "text/plain": [
       "['1789-Washington.txt',\n",
       " '1793-Washington.txt',\n",
       " '1797-Adams.txt',\n",
       " '1801-Jefferson.txt',\n",
       " '1805-Jefferson.txt',\n",
       " '1809-Madison.txt',\n",
       " '1813-Madison.txt',\n",
       " '1817-Monroe.txt',\n",
       " '1821-Monroe.txt',\n",
       " '1825-Adams.txt',\n",
       " '1829-Jackson.txt',\n",
       " '1833-Jackson.txt',\n",
       " '1837-VanBuren.txt',\n",
       " '1841-Harrison.txt',\n",
       " '1845-Polk.txt',\n",
       " '1849-Taylor.txt',\n",
       " '1853-Pierce.txt',\n",
       " '1857-Buchanan.txt',\n",
       " '1861-Lincoln.txt',\n",
       " '1865-Lincoln.txt',\n",
       " '1869-Grant.txt',\n",
       " '1873-Grant.txt',\n",
       " '1877-Hayes.txt',\n",
       " '1881-Garfield.txt',\n",
       " '1885-Cleveland.txt',\n",
       " '1889-Harrison.txt',\n",
       " '1893-Cleveland.txt',\n",
       " '1897-McKinley.txt',\n",
       " '1901-McKinley.txt',\n",
       " '1905-Roosevelt.txt',\n",
       " '1909-Taft.txt',\n",
       " '1913-Wilson.txt',\n",
       " '1917-Wilson.txt',\n",
       " '1921-Harding.txt',\n",
       " '1925-Coolidge.txt',\n",
       " '1929-Hoover.txt',\n",
       " '1933-Roosevelt.txt',\n",
       " '1937-Roosevelt.txt',\n",
       " '1941-Roosevelt.txt',\n",
       " '1945-Roosevelt.txt',\n",
       " '1949-Truman.txt',\n",
       " '1953-Eisenhower.txt',\n",
       " '1957-Eisenhower.txt',\n",
       " '1961-Kennedy.txt',\n",
       " '1965-Johnson.txt',\n",
       " '1969-Nixon.txt',\n",
       " '1973-Nixon.txt',\n",
       " '1977-Carter.txt',\n",
       " '1981-Reagan.txt',\n",
       " '1985-Reagan.txt',\n",
       " '1989-Bush.txt',\n",
       " '1993-Clinton.txt',\n",
       " '1997-Clinton.txt',\n",
       " '2001-Bush.txt',\n",
       " '2005-Bush.txt',\n",
       " '2009-Obama.txt',\n",
       " '2013-Obama.txt',\n",
       " '2017-Trump.txt']"
      ]
     },
     "execution_count": 32,
     "metadata": {},
     "output_type": "execute_result"
    }
   ],
   "source": [
    "inaugural.fileids()"
   ]
  },
  {
   "cell_type": "code",
   "execution_count": 33,
   "metadata": {},
   "outputs": [
    {
     "data": {
      "text/plain": [
       "'Fellow-Citizens of the United States: In compliance with a custom as old as the Government itself, I appear before you to address you briefly and to take in your presence the oath prescribed by the Constitution of the United States to be taken by the President \"before he enters on the execution of this office.\"\\n\\nI do not consider it necessary at present for me to discuss those matters of administration about which there is no special anxiety or excitement.\\n\\nApprehension seems to exist among the people of the Southern States that by the accession of a Republican Administration their property and their peace and personal security are to be endangered. There has never been any reasonable cause for such apprehension. Indeed, the most ample evidence to the contrary has all the while existed and been open to their inspection. It is found in nearly all the published speeches of him who now addresses you. I do but quote from one of those speeches when I declare that -- \\n\\nI have no purpose, directly or indirectly, to interfere with the institution of slavery in the States where it exists. I believe I have no lawful right to do so, and I have no inclination to do so.\\n\\nThose who nominated and elected me did so with full knowledge that I had made this and many similar declarations and had never recanted them; and more than this, they placed in the platform for my acceptance, and as a law to themselves and to me, the clear and emphatic resolution which I now read:\\n\\nResolved, That the maintenance inviolate of the rights of the States, and especially the right of each State to order and control its own domestic institutions according to its own judgment exclusively, is essential to that balance of power on which the perfection and endurance of our political fabric depend; and we denounce the lawless invasion by armed force of the soil of any State or Territory, no matter what pretext, as among the gravest of crimes.\\n\\nI now reiterate these sentiments, and in doing so I only press upon the public attention the most conclusive evidence of which the case is susceptible that the property, peace, and security of no section are to be in any wise endangered by the now incoming Administration. I add, too, that all the protection which, consistently with the Constitution and the laws, can be given will be cheerfully given to all the States when lawfully demanded, for whatever cause -- as cheerfully to one section as to another.\\n\\nThere is much controversy about the delivering up of fugitives from service or labor. The clause I now read is as plainly written in the Constitution as any other of its provisions:\\n\\nNo person held to service or labor in one State, under the laws thereof, escaping into another, shall in consequence of any law or regulation therein be discharged from such service or labor, but shall be delivered up on claim of the party to whom such service or labor may be due.\\n\\nIt is scarcely questioned that this provision was intended by those who made it for the reclaiming of what we call fugitive slaves; and the intention of the lawgiver is the law. All members of Congress swear their support to the whole Constitution -- to this provision as much as to any other. To the proposition, then, that slaves whose cases come within the terms of this clause \"shall be delivered up\" their oaths are unanimous. Now, if they would make the effort in good temper, could they not with nearly equal unanimity frame and pass a law by means of which to keep good that unanimous oath?\\n\\nThere is some difference of opinion whether this clause should be enforced by national or by State authority, but surely that difference is not a very material one. If the slave is to be surrendered, it can be of but little consequence to him or to others by which authority it is done. And should anyone in any case be content that his oath shall go unkept on a merely unsubstantial controversy as to how it shall be kept?\\n\\nAgain: In any law upon this subject ought not all the safeguards of liberty known in civilized and humane jurisprudence to be introduced, so that a free man be not in any case surrendered as a slave? And might it not be well at the same time to provide by law for the enforcement of that clause in the Constitution which guarantees that \"the citizens of each State shall be entitled to all privileges and immunities of citizens in the several States\"?\\n\\nI take the official oath to-day with no mental reservations and with no purpose to construe the Constitution or laws by any hypercritical rules; and while I do not choose now to specify particular acts of Congress as proper to be enforced, I do suggest that it will be much safer for all, both in official and private stations, to conform to and abide by all those acts which stand unrepealed than to violate any of them trusting to find impunity in having them held to be unconstitutional.\\n\\nIt is seventy-two years since the first inauguration of a President under our National Constitution. During that period fifteen different and greatly distinguished citizens have in succession administered the executive branch of the Government. They have conducted it through many perils, and generally with great success. Yet, with all this scope of precedent, I now enter upon the same task for the brief constitutional term of four years under great and peculiar difficulty. A disruption of the Federal Union, heretofore only menaced, is now formidably attempted.\\n\\nI hold that in contemplation of universal law and of the Constitution the Union of these States is perpetual. Perpetuity is implied, if not expressed, in the fundamental law of all national governments. It is safe to assert that no government proper ever had a provision in its organic law for its own termination. Continue to execute all the express provisions of our National Constitution, and the Union will endure forever, it being impossible to destroy it except by some action not provided for in the instrument itself.\\n\\nAgain: If the United States be not a government proper, but an association of States in the nature of contract merely, can it, as a contract, be peaceably unmade by less than all the parties who made it? One party to a contract may violate it -- break it, so to speak -- but does it not require all to lawfully rescind it?\\n\\nDescending from these general principles, we find the proposition that in legal contemplation the Union is perpetual confirmed by the history of the Union itself. The Union is much older than the Constitution. It was formed, in fact, by the Articles of Association in 1774. It was matured and continued by the Declaration of Independence in 1776. It was further matured, and the faith of all the then thirteen States expressly plighted and engaged that it should be perpetual, by the Articles of Confederation in 1778. And finally, in 1787, one of the declared objects for ordaining and establishing the Constitution was \"to form a more perfect Union.\"\\n\\nBut if destruction of the Union by one or by a part only of the States be lawfully possible, the Union is less perfect than before the Constitution, having lost the vital element of perpetuity.\\n\\nIt follows from these views that no State upon its own mere motion can lawfully get out of the Union; that resolves and ordinances to that effect are legally void, and that acts of violence within any State or States against the authority of the United States are insurrectionary or revolutionary, according to circumstances.\\n\\nI therefore consider that in view of the Constitution and the laws the Union is unbroken, and to the extent of my ability, I shall take care, as the Constitution itself expressly enjoins upon me, that the laws of the Union be faithfully executed in all the States. Doing this I deem to be only a simple duty on my part, and I shall perform it so far as practicable unless my rightful masters, the American people, shall withhold the requisite means or in some authoritative manner direct the contrary. I trust this will not be regarded as a menace, but only as the declared purpose of the Union that it will constitutionally defend and maintain itself.\\n\\nIn doing this there needs to be no bloodshed or violence, and there shall be none unless it be forced upon the national authority. The power confided to me will be used to hold, occupy, and possess the property and places belonging to the Government and to collect the duties and imposts; but beyond what may be necessary for these objects, there will be no invasion, no using of force against or among the people anywhere. Where hostility to the United States in any interior locality shall be so great and universal as to prevent competent resident citizens from holding the Federal offices, there will be no attempt to force obnoxious strangers among the people for that object. While the strict legal right may exist in the Government to enforce the exercise of these offices, the attempt to do so would be so irritating and so nearly impracticable withal that I deem it better to forego for the time the uses of such offices.\\n\\nThe mails, unless repelled, will continue to be furnished in all parts of the Union. So far as possible the people everywhere shall have that sense of perfect security which is most favorable to calm thought and reflection. The course here indicated will be followed unless current events and experience shall show a modification or change to be proper, and in every case and exigency my best discretion will be exercised, according to circumstances actually existing and with a view and a hope of a peaceful solution of the national troubles and the restoration of fraternal sympathies and affections.\\n\\nThat there are persons in one section or another who seek to destroy the Union at all events and are glad of any pretext to do it I will neither affirm nor deny; but if there be such, I need address no word to them. To those, however, who really love the Union may I not speak?\\n\\nBefore entering upon so grave a matter as the destruction of our national fabric, with all its benefits, its memories, and its hopes, would it not be wise to ascertain precisely why we do it? Will you hazard so desperate a step while there is any possibility that any portion of the ills you fly from have no real existence? Will you, while the certain ills you fly to are greater than all the real ones you fly from, will you risk the commission of so fearful a mistake?\\n\\nAll profess to be content in the Union if all constitutional rights can be maintained. Is it true, then, that any right plainly written in the Constitution has been denied? I think not. Happily, the human mind is so constituted that no party can reach to the audacity of doing this. Think, if you can, of a single instance in which a plainly written provision of the Constitution has ever been denied. If by the mere force of numbers a majority should deprive a minority of any clearly written constitutional right, it might in a moral point of view justify revolution; certainly would if such right were a vital one. But such is not our case. All the vital rights of minorities and of individuals are so plainly assured to them by affirmations and negations, guaranties and prohibitions, in the Constitution that controversies never arise concerning them. But no organic law can ever be framed with a provision specifically applicable to every question which may occur in practical administration. No foresight can anticipate nor any document of reasonable length contain express provisions for all possible questions. Shall fugitives from labor be surrendered by national or by State authority? The Constitution does not expressly say. May Congress prohibit slavery in the Territories? The Constitution does not expressly say. Must Congress protect slavery in the Territories? The Constitution does not expressly say.\\n\\nFrom questions of this class spring all our constitutional controversies, and we divide upon them into majorities and minorities. If the minority will not acquiesce, the majority must, or the Government must cease. There is no other alternative, for continuing the Government is acquiescence on one side or the other. If a minority in such case will secede rather than acquiesce, they make a precedent which in turn will divide and ruin them, for a minority of their own will secede from them whenever a majority refuses to be controlled by such minority. For instance, why may not any portion of a new confederacy a year or two hence arbitrarily secede again, precisely as portions of the present Union now claim to secede from it? All who cherish disunion sentiments are now being educated to the exact temper of doing this.\\n\\nIs there such perfect identity of interests among the States to compose a new union as to produce harmony only and prevent renewed secession?\\n\\nPlainly the central idea of secession is the essence of anarchy. A majority held in restraint by constitutional checks and limitations, and always changing easily with deliberate changes of popular opinions and sentiments, is the only true sovereign of a free people. Whoever rejects it does of necessity fly to anarchy or to despotism. Unanimity is impossible. The rule of a minority, as a permanent arrangement, is wholly inadmissible; so that, rejecting the majority principle, anarchy or despotism in some form is all that is left.\\n\\nI do not forget the position assumed by some that constitutional questions are to be decided by the Supreme Court, nor do I deny that such decisions must be binding in any case upon the parties to a suit as to the object of that suit, while they are also entitled to very high respect and consideration in all parallel cases by all other departments of the Government. And while it is obviously possible that such decision may be erroneous in any given case, still the evil effect following it, being limited to that particular case, with the chance that it may be overruled and never become a precedent for other cases, can better be borne than could the evils of a different practice. At the same time, the candid citizen must confess that if the policy of the Government upon vital questions affecting the whole people is to be irrevocably fixed by decisions of the Supreme Court, the instant they are made in ordinary litigation between parties in personal actions the people will have ceased to be their own rulers, having to that extent practically resigned their Government into the hands of that eminent tribunal. Nor is there in this view any assault upon the court or the judges. It is a duty from which they may not shrink to decide cases properly brought before them, and it is no fault of theirs if others seek to turn their decisions to political purposes.\\n\\nOne section of our country believes slavery is right and ought to be extended, while the other believes it is wrong and ought not to be extended. This is the only substantial dispute. The fugitive-slave clause of the Constitution and the law for the suppression of the foreign slave trade are each as well enforced, perhaps, as any law can ever be in a community where the moral sense of the people imperfectly supports the law itself. The great body of the people abide by the dry legal obligation in both cases, and a few break over in each. This, I think, can not be perfectly cured, and it would be worse in both cases after the separation of the sections than before. The foreign slave trade, now imperfectly suppressed, would be ultimately revived without restriction in one section, while fugitive slaves, now only partially surrendered, would not be surrendered at all by the other.\\n\\nPhysically speaking, we can not separate. We can not remove our respective sections from each other nor build an impassable wall between them. A husband and wife may be divorced and go out of the presence and beyond the reach of each other, but the different parts of our country can not do this. They can not but remain face to face, and intercourse, either amicable or hostile, must continue between them. Is it possible, then, to make that intercourse more advantageous or more satisfactory after separation than before? Can aliens make treaties easier than friends can make laws? Can treaties be more faithfully enforced between aliens than laws can among friends? Suppose you go to war, you can not fight always; and when, after much loss on both sides and no gain on either, you cease fighting, the identical old questions, as to terms of intercourse, are again upon you.\\n\\nThis country, with its institutions, belongs to the people who inhabit it. Whenever they shall grow weary of the existing Government, they can exercise their constitutional right of amending it or their revolutionary right to dismember or overthrow it. I can not be ignorant of the fact that many worthy and patriotic citizens are desirous of having the National Constitution amended. While I make no recommendation of amendments, I fully recognize the rightful authority of the people over the whole subject, to be exercised in either of the modes prescribed in the instrument itself; and I should, under existing circumstances, favor rather than oppose a fair opportunity being afforded the people to act upon it. I will venture to add that to me the convention mode seems preferable, in that it allows amendments to originate with the people themselves, instead of only permitting them to take or reject propositions originated by others, not especially chosen for the purpose, and which might not be precisely such as they would wish to either accept or refuse. I understand a proposed amendment to the Constitution -- which amendment, however, I have not seen--has passed Congress, to the effect that the Federal Government shall never interfere with the domestic institutions of the States, including that of persons held to service. To avoid misconstruction of what I have said, I depart from my purpose not to speak of particular amendments so far as to say that, holding such a provision to now be implied constitutional law, I have no objection to its being made express and irrevocable.\\n\\nThe Chief Magistrate derives all his authority from the people, and they have referred none upon him to fix terms for the separation of the States. The people themselves can do this if also they choose, but the Executive as such has nothing to do with it. His duty is to administer the present Government as it came to his hands and to transmit it unimpaired by him to his successor.\\n\\nWhy should there not be a patient confidence in the ultimate justice of the people? Is there any better or equal hope in the world? In our present differences, is either party without faith of being in the right? If the Almighty Ruler of Nations, with His eternal truth and justice, be on your side of the North, or on yours of the South, that truth and that justice will surely prevail by the judgment of this great tribunal of the American people.\\n\\nBy the frame of the Government under which we live this same people have wisely given their public servants but little power for mischief, and have with equal wisdom provided for the return of that little to their own hands at very short intervals. While the people retain their virtue and vigilance no Administration by any extreme of wickedness or folly can very seriously injure the Government in the short space of four years.\\n\\nMy countrymen, one and all, think calmly and well upon this whole subject. Nothing valuable can be lost by taking time. If there be an object to hurry any of you in hot haste to a step which you would never take deliberately, that object will be frustrated by taking time; but no good object can be frustrated by it. Such of you as are now dissatisfied still have the old Constitution unimpaired, and, on the sensitive point, the laws of your own framing under it; while the new Administration will have no immediate power, if it would, to change either. If it were admitted that you who are dissatisfied hold the right side in the dispute, there still is no single good reason for precipitate action. Intelligence, patriotism, Christianity, and a firm reliance on Him who has never yet forsaken this favored land are still competent to adjust in the best way all our present difficulty.\\n\\nIn your hands, my dissatisfied fellow-countrymen, and not in mine, is the momentous issue of civil war. The Government will not assail you. You can have no conflict without being yourselves the aggressors. You have no oath registered in heaven to destroy the Government, while I shall have the most solemn one to \"preserve, protect, and defend it.\"\\n\\nI am loath to close. We are not enemies, but friends. We must not be enemies. Though passion may have strained it must not break our bonds of affection. The mystic chords of memory, stretching from every battlefield and patriot grave to every living heart and hearthstone all over this broad land, will yet swell the chorus of the Union, when again touched, as surely they will be, by the better angels of our nature.\\n'"
      ]
     },
     "execution_count": 33,
     "metadata": {},
     "output_type": "execute_result"
    }
   ],
   "source": [
    "inaugural.raw('1861-Lincoln.txt')"
   ]
  },
  {
   "cell_type": "markdown",
   "metadata": {},
   "source": [
    "<h4>Let's look at the complexity of the speeches by four presidents</h4>"
   ]
  },
  {
   "cell_type": "code",
   "execution_count": 37,
   "metadata": {},
   "outputs": [
    {
     "name": "stdout",
     "output_type": "stream",
     "text": [
      "trump          \t540.00\t5.00\t18.00\t0.32\n",
      "obama          \t1349.00\t5.00\t25.00\t0.27\n",
      "jackson        \t813.00\t5.00\t45.00\t0.33\n",
      "washington     \t636.00\t5.00\t62.00\t0.38\n"
     ]
    }
   ],
   "source": [
    "texts = [('trump',inaugural.raw('2017-Trump.txt')),\n",
    "         ('obama',inaugural.raw('2009-Obama.txt')+inaugural.raw('2013-Obama.txt')),\n",
    "         ('jackson',inaugural.raw('1829-Jackson.txt')+inaugural.raw('1833-Jackson.txt')),\n",
    "         ('washington',inaugural.raw('1789-Washington.txt')+inaugural.raw('1793-Washington.txt'))]\n",
    "for text in texts:\n",
    "    (vocab,word_size,sent_size,vocab_to_text) = get_complexity(text[1])\n",
    "    print(\"{0:15s}\\t{1:1.2f}\\t{2:1.2f}\\t{3:1.2f}\\t{4:1.2f}\".format(text[0],vocab,word_size,sent_size,vocab_to_text))"
   ]
  },
  {
   "cell_type": "markdown",
   "metadata": {},
   "source": [
    "<h2>Analysis over time</h2>\n"
   ]
  },
  {
   "cell_type": "markdown",
   "metadata": {},
   "source": [
    "<h3>The files are arranged over time so we can analyze how complexity has changed between Washington and Trump</h3>"
   ]
  },
  {
   "cell_type": "code",
   "execution_count": 38,
   "metadata": {},
   "outputs": [
    {
     "data": {
      "text/plain": [
       "[<matplotlib.lines.Line2D at 0x10c3bb748>]"
      ]
     },
     "execution_count": 38,
     "metadata": {},
     "output_type": "execute_result"
    },
    {
     "data": {
      "image/png": "[encoded data removed]",
      "text/plain": [
       "<matplotlib.figure.Figure at 0x11dae22e8>"
      ]
     },
     "metadata": {},
     "output_type": "display_data"
    }
   ],
   "source": [
    "from nltk.corpus import inaugural\n",
    "import matplotlib.pyplot as plt\n",
    "%matplotlib inline\n",
    "sentence_lengths = list()\n",
    "x = list()\n",
    "for fileid in inaugural.fileids():\n",
    "    x.append(fileid[:4])\n",
    "for fileid in inaugural.fileids():\n",
    "    sentence_lengths.append(get_complexity(' '.join(inaugural.words(fileid)))[2])\n",
    "plt.xlabel(\"Year\")\n",
    "plt.ylabel(\"Words Per Sentence\")\n",
    "plt.plot(x, sentence_lengths)"
   ]
  },
  {
   "cell_type": "markdown",
   "metadata": {},
   "source": [
    "<h1>dispersion plots</h1>\n",
    "<h2>Dispersion plots show the relative frequency of words over the text</h2>\n",
    "<h3>Let's see how the frequency of some words has changed over the course of the republic</h3>\n",
    "<h3>That should give us some idea of how the focus of the nation has changed</h3>"
   ]
  },
  {
   "cell_type": "code",
   "execution_count": 39,
   "metadata": {},
   "outputs": [
    {
     "data": {
      "image/png": "[encoded data removed]",
      "text/plain": [
       "<matplotlib.figure.Figure at 0x11e6f42b0>"
      ]
     },
     "metadata": {},
     "output_type": "display_data"
    }
   ],
   "source": [
    "text4.dispersion_plot([\"government\", \"citizen\", \"freedom\", \"duties\", \"America\",'independence','God','patriotism'])"
   ]
  },
  {
   "cell_type": "markdown",
   "metadata": {},
   "source": [
    "<h4>We may want to use word stems rather than the part of speect form</h4>\n",
    "<li>For example: patriot, patriotic, patriotism all express roughly the same idea\n",
    "<li>nltk has a stemmer that implements the \"Porter Stemming Algorithm\" (https://tartarus.org/martin/PorterStemmer/)\n",
    "<li>We'll push everything to lowercase as well"
   ]
  },
  {
   "cell_type": "code",
   "execution_count": 40,
   "metadata": {},
   "outputs": [
    {
     "data": {
      "image/png": "[encoded data removed]",
      "text/plain": [
       "<matplotlib.figure.Figure at 0x120c79630>"
      ]
     },
     "metadata": {},
     "output_type": "display_data"
    }
   ],
   "source": [
    "from nltk.stem.porter import PorterStemmer\n",
    "p_stemmer = PorterStemmer()\n",
    "text = inaugural.raw()\n",
    "striptext = text.replace('\\n\\n', ' ')\n",
    "striptext = striptext.replace('\\n', ' ')\n",
    "sentences = sent_tokenize(striptext)\n",
    "words = word_tokenize(striptext)\n",
    "text = nltk.Text([p_stemmer.stem(i).lower() for i in words])\n",
    "text.dispersion_plot([\"govern\", \"citizen\", \"free\", \"america\",'independ','god','patriot'])"
   ]
  },
  {
   "cell_type": "markdown",
   "metadata": {},
   "source": [
    "<h2>Weighted word analysis using Vader</h2>\n",
    "<h4>Vader contains a list of 7500 features weighted by how positive or negative they are</h4>\n",
    "<h4>It uses these features to calculate stats on how positive, negative and neutral a passage is</h4>\n",
    "<h4>And combines these results to give a compound sentiment (higher = more positive) for the passage</h4>\n",
    "<h4>Human trained on twitter data and generally considered good for informal communication</h4>\n",
    "<h4>10 humans rated each feature in each tweet in context from -4 to +4</h4>\n",
    "<h4>Calculates the sentiment in a sentence using word order analysis</h4>\n",
    "<li>\"marginally good\" will get a lower positive score than \"extremely good\"\n",
    "<h4>Computes a \"compound\" score based on heuristics (between -1 and +1)</h4>\n",
    "<h4>Includes sentiment of emoticons, punctuation, and other 'social media' lexicon elements</h4>\n"
   ]
  },
  {
   "cell_type": "code",
   "execution_count": 41,
   "metadata": {
    "collapsed": true
   },
   "outputs": [],
   "source": [
    "from vaderSentiment.vaderSentiment import SentimentIntensityAnalyzer"
   ]
  },
  {
   "cell_type": "code",
   "execution_count": 42,
   "metadata": {},
   "outputs": [
    {
     "name": "stdout",
     "output_type": "stream",
     "text": [
      "trump 0.20126086956521738 0.05552173913043478 0.7432173913043473 0.2252847826086956\n",
      "obama 0.14691370558375633 0.0701522842639594 0.7829289340101528 0.21360558375634514\n",
      "jackson 0.17464814814814814 0.029833333333333333 0.7955740740740739 0.5293722222222222\n",
      "washington 0.15122222222222223 0.04181481481481482 0.806925925925926 0.5050629629629629\n"
     ]
    }
   ],
   "source": [
    "headers = ['pos','neg','neu','compound']\n",
    "analyzer = SentimentIntensityAnalyzer()\n",
    "for i in range(len(texts)):\n",
    "    name = texts[i][0]\n",
    "    sentences = sent_tokenize(texts[i][1])\n",
    "    pos=compound=neu=neg=0\n",
    "    for sentence in sentences:\n",
    "        vs = analyzer.polarity_scores(sentence)\n",
    "        pos+=vs['pos']/(len(sentences))\n",
    "        compound+=vs['compound']/(len(sentences))\n",
    "        neu+=vs['neu']/(len(sentences))\n",
    "        neg+=vs['neg']/(len(sentences))\n",
    "    print(name,pos,neg,neu,compound)"
   ]
  },
  {
   "cell_type": "markdown",
   "metadata": {},
   "source": [
    "<h4>And functionalize this as well</h4>"
   ]
  },
  {
   "cell_type": "code",
   "execution_count": 43,
   "metadata": {
    "collapsed": true
   },
   "outputs": [],
   "source": [
    "def vader_comparison(texts):\n",
    "    from vaderSentiment.vaderSentiment import SentimentIntensityAnalyzer\n",
    "    headers = ['pos','neg','neu','compound']\n",
    "    print(\"Name\\t\",'  pos\\t','neg\\t','neu\\t','compound')\n",
    "    analyzer = SentimentIntensityAnalyzer()\n",
    "    for i in range(len(texts)):\n",
    "        name = texts[i][0]\n",
    "        sentences = sent_tokenize(texts[i][1])\n",
    "        pos=compound=neu=neg=0\n",
    "        for sentence in sentences:\n",
    "            vs = analyzer.polarity_scores(sentence)\n",
    "            pos+=vs['pos']/(len(sentences))\n",
    "            compound+=vs['compound']/(len(sentences))\n",
    "            neu+=vs['neu']/(len(sentences))\n",
    "            neg+=vs['neg']/(len(sentences))\n",
    "        print('%-10s'%name,'%1.2f\\t'%pos,'%1.2f\\t'%neg,'%1.2f\\t'%neu,'%1.2f\\t'%compound)"
   ]
  },
  {
   "cell_type": "code",
   "execution_count": 44,
   "metadata": {},
   "outputs": [
    {
     "name": "stdout",
     "output_type": "stream",
     "text": [
      "Name\t   pos\t neg\t neu\t compound\n",
      "trump      0.20\t 0.06\t 0.74\t 0.23\t\n",
      "obama      0.15\t 0.07\t 0.78\t 0.21\t\n",
      "jackson    0.17\t 0.03\t 0.80\t 0.53\t\n",
      "washington 0.15\t 0.04\t 0.81\t 0.51\t\n"
     ]
    }
   ],
   "source": [
    "vader_comparison(texts)"
   ]
  },
  {
   "cell_type": "markdown",
   "metadata": {
    "collapsed": true
   },
   "source": [
    "<h2>Named Entities</h2>\n",
    "<h4>People, places, organizations</h4>\n",
    "Named entities are often the subject of sentiments so identifying them can be very useful"
   ]
  },
  {
   "cell_type": "markdown",
   "metadata": {},
   "source": [
    "<h4>Named entity detection is based on Part-of-speech tagging of words and chunks (groups of words)</h4>\n",
    "<li>Start with sentences (using a sentence tokenizer)\n",
    "<li>tokenize words in each sentence\n",
    "<li>chunk them. ne_chunk identifies likely chunked candidates (ne = named entity)\n",
    "<li>Finally build chunks using nltk's guess on what members of chunk represent (people, place, organization)\n"
   ]
  },
  {
   "cell_type": "code",
   "execution_count": 45,
   "metadata": {},
   "outputs": [
    {
     "name": "stdout",
     "output_type": "stream",
     "text": [
      "{   'America': ['GPE', 'NNP'],\n",
      "    'Awesome': ['GPE', 'NNP'],\n",
      "    'BEST': ['ORGANIZATION', 'NNP'],\n",
      "    'Bill': ['PERSON', 'NN'],\n",
      "    'Boston': ['GPE', 'NNP'],\n",
      "    'Bottomless': ['GPE', 'NNP'],\n",
      "    'Broadway': ['GPE', 'NNP'],\n",
      "    'Brooklyn': ['GPE', 'NNP'],\n",
      "    'Brunch': ['PERSON', 'NNP'],\n",
      "    'CU': ['ORGANIZATION', 'NNP'],\n",
      "    'Came': ['GPE', 'NN'],\n",
      "    'Cana': ['PERSON', 'NNP'],\n",
      "    'Cheaper': ['GPE', 'NNP'],\n",
      "    'Colombia': ['GPE', 'NNP'],\n",
      "    'Columbia': ['GPE', 'NNP'],\n",
      "    'Columbia University': ['ORGANIZATION', 'NNP NNP'],\n",
      "    'Columbian': ['GPE', 'JJ'],\n",
      "    'Community': ['ORGANIZATION', 'NNP'],\n",
      "    'Community Food': ['ORGANIZATION', 'NNP NNP'],\n",
      "    'Company': ['ORGANIZATION', 'NNP'],\n",
      "    'Country Breakfast': ['ORGANIZATION', 'NNP NNP'],\n",
      "    'Delish': ['GPE', 'NNP'],\n",
      "    'Dinner': ['GPE', 'NN'],\n",
      "    'Disclaimer': ['GPE', 'NN'],\n",
      "    'Everyone': ['GPE', 'NN'],\n",
      "    'FRESH': ['ORGANIZATION', 'NNP'],\n",
      "    'Fire Island Beer': ['ORGANIZATION', 'NNP NNP NNP'],\n",
      "    'Flor': ['GPE', 'NNP'],\n",
      "    'French': ['GPE', 'JJ'],\n",
      "    'GF': ['ORGANIZATION', 'NNP'],\n",
      "    'GLUTEN': ['ORGANIZATION', 'NNP'],\n",
      "    'GOOD': ['ORGANIZATION', 'JJ'],\n",
      "    'GREAT FOR': ['ORGANIZATION', 'NNP NNP'],\n",
      "    'Greendale Community College': ['PERSON', 'NNP NNP NNP'],\n",
      "    'HOURS': ['ORGANIZATION', 'NNP'],\n",
      "    'Huevos Rancheros': ['ORGANIZATION', 'NNP NNP'],\n",
      "    'Jeff Winger': ['PERSON', 'NNP NNP'],\n",
      "    'LA': ['GPE', 'NNP'],\n",
      "    'Lighthouse': ['ORGANIZATION', 'NNP'],\n",
      "    'Midtown': ['GPE', 'NNP'],\n",
      "    'Morningside': ['GPE', 'NNP'],\n",
      "    'NBC': ['ORGANIZATION', 'NNP'],\n",
      "    'NOT': ['ORGANIZATION', 'NNP'],\n",
      "    'NYC': ['ORGANIZATION', 'NNP'],\n",
      "    'New York': ['GPE', 'NNP NNP'],\n",
      "    'Newbury': ['ORGANIZATION', 'NNP'],\n",
      "    'Nom': ['GPE', 'NNP'],\n",
      "    'Overall': ['GPE', 'JJ'],\n",
      "    'Overpriced': ['GPE', 'NNP'],\n",
      "    'POTATO': ['ORGANIZATION', 'NNP'],\n",
      "    'REAL': ['ORGANIZATION', 'JJ'],\n",
      "    'Sam D.': ['PERSON', 'NNP NNP'],\n",
      "    'Screen': ['GPE', 'NN'],\n",
      "    'Service': ['GPE', 'NNP'],\n",
      "    'Sigh': ['GPE', 'NNP'],\n",
      "    'Solid': ['GPE', 'NNP'],\n",
      "    'Stephanie': ['PERSON', 'NNP'],\n",
      "    'THE': ['ORGANIZATION', 'NNP'],\n",
      "    'Thanks': ['GPE', 'NNS'],\n",
      "    'Troy Barnes': ['ORGANIZATION', 'NN NNPS'],\n",
      "    'VERY': ['ORGANIZATION', 'NNP'],\n",
      "    'Vast': ['GPE', 'JJ'],\n",
      "    'Veggie': ['GPE', 'NNP'],\n",
      "    'Yahoo': ['ORGANIZATION', 'NN']}\n"
     ]
    }
   ],
   "source": [
    "en={}\n",
    "try:\n",
    "    sent_detector = nltk.data.load('tokenizers/punkt/english.pickle')\n",
    "    sentences = sent_detector.tokenize(community_data.raw().strip())\n",
    "    for sentence in sentences:\n",
    "            tokenized = nltk.word_tokenize(sentence)\n",
    "            tagged = nltk.pos_tag(tokenized)\n",
    "            chunked = nltk.ne_chunk(tagged)\n",
    "            for tree in chunked:\n",
    "                if hasattr(tree, 'label'):\n",
    "                    ne = ' '.join(c[0] for c in tree.leaves())\n",
    "                    en[ne] = [tree.label(), ' '.join(c[1] for c in tree.leaves())]\n",
    "except Exception as e:\n",
    "    print(str(e))\n",
    "import pprint\n",
    "pp = pprint.PrettyPrinter(indent=4)\n",
    "pp.pprint(en)"
   ]
  },
  {
   "cell_type": "markdown",
   "metadata": {},
   "source": [
    "<h4>Assuming we've done a good job of identifying named entities, we can get an affect score on entities</h4>"
   ]
  },
  {
   "cell_type": "code",
   "execution_count": 46,
   "metadata": {},
   "outputs": [
    {
     "name": "stdout",
     "output_type": "stream",
     "text": [
      "Name\t   pos\t neg\t neu\t compound\n",
      "1          0.00\t 0.00\t 1.00\t 0.00\t\n",
      "2          0.11\t 0.15\t 0.73\t -0.17\t\n",
      "3          0.53\t 0.00\t 0.47\t 0.84\t\n",
      "4          0.28\t 0.00\t 0.71\t 0.49\t\n",
      "5          0.23\t 0.00\t 0.78\t 0.49\t\n",
      "6          0.36\t 0.00\t 0.64\t 0.74\t\n"
     ]
    }
   ],
   "source": [
    "meaningful_sents = list()\n",
    "i=0\n",
    "for sentence in sentences:\n",
    "    if 'service' in sentence:\n",
    "        i+=1\n",
    "        meaningful_sents.append((i,sentence))\n",
    "\n",
    "vader_comparison(meaningful_sents)       "
   ]
  },
  {
   "cell_type": "markdown",
   "metadata": {},
   "source": [
    "<h4>We could also develop a affect calculator for common terms in our domain (e.g., food items)</h4>"
   ]
  },
  {
   "cell_type": "code",
   "execution_count": 47,
   "metadata": {
    "collapsed": true
   },
   "outputs": [],
   "source": [
    "def get_affect(text,word,lower=False):\n",
    "    import nltk\n",
    "    from vaderSentiment.vaderSentiment import SentimentIntensityAnalyzer\n",
    "    analyzer = SentimentIntensityAnalyzer()\n",
    "    sent_detector = nltk.data.load('tokenizers/punkt/english.pickle')\n",
    "    sentences = sent_detector.tokenize(text.strip())\n",
    "    sentence_count = 0\n",
    "    running_total = 0\n",
    "    for sentence in sentences:\n",
    "        if lower: sentence = sentence.lower()\n",
    "        if word in sentence:\n",
    "            vs = analyzer.polarity_scores(sentence) \n",
    "            running_total += vs['compound']\n",
    "            sentence_count += 1\n",
    "    if sentence_count == 0: return 0\n",
    "    return running_total/sentence_count"
   ]
  },
  {
   "cell_type": "code",
   "execution_count": 48,
   "metadata": {},
   "outputs": [
    {
     "data": {
      "text/plain": [
       "0.4321428571428571"
      ]
     },
     "execution_count": 48,
     "metadata": {},
     "output_type": "execute_result"
    }
   ],
   "source": [
    "get_affect(community_data.raw(),'service',True)"
   ]
  },
  {
   "cell_type": "markdown",
   "metadata": {},
   "source": [
    "<h4>The nltk function concordance returns text fragments around a word</h4>"
   ]
  },
  {
   "cell_type": "code",
   "execution_count": 49,
   "metadata": {},
   "outputs": [
    {
     "name": "stdout",
     "output_type": "stream",
     "text": [
      "Displaying 7 of 7 matches:\n",
      " This is such a good brunch spot ! The food , service & ambiance was exactly what we were looking f\n",
      " I dug right in due to brunch hunger and slow service . I ' d come back again , but be sure to have\n",
      " . Will be exploring more items on the menu . Service is great - our water was also filled , our co\n",
      " All in all , a pleasant experience with nice service and nice company . It ' s not every day I get\n",
      " place was packed . Even though it was packed service was very good . The beat salad and rice bowl \n",
      "e with a friend - we were seated promptly and service was attentive . The decor was beautiful and t\n",
      "h juice n on site coffee . Thanks to the kind service as well , i will remember this restaurant as \n"
     ]
    }
   ],
   "source": [
    "nltk.Text(community_data.words()).concordance('service',100)"
   ]
  },
  {
   "cell_type": "markdown",
   "metadata": {},
   "source": [
    "<h2>Text summarization</h2>\n",
    "<h4>Text summarization is useful because you can generate a short summary of a large piece of text automatically</h4>\n",
    "<h4>Then, these summaries can serve as an input into a topic analyzer to figure out what the main topic of the text is</h4>"
   ]
  },
  {
   "cell_type": "markdown",
   "metadata": {},
   "source": [
    "A naive form of summarization is to identify the most frequent words in a piece of text and use the occurrence of these words in sentences to rate the importance of a sentence. "
   ]
  },
  {
   "cell_type": "markdown",
   "metadata": {},
   "source": [
    "<h4>First the imports</h4>"
   ]
  },
  {
   "cell_type": "code",
   "execution_count": 50,
   "metadata": {
    "collapsed": true
   },
   "outputs": [],
   "source": [
    "from nltk.tokenize import word_tokenize\n",
    "from nltk.tokenize import sent_tokenize\n",
    "from nltk.probability import FreqDist\n",
    "from nltk.corpus import stopwords\n",
    "from collections import OrderedDict\n",
    "import pprint"
   ]
  },
  {
   "cell_type": "markdown",
   "metadata": {},
   "source": [
    "<h4>Then prep the text. Get did of end of line chars</h4>"
   ]
  },
  {
   "cell_type": "code",
   "execution_count": 51,
   "metadata": {
    "collapsed": true
   },
   "outputs": [],
   "source": [
    "text = community_data.raw()\n",
    "summary_sentences = []\n",
    "candidate_sentences = {}\n",
    "candidate_sentence_counts = {}\n",
    "striptext = text.replace('\\n\\n', ' ')\n",
    "striptext = striptext.replace('\\n', ' ')"
   ]
  },
  {
   "cell_type": "markdown",
   "metadata": {},
   "source": [
    "<h4>Construct a list of words after getting rid of unimportant ones and numbers</h4>"
   ]
  },
  {
   "cell_type": "code",
   "execution_count": 52,
   "metadata": {
    "collapsed": true
   },
   "outputs": [],
   "source": [
    "words = word_tokenize(striptext)\n",
    "lowercase_words = [word.lower() for word in words\n",
    "                  if word not in stopwords.words() and word.isalpha()]\n"
   ]
  },
  {
   "cell_type": "markdown",
   "metadata": {},
   "source": [
    "<h4>Construct word frequencies and choose the most common n (20)</h4>"
   ]
  },
  {
   "cell_type": "code",
   "execution_count": 53,
   "metadata": {},
   "outputs": [
    {
     "name": "stdout",
     "output_type": "stream",
     "text": [
      "[   ('i', 73),\n",
      "    ('the', 46),\n",
      "    ('food', 20),\n",
      "    ('brunch', 20),\n",
      "    ('good', 19),\n",
      "    ('place', 15),\n",
      "    ('nice', 13),\n",
      "    ('ordered', 13),\n",
      "    ('pancakes', 13),\n",
      "    ('fresh', 13),\n",
      "    ('came', 13),\n",
      "    ('my', 12),\n",
      "    ('coffee', 12),\n",
      "    ('delicious', 12),\n",
      "    ('we', 10),\n",
      "    ('community', 10),\n",
      "    ('eggs', 10),\n",
      "    ('friend', 10),\n",
      "    ('one', 10),\n",
      "    ('get', 9)]\n"
     ]
    }
   ],
   "source": [
    "word_frequencies = FreqDist(lowercase_words)\n",
    "most_frequent_words = FreqDist(lowercase_words).most_common(20)\n",
    "pp = pprint.PrettyPrinter(indent=4)\n",
    "pp.pprint(most_frequent_words)"
   ]
  },
  {
   "cell_type": "markdown",
   "metadata": {},
   "source": [
    "<h4>lowercase the sentences</h4>\n",
    "candidate_sentences is a dictionary with the original sentence as the key, and its lowercase version as the value"
   ]
  },
  {
   "cell_type": "code",
   "execution_count": 54,
   "metadata": {},
   "outputs": [
    {
     "data": {
      "text/plain": [
       "{'\"I have a degree from Columbia, and now I have to get one from America.\"': '\"i have a degree from columbia, and now i have to get one from america.\"',\n",
       " '- Jeff Winger, Community.': '- jeff winger, community.',\n",
       " '- The truffle egg dish: had sausage, potatoes, some leafy greens, sautéed mushrooms, and poached egg on top.': '- the truffle egg dish: had sausage, potatoes, some leafy greens, sautéed mushrooms, and poached egg on top.',\n",
       " '- Troy Barnes Man I love that show.': '- troy barnes man i love that show.',\n",
       " '-7 grains waffle: had vanilla cream, raspberry, cherry, and toasted nuts.': '-7 grains waffle: had vanilla cream, raspberry, cherry, and toasted nuts.',\n",
       " '15 minuets wait for the wait staff, 45 minuets before we got the wrong dish!': '15 minuets wait for the wait staff, 45 minuets before we got the wrong dish!',\n",
       " '2 HOURS AND NO FOOD!': '2 hours and no food!',\n",
       " \"A man came over to the table and filled our waters but didn't introduce himself as our waiter so I wasn't sure if he was the busboy or the waiter; regardless, he took our drink order.\": \"a man came over to the table and filled our waters but didn't introduce himself as our waiter so i wasn't sure if he was the busboy or the waiter; regardless, he took our drink order.\",\n",
       " 'All and all a solid meal, the burger was a wee bit dry, but cooked to my specifications (medium rare).': 'all and all a solid meal, the burger was a wee bit dry, but cooked to my specifications (medium rare).',\n",
       " 'All in all, a pleasant experience with nice service and nice company.': 'all in all, a pleasant experience with nice service and nice company.',\n",
       " 'All the food was amazing.': 'all the food was amazing.',\n",
       " 'Also GREAT FOR GLUTEN FREE!': 'also great for gluten free!',\n",
       " \"Also super close to Colombia's main campus, great place to walk around and digest.\": \"also super close to colombia's main campus, great place to walk around and digest.\",\n",
       " \"Although we thought the veggie burger could've used another flavor component.\": \"although we thought the veggie burger could've used another flavor component.\",\n",
       " 'Although you really have to spring ti get in, since there are very big lines to eat.': 'although you really have to spring ti get in, since there are very big lines to eat.',\n",
       " 'And the carrot hash browns were yummy too!': 'and the carrot hash browns were yummy too!',\n",
       " 'As per her request, they put less goat cheese.': 'as per her request, they put less goat cheese.',\n",
       " \"Awesome bar alongside, but we didn't patronize it.\": \"awesome bar alongside, but we didn't patronize it.\",\n",
       " \"Bill came up to be around 50, which isn't exactly cheap considering how small the portions are- but justifiable still due to the taste.\": \"bill came up to be around 50, which isn't exactly cheap considering how small the portions are- but justifiable still due to the taste.\",\n",
       " 'Bottomless coffee was standard.': 'bottomless coffee was standard.',\n",
       " 'Came here for brunch with my wife after she found the good review, and it did not disappoint!': 'came here for brunch with my wife after she found the good review, and it did not disappoint!',\n",
       " 'Came on Sunday near 1pm and it was VERY busy, ended up waiting an hour and a half (1 hour more than we were told) however, the food was ah-mazing.': 'came on sunday near 1pm and it was very busy, ended up waiting an hour and a half (1 hour more than we were told) however, the food was ah-mazing.',\n",
       " \"Cheaper brunch cocktails than most places (only $10....but yes, it is nyc where most are $14+) if I have one recommendation, it's the POTATO PANCAKES!!!\": \"cheaper brunch cocktails than most places (only $10....but yes, it is nyc where most are $14+) if i have one recommendation, it's the potato pancakes!!!\",\n",
       " \"Community Food & Juice is literally a few blocks away, so it's perfect for students.\": \"community food & juice is literally a few blocks away, so it's perfect for students.\",\n",
       " 'Community is a brunch place next to Columbia.': 'community is a brunch place next to columbia.',\n",
       " 'Community is definitely one of my favorite, non-boozy brunch spots in the UWS/Morningside!': 'community is definitely one of my favorite, non-boozy brunch spots in the uws/morningside!',\n",
       " 'Despite the 3.5 stars I was pleasantly surprised at the food here.': 'despite the 3.5 stars i was pleasantly surprised at the food here.',\n",
       " 'Details of the food, including the presentation of each dish.': 'details of the food, including the presentation of each dish.',\n",
       " 'Dinner looked pretty...and that was all.': 'dinner looked pretty...and that was all.',\n",
       " 'Dinner on Tuesday, usually a quiet affair, but given that Community is one of few good spots on Broadway for a good sit down, even at 6:30 p.m. it was bumping.': 'dinner on tuesday, usually a quiet affair, but given that community is one of few good spots on broadway for a good sit down, even at 6:30 p.m. it was bumping.',\n",
       " 'Disclaimer: I like diner food but it is almost always to greasy which I hate, but this place has very fresh and carefully prepared food.': 'disclaimer: i like diner food but it is almost always to greasy which i hate, but this place has very fresh and carefully prepared food.',\n",
       " 'Down to the last drop - it was smooth, nutty, and not bitter even cold.': 'down to the last drop - it was smooth, nutty, and not bitter even cold.',\n",
       " 'During the whole time, not one waiter came over to encourage us to pay our bill and leave.': 'during the whole time, not one waiter came over to encourage us to pay our bill and leave.',\n",
       " 'Even though it was packed service was very good.': 'even though it was packed service was very good.',\n",
       " 'Even though they were super busy, they were able to seat us right away, and our food came in a timely manner.': 'even though they were super busy, they were able to seat us right away, and our food came in a timely manner.',\n",
       " 'Everyone is super friendly and accommodating vegetarian requests!': 'everyone is super friendly and accommodating vegetarian requests!',\n",
       " 'Everything looks and sounds good and this place smells like heaven.': 'everything looks and sounds good and this place smells like heaven.',\n",
       " 'Everything was awesome.': 'everything was awesome.',\n",
       " 'Excellent menu!': 'excellent menu!',\n",
       " 'Flor de Cana aged white rum, fresh lime juice, shiso-mint simple syrup, yuzu splash, muddled mint, and crushed ice made up the drink that Jeff Winger would have called a \"kid\\'s drink\".': 'flor de cana aged white rum, fresh lime juice, shiso-mint simple syrup, yuzu splash, muddled mint, and crushed ice made up the drink that jeff winger would have called a \"kid\\'s drink\".',\n",
       " 'Had the spinach been softer, this would have been more enjoyable to eat.': 'had the spinach been softer, this would have been more enjoyable to eat.',\n",
       " 'Having seen the title of this place, I did expect somewhere a little cosier, trendier, more rustic and more inviting.': 'having seen the title of this place, i did expect somewhere a little cosier, trendier, more rustic and more inviting.',\n",
       " 'He had the pancakes and said they were the best he had in the city.': 'he had the pancakes and said they were the best he had in the city.',\n",
       " 'He loved it!': 'he loved it!',\n",
       " 'His eggs were sunny side up, and perfectly runny.': 'his eggs were sunny side up, and perfectly runny.',\n",
       " 'However, the spinach although cooked well, kind of took away from the dish.': 'however, the spinach although cooked well, kind of took away from the dish.',\n",
       " 'I accidentally left my headphones, called to ask if it was found, and fetched them the day later.': 'i accidentally left my headphones, called to ask if it was found, and fetched them the day later.',\n",
       " 'I also got a shiso mojito which sounds fancy--and it better be for the $11 I paid for it.': 'i also got a shiso mojito which sounds fancy--and it better be for the $11 i paid for it.',\n",
       " 'I also tried my first ever bloody mary, and it was really good.': 'i also tried my first ever bloody mary, and it was really good.',\n",
       " 'I am gluten/dairy intolerant and they were able to fully accommodate me.': 'i am gluten/dairy intolerant and they were able to fully accommodate me.',\n",
       " 'I ate here Monday night for a working dinner with a coworker.': 'i ate here monday night for a working dinner with a coworker.',\n",
       " 'I came here on a Saturday morning with one of my friends without a reservation around 10:30 am and luckily we were seated outside right away.': 'i came here on a saturday morning with one of my friends without a reservation around 10:30 am and luckily we were seated outside right away.',\n",
       " 'I came here one day to meet up with my cousin who studies at Columbia.': 'i came here one day to meet up with my cousin who studies at columbia.',\n",
       " 'I came here with a friend - we were seated promptly and service was attentive.': 'i came here with a friend - we were seated promptly and service was attentive.',\n",
       " 'I came here with my friend who also is a huge fan of the show \"Community\", which used to be aired on NBC then got cancelled and then re-birthed on Yahoo!': 'i came here with my friend who also is a huge fan of the show \"community\", which used to be aired on nbc then got cancelled and then re-birthed on yahoo!',\n",
       " \"I don't know what I was expecting.\": \"i don't know what i was expecting.\",\n",
       " \"I don't normally drink coffee, but I would have had a whole cup of it had I not ordered the hot chocolate, which was also delicious.\": \"i don't normally drink coffee, but i would have had a whole cup of it had i not ordered the hot chocolate, which was also delicious.\",\n",
       " 'I gave this place four stars instead of five because of the consistency of the spinach in the eggs benedict florentine.': 'i gave this place four stars instead of five because of the consistency of the spinach in the eggs benedict florentine.',\n",
       " 'I had the special of 2 fried eggs, vegetable ragout, bacon and truffle vinaigrette and it was Delish.': 'i had the special of 2 fried eggs, vegetable ragout, bacon and truffle vinaigrette and it was delish.',\n",
       " \"I immediately saw its reason for name, beyond the owner's fandom of the show of the same name: the tablet setup are nearly all communal long tables.\": \"i immediately saw its reason for name, beyond the owner's fandom of the show of the same name: the tablet setup are nearly all communal long tables.\",\n",
       " 'I ordered a mimosa, which was pretty good, and my friend ordered a coffee which was served in a huge mug.': 'i ordered a mimosa, which was pretty good, and my friend ordered a coffee which was served in a huge mug.',\n",
       " 'I ordered the Country Breakfast and the eggs were delicious and fluffy, the biscuit was moist and flavorful, the carrot hash browns were warm and comforting, and the ham was sweet and juicy.': 'i ordered the country breakfast and the eggs were delicious and fluffy, the biscuit was moist and flavorful, the carrot hash browns were warm and comforting, and the ham was sweet and juicy.',\n",
       " \"I ordered the beef burger which was very juicy, perfectly lean, well sauced, cooked as desired (medium-well, for those who wonder), and paired with a dill pickle, a handmade cole slaw that lacked mayo (which is good as mayo's pure trans-fat), and a spindle of fries.\": \"i ordered the beef burger which was very juicy, perfectly lean, well sauced, cooked as desired (medium-well, for those who wonder), and paired with a dill pickle, a handmade cole slaw that lacked mayo (which is good as mayo's pure trans-fat), and a spindle of fries.\",\n",
       " 'I ordered the eggs benedict florentine.': 'i ordered the eggs benedict florentine.',\n",
       " \"I really like how it wasn't hard and overly sweet- especially how the toasted nuts added a level of crunchiness to the heaviness of the cream.\": \"i really like how it wasn't hard and overly sweet- especially how the toasted nuts added a level of crunchiness to the heaviness of the cream.\",\n",
       " 'I really like the hanging lights from the ceiling which is quite cute.': 'i really like the hanging lights from the ceiling which is quite cute.',\n",
       " 'I recommend you seek them out.': 'i recommend you seek them out.',\n",
       " 'I started with a raspberry iced tea & ordered the community custom egg white omelette with sautéed spinach & mushrooms and a side of smoked salmon.': 'i started with a raspberry iced tea & ordered the community custom egg white omelette with sautéed spinach & mushrooms and a side of smoked salmon.',\n",
       " 'I thought it was delicious!': 'i thought it was delicious!',\n",
       " 'I used some of the chive cream cheese on the toast that came with the eggs - highly recommend asking for some on the side!': 'i used some of the chive cream cheese on the toast that came with the eggs - highly recommend asking for some on the side!',\n",
       " 'I wanted to order everything off the menu, but settled on the juevos rancheros with side of carrot hash browns, and biscuit.': 'i wanted to order everything off the menu, but settled on the juevos rancheros with side of carrot hash browns, and biscuit.',\n",
       " 'I was not a big fan of the sausage that was served with it and would much more have preferred bacon but overall it was good.': 'i was not a big fan of the sausage that was served with it and would much more have preferred bacon but overall it was good.',\n",
       " 'I went with my mom and my brother.': 'i went with my mom and my brother.',\n",
       " 'I wish I had ordered that instead.': 'i wish i had ordered that instead.',\n",
       " 'I wish I took a picture, but I dug right in due to brunch hunger and slow service.': 'i wish i took a picture, but i dug right in due to brunch hunger and slow service.',\n",
       " \"I work at CU, and may be one of the few people that's never been to Community before.\": \"i work at cu, and may be one of the few people that's never been to community before.\",\n",
       " \"I wouldn't go back at these prices and with these crowds.\": \"i wouldn't go back at these prices and with these crowds.\",\n",
       " \"I'd be interested to check out their lunch, which alas is usually a crush of CU staff and students, but there's always summer break ...\": \"i'd be interested to check out their lunch, which alas is usually a crush of cu staff and students, but there's always summer break ...\",\n",
       " \"I'd come back again, but be sure to have a snack before if you are feeling at all hungry like me.\": \"i'd come back again, but be sure to have a snack before if you are feeling at all hungry like me.\",\n",
       " \"I'd rather have paid half price for half the portion.\": \"i'd rather have paid half price for half the portion.\",\n",
       " \"I've come here several times with a friend for brunch and once for dinner -- we've both really enjoyed a lot of the breakfast foods available; my favorite is the brioche French toast with blackberry and lemon curd & she loves heir waffles.\": \"i've come here several times with a friend for brunch and once for dinner -- we've both really enjoyed a lot of the breakfast foods available; my favorite is the brioche french toast with blackberry and lemon curd & she loves heir waffles.\",\n",
       " 'If you come between 8-9am they have a pancake deal (blueberry or chocolate and a coffee or OJ for $12, not bad considering the area and average prices.': 'if you come between 8-9am they have a pancake deal (blueberry or chocolate and a coffee or oj for $12, not bad considering the area and average prices.',\n",
       " 'In fact, the \"syrup\"--not even sure what it is (apple?)': 'in fact, the \"syrup\"--not even sure what it is (apple?)',\n",
       " 'Initially, we went for brunch in the early afternoon, but ended up staying for appetizers and split a bottle of wine.': 'initially, we went for brunch in the early afternoon, but ended up staying for appetizers and split a bottle of wine.',\n",
       " 'Instead, they filled our coffees and water.': 'instead, they filled our coffees and water.',\n",
       " 'It was delicious.': 'it was delicious.',\n",
       " 'It was difficult to cut along with everything else, and pulling the spinach out from under the uncut part made parts of the egg fall off the biscuit.': 'it was difficult to cut along with everything else, and pulling the spinach out from under the uncut part made parts of the egg fall off the biscuit.',\n",
       " 'It was flavorful and not overly salty.': 'it was flavorful and not overly salty.',\n",
       " \"It was pretty strong but the shiso-mint did come through, so it was worth it (I'm rationalizing the price right now).\": \"it was pretty strong but the shiso-mint did come through, so it was worth it (i'm rationalizing the price right now).\",\n",
       " \"It's not every day I get to go to New York, take some subways to meet a friend, eat some good food, get a tour of a top university, and walk away with my wallet much lighter.\": \"it's not every day i get to go to new york, take some subways to meet a friend, eat some good food, get a tour of a top university, and walk away with my wallet much lighter.\",\n",
       " \"Let's be honest, sometimes a man just wants some sweet sweet avocado in the cool winter months.\": \"let's be honest, sometimes a man just wants some sweet sweet avocado in the cool winter months.\",\n",
       " 'Morningside feels more like a college town with older residential building and quieter streets.': 'morningside feels more like a college town with older residential building and quieter streets.',\n",
       " \"Much better than my experience at Stephanie's at Newbury in Boston or even many of the brunch places I've been in LA.\": \"much better than my experience at stephanie's at newbury in boston or even many of the brunch places i've been in la.\",\n",
       " 'My brother had the Huevos Rancheros.': 'my brother had the huevos rancheros.',\n",
       " 'My chocolate pancakes were pretty darn good and pretty darn rich.': 'my chocolate pancakes were pretty darn good and pretty darn rich.',\n",
       " 'My coworker got the salmon sandwich, same review applies.': 'my coworker got the salmon sandwich, same review applies.',\n",
       " 'My friend and I had a very good time.': 'my friend and i had a very good time.',\n",
       " 'My friend got the house smoked salmon plate.': 'my friend got the house smoked salmon plate.',\n",
       " 'My friend n me went there early to enjoy pancake with fresh juice n on site coffee.': 'my friend n me went there early to enjoy pancake with fresh juice n on site coffee.',\n",
       " 'My friend, however, is actually pursuing a REAL degree from Columbia University--not Colombia the country, unlike our hateable yet lovable ex-lawyer who attended Greendale Community College.': 'my friend, however, is actually pursuing a real degree from columbia university--not colombia the country, unlike our hateable yet lovable ex-lawyer who attended greendale community college.',\n",
       " 'My mother ordered the frittata, which was also very good.': 'my mother ordered the frittata, which was also very good.',\n",
       " 'My new favorite brunch spot.': 'my new favorite brunch spot.',\n",
       " 'My wife and I went here for breakfast.': 'my wife and i went here for breakfast.',\n",
       " 'My wife got the blueberry pancakes.': 'my wife got the blueberry pancakes.',\n",
       " 'Nice experience there.': 'nice experience there.',\n",
       " 'Nice little draft selection, I went for the Fire Island Beer Co. Lighthouse - nice and crisp and not hoppy - a rare breed in NYC.': 'nice little draft selection, i went for the fire island beer co. lighthouse - nice and crisp and not hoppy - a rare breed in nyc.',\n",
       " 'Nice little tip, they have a deal between 5 pm and 7 pm on weekdays - beef burger and beer for $16.': 'nice little tip, they have a deal between 5 pm and 7 pm on weekdays - beef burger and beer for $16.',\n",
       " 'Nom nommmm.': 'nom nommmm.',\n",
       " 'Not overly sweet and definitely enjoyed the seeds within the preserve.': 'not overly sweet and definitely enjoyed the seeds within the preserve.',\n",
       " 'Now I know this is NY and costs here are higher--but $43!': 'now i know this is ny and costs here are higher--but $43!',\n",
       " \"On a nice New York morning, we had brunch and got to talk about everything from racist experiences to the TV show we can't quite get over.\": \"on a nice new york morning, we had brunch and got to talk about everything from racist experiences to the tv show we can't quite get over.\",\n",
       " 'On that note, \"It said market price.': 'on that note, \"it said market price.',\n",
       " 'Only a 20 minute bus ride from 79th, very easy to get to.': 'only a 20 minute bus ride from 79th, very easy to get to.',\n",
       " \"Otherwise, I'd have given this place five stars.\": \"otherwise, i'd have given this place five stars.\",\n",
       " 'Otherwise, it tasted delicious.': 'otherwise, it tasted delicious.',\n",
       " \"Our waiter Sam D. was the perfect level of attentive, there for a question and to fill our water glasses, I don't think my ever dipped below half-filled.\": \"our waiter sam d. was the perfect level of attentive, there for a question and to fill our water glasses, i don't think my ever dipped below half-filled.\",\n",
       " 'Overall, great brunch & highly recommend for a lovely brunch!': 'overall, great brunch & highly recommend for a lovely brunch!',\n",
       " 'Overpriced small portions that were essentially inedible.': 'overpriced small portions that were essentially inedible.',\n",
       " 'Overpriced, oversized, oversweet... Oh wait, this is America.': 'overpriced, oversized, oversweet... oh wait, this is america.',\n",
       " 'P.s.': 'p.s.',\n",
       " 'Pancakes were fluffy and they used real, non-frozen blueberries which I loved!': 'pancakes were fluffy and they used real, non-frozen blueberries which i loved!',\n",
       " \"Pancakes were fluffy and very filling)  Their lattes sometimes taste a bit burnt and not mixed properly -- don't waste your money.\": \"pancakes were fluffy and very filling)  their lattes sometimes taste a bit burnt and not mixed properly -- don't waste your money.\",\n",
       " \"Pricing was around $15 per person, which was reasonable for the quality and amount of food, especially considering it's New York.\": \"pricing was around $15 per person, which was reasonable for the quality and amount of food, especially considering it's new york.\",\n",
       " 'SO GOOD, My bf and I split them.': 'so good, my bf and i split them.',\n",
       " 'Screen.': 'screen.',\n",
       " 'Seated around 10 mins on a cozy Sat morning, not too bad.': 'seated around 10 mins on a cozy sat morning, not too bad.',\n",
       " 'Service is great - our water was also filled, our coffee was replenished at appropriate times.': 'service is great - our water was also filled, our coffee was replenished at appropriate times.',\n",
       " \"She chose this place because of the name--I mean come on, can't get more fitting than that--and because of its proximity to Columbia's campus.\": \"she chose this place because of the name--i mean come on, can't get more fitting than that--and because of its proximity to columbia's campus.\",\n",
       " 'Sigh, oh how I miss the golden age of that glorious, glorious show.': 'sigh, oh how i miss the golden age of that glorious, glorious show.',\n",
       " 'Solid breakfast place in Morningside Heights.': 'solid breakfast place in morningside heights.',\n",
       " 'Speaking of coffee - their black drip coffee from a roaster in Brooklyn is delicious!': 'speaking of coffee - their black drip coffee from a roaster in brooklyn is delicious!',\n",
       " 'Still delicious, but sad when you see your non-GF friend with a full size sandwich.': 'still delicious, but sad when you see your non-gf friend with a full size sandwich.',\n",
       " 'Such a cute neighborhood spot and perfect for a pre-park brunch.': 'such a cute neighborhood spot and perfect for a pre-park brunch.',\n",
       " 'Sunday Brunch July 13th 2014.': 'sunday brunch july 13th 2014.',\n",
       " 'Tasted slightly more chewy than the usual waffle with flour, and on top there was marinated peach slices and cream.': 'tasted slightly more chewy than the usual waffle with flour, and on top there was marinated peach slices and cream.',\n",
       " 'Thanks to the kind service as well,i will remember this restaurant as a Columbian.': 'thanks to the kind service as well,i will remember this restaurant as a columbian.',\n",
       " 'Thanks, all!': 'thanks, all!',\n",
       " \"That's right, Yahoo!\": \"that's right, yahoo!\",\n",
       " 'The 7 grain waffle with the fresh berries, butterscotch sauce (maple glaze?)': 'the 7 grain waffle with the fresh berries, butterscotch sauce (maple glaze?)',\n",
       " 'The accompanying sauces and jams were so memorable and delicious!': 'the accompanying sauces and jams were so memorable and delicious!',\n",
       " 'The attention to the details of the flavors in the food is impeccable.': 'the attention to the details of the flavors in the food is impeccable.',\n",
       " 'The bathrooms were also clean!': 'the bathrooms were also clean!',\n",
       " 'The beans were seasoned perfectly, as was the rest of the tomato sauce, The tortilla was fresh and soft, and it came with delicious guacamole and sour cream.': 'the beans were seasoned perfectly, as was the rest of the tomato sauce, the tortilla was fresh and soft, and it came with delicious guacamole and sour cream.',\n",
       " 'The beat salad and rice bowl were delicious.': 'the beat salad and rice bowl were delicious.',\n",
       " 'The biscuit sandwich was healthy-ish as they utilized whole wheat flour.': 'the biscuit sandwich was healthy-ish as they utilized whole wheat flour.',\n",
       " 'The biscuit under it was cooked to perfection.': 'the biscuit under it was cooked to perfection.',\n",
       " 'The decor was beautiful and the lighting was warm - a great place for a brunch date.': 'the decor was beautiful and the lighting was warm - a great place for a brunch date.',\n",
       " 'The eggs were perfect: solid on the outside, runny on the inside.': 'the eggs were perfect: solid on the outside, runny on the inside.',\n",
       " 'The flavors blended very well together.': 'the flavors blended very well together.',\n",
       " 'The food here is quite good, and I have no complaints in that area.': 'the food here is quite good, and i have no complaints in that area.',\n",
       " 'The food is awesome!': 'the food is awesome!',\n",
       " 'The food was very fresh, and the chefs knew exactly what they were doing.': 'the food was very fresh, and the chefs knew exactly what they were doing.',\n",
       " 'The food, service & ambiance was exactly what we were looking for.': 'the food, service & ambiance was exactly what we were looking for.',\n",
       " 'The food?': 'the food?',\n",
       " 'The frittata itself was soft and fluffy without being undercooked.': 'the frittata itself was soft and fluffy without being undercooked.',\n",
       " 'The ground leveled glass windows allow you to see the views outside- it is a nice change from the busy pedestrians and giant high rise buildings view of the typical New York street cues in Midtown.': 'the ground leveled glass windows allow you to see the views outside- it is a nice change from the busy pedestrians and giant high rise buildings view of the typical new york street cues in midtown.',\n",
       " 'The hash browns were not the least bit greasy; the pancakes were delicious, and I really enjoyed the juevos (w/ chorizo).': 'the hash browns were not the least bit greasy; the pancakes were delicious, and i really enjoyed the juevos (w/ chorizo).',\n",
       " 'The hollandaise sauce was perfect: smooth and mildly tart.': 'the hollandaise sauce was perfect: smooth and mildly tart.',\n",
       " 'The hot chocolate was made with real cocoa powder and milk.': 'the hot chocolate was made with real cocoa powder and milk.',\n",
       " 'The interior was a little canteenish and there were only a couple of juices on the menu.': 'the interior was a little canteenish and there were only a couple of juices on the menu.',\n",
       " 'The interior was normal, nothing fancy, but we enjoyed window seats and a tiny desk instead of the long family style tables at the center of the restaurant which gives limited privacy.': 'the interior was normal, nothing fancy, but we enjoyed window seats and a tiny desk instead of the long family style tables at the center of the restaurant which gives limited privacy.',\n",
       " 'The mushrooms were perfectly cooked.': 'the mushrooms were perfectly cooked.',\n",
       " 'The omelette was thin (I would ask for eggs more well done next time) and was jam packed with veggies.': 'the omelette was thin (i would ask for eggs more well done next time) and was jam packed with veggies.',\n",
       " 'The only thing I guess I can \"complain\" is that the dishes were small.': 'the only thing i guess i can \"complain\" is that the dishes were small.',\n",
       " 'The pancakes were $13 and the coffee was $4, so the initial bill was $34.': 'the pancakes were $13 and the coffee was $4, so the initial bill was $34.',\n",
       " 'The pancakes with banana and walnut were okay.': 'the pancakes with banana and walnut were okay.',\n",
       " 'The place was packed.': 'the place was packed.',\n",
       " 'The portobello mushrooms were cut into small enough pieces to fit in one bite, but were soft enough to cut further if they were too big for you.': 'the portobello mushrooms were cut into small enough pieces to fit in one bite, but were soft enough to cut further if they were too big for you.',\n",
       " 'The raspberry preserve was so fresh!': 'the raspberry preserve was so fresh!',\n",
       " 'The reason for only two stars is the cost of that food--OMG are they overpriced.': 'the reason for only two stars is the cost of that food--omg are they overpriced.',\n",
       " 'The restaurant is within walking distance of Columbia, and I would recommend for a nice brunch in the area!': 'the restaurant is within walking distance of columbia, and i would recommend for a nice brunch in the area!',\n",
       " 'The salmon was so fresh and delicious.': 'the salmon was so fresh and delicious.',\n",
       " 'The sauce that came with it was definitely different than the waffle glaze, so it was so tasty to discover the flavors within the glaze.': 'the sauce that came with it was definitely different than the waffle glaze, so it was so tasty to discover the flavors within the glaze.',\n",
       " 'The sausage was not fatty at all and the meat patty - although a little smaller when compared to the biscuit (meat:bread ratio) was small, it went was so tasty with the tomato jam, as well as the perfectly cooked eggs!': 'the sausage was not fatty at all and the meat patty - although a little smaller when compared to the biscuit (meat:bread ratio) was small, it went was so tasty with the tomato jam, as well as the perfectly cooked eggs!',\n",
       " 'The server was very friendly and sensitive to my dietary restrictions.': 'the server was very friendly and sensitive to my dietary restrictions.',\n",
       " 'The seven grain waffles, blueberry pancakes with a side of turkey chorizo.': 'the seven grain waffles, blueberry pancakes with a side of turkey chorizo.',\n",
       " 'The staff did not make us feel guilty at all, but welcomed us to stay until their dinner hour started.': 'the staff did not make us feel guilty at all, but welcomed us to stay until their dinner hour started.',\n",
       " \"The staff were so helpful, kind, and soft-spoken about recovering and returning it that I'm duly humbled.\": \"the staff were so helpful, kind, and soft-spoken about recovering and returning it that i'm duly humbled.\",\n",
       " 'The tax was $3, and I left a tip of $6--resulting in a final total of $43 for a breakfast of flapjacks and coffee.': 'the tax was $3, and i left a tip of $6--resulting in a final total of $43 for a breakfast of flapjacks and coffee.',\n",
       " 'The veggies were perfect and fresh!': 'the veggies were perfect and fresh!',\n",
       " 'The waitress serving our table was polite and courteous considering how many customers she was dealing with.': 'the waitress serving our table was polite and courteous considering how many customers she was dealing with.',\n",
       " 'Their coffee is from Brooklyn Roasting Company.': 'their coffee is from brooklyn roasting company.',\n",
       " 'Their maple butter sauce light, sweet and adds a nice taste as opposed to heavier syrups.': 'their maple butter sauce light, sweet and adds a nice taste as opposed to heavier syrups.',\n",
       " 'There are a lot of nice places in the city where you can get a very good breakfast for 1/3rd to 1/2 less than Community.': 'there are a lot of nice places in the city where you can get a very good breakfast for 1/3rd to 1/2 less than community.',\n",
       " 'There was a raspberry sauce beautifully spread on the plate that added a nice tartness to the whole bite.': 'there was a raspberry sauce beautifully spread on the plate that added a nice tartness to the whole bite.',\n",
       " \"There're rather few non-shared tables which is fine as not only is NYC filled with such setup but there's a liveliness in the Columbia area vibe which prefers this setup.\": \"there're rather few non-shared tables which is fine as not only is nyc filled with such setup but there's a liveliness in the columbia area vibe which prefers this setup.\",\n",
       " \"There's a shortage of such nice sit-down restaurants in the Columbia area so this place is not only capitalizing on its presence but doing so with great style and flare.\": \"there's a shortage of such nice sit-down restaurants in the columbia area so this place is not only capitalizing on its presence but doing so with great style and flare.\",\n",
       " 'They could have done without the maple butter and walnuts and would have been better with maple syrup.': 'they could have done without the maple butter and walnuts and would have been better with maple syrup.',\n",
       " \"They were mostly made of potato with hints of carrots, so it wasn't too carroty.\": \"they were mostly made of potato with hints of carrots, so it wasn't too carroty.\",\n",
       " 'They where gracious enough not to charge for the momosasas.': 'they where gracious enough not to charge for the momosasas.',\n",
       " 'This is such a good brunch spot!': 'this is such a good brunch spot!',\n",
       " 'This place is fantastic.': 'this place is fantastic.',\n",
       " 'This place is great for Brunch.': 'this place is great for brunch.',\n",
       " 'This place is really good for breakfast and has great pancakes, sausages, eggs.': 'this place is really good for breakfast and has great pancakes, sausages, eggs.',\n",
       " 'To be honest I  could not tasted the truffle at all, besides the garlic and the pepper and the salt; however with this mix it can hardly go wrong.': 'to be honest i  could not tasted the truffle at all, besides the garlic and the pepper and the salt; however with this mix it can hardly go wrong.',\n",
       " 'To note - any revisions/additions to your order is $2.': 'to note - any revisions/additions to your order is $2.',\n",
       " 'Traveled up here from the upper east side to get away from the usual brunch places.': 'traveled up here from the upper east side to get away from the usual brunch places.',\n",
       " 'Ugh!': 'ugh!',\n",
       " 'Unfortunately, the GF bread is an upcharge for a sandwich half the size of the normal sandwich.': 'unfortunately, the gf bread is an upcharge for a sandwich half the size of the normal sandwich.',\n",
       " 'Vast amounts of seating and an open kitchen where tons of food is prepared live makes for a fun environ.': 'vast amounts of seating and an open kitchen where tons of food is prepared live makes for a fun environ.',\n",
       " 'Veggie sandwich on gluten free bread here.': 'veggie sandwich on gluten free bread here.',\n",
       " 'Very fresh, clean, and NOT oily, which is my usually qualm.': 'very fresh, clean, and not oily, which is my usually qualm.',\n",
       " 'We also shared & loved the fruit salad.': 'we also shared & loved the fruit salad.',\n",
       " 'We both then ordered the breakfast biscuit.': 'we both then ordered the breakfast biscuit.',\n",
       " 'We did have to wait to be seated (which is a good sign even though no one really wants to)...': 'we did have to wait to be seated (which is a good sign even though no one really wants to)...',\n",
       " 'We each ordered blueberry pancakes and a cup of coffee--no fresh fruit, no juice, no bacon.': 'we each ordered blueberry pancakes and a cup of coffee--no fresh fruit, no juice, no bacon.',\n",
       " 'We had ordered three things the beet salad, the rice bowl and the veggie burger.': 'we had ordered three things the beet salad, the rice bowl and the veggie burger.',\n",
       " \"We had to wait 30 minuets for a seat OK Sunday brunch it's popular.\": \"we had to wait 30 minuets for a seat ok sunday brunch it's popular.\",\n",
       " 'We ordered the morning specials : 7 grains waffle and truffle egg dish.': 'we ordered the morning specials : 7 grains waffle and truffle egg dish.',\n",
       " 'We sat at an adorable table on the outdoor patio and our waiter (sadly forgot his name) was awesome.': 'we sat at an adorable table on the outdoor patio and our waiter (sadly forgot his name) was awesome.',\n",
       " 'We stopped in for lunch.': 'we stopped in for lunch.',\n",
       " 'We were pleasantly surprised by how big it was and the fruit was all very fresh.': 'we were pleasantly surprised by how big it was and the fruit was all very fresh.',\n",
       " 'What market are you shopping at!?!?!\"': 'what market are you shopping at!?!?!\"',\n",
       " 'Who knew turkey chorizo existed!!!': 'who knew turkey chorizo existed!!!',\n",
       " 'Will be exploring more items on the menu.': 'will be exploring more items on the menu.',\n",
       " 'Will definitely be back!': 'will definitely be back!',\n",
       " 'Will go back!': 'will go back!',\n",
       " 'Your whole party has to be there to be sat!': 'your whole party has to be there to be sat!',\n",
       " 'another 30 minuets still no food we left.': 'another 30 minuets still no food we left.',\n",
       " 'was kind of overkill because the pancakes and chocolate were far sweet enough.': 'was kind of overkill because the pancakes and chocolate were far sweet enough.',\n",
       " 'with FRESH whipped cream was THE BEST dish there.': 'with fresh whipped cream was the best dish there.'}"
      ]
     },
     "execution_count": 54,
     "metadata": {},
     "output_type": "execute_result"
    }
   ],
   "source": [
    "sentences = sent_tokenize(striptext)\n",
    "for sentence in sentences:\n",
    "    candidate_sentences[sentence] = sentence.lower()\n",
    "candidate_sentences"
   ]
  },
  {
   "cell_type": "code",
   "execution_count": 55,
   "metadata": {
    "collapsed": true
   },
   "outputs": [],
   "source": [
    "for long, short in candidate_sentences.items():\n",
    "    count = 0\n",
    "    for freq_word, frequency_score in most_frequent_words:\n",
    "        if freq_word in short:\n",
    "            count += frequency_score\n",
    "            candidate_sentence_counts[long] = count"
   ]
  },
  {
   "cell_type": "code",
   "execution_count": 56,
   "metadata": {},
   "outputs": [
    {
     "name": "stdout",
     "output_type": "stream",
     "text": [
      "OrderedDict([   ('with FRESH whipped cream was THE BEST dish there.', 132),\n",
      "                (   'was kind of overkill because the pancakes and chocolate '\n",
      "                    'were far sweet enough.',\n",
      "                    142),\n",
      "                ('another 30 minuets still no food we left.', 149),\n",
      "                ('Your whole party has to be there to be sat!', 46)])\n"
     ]
    }
   ],
   "source": [
    "sorted_sentences = OrderedDict(sorted(\n",
    "                    candidate_sentence_counts.items(),\n",
    "                    key = lambda x: x[0],\n",
    "                    reverse = True)[:4])\n",
    "pp.pprint(sorted_sentences)"
   ]
  },
  {
   "cell_type": "markdown",
   "metadata": {},
   "source": [
    "<h4>Packaging all this into a function</h4>\n"
   ]
  },
  {
   "cell_type": "code",
   "execution_count": 57,
   "metadata": {
    "collapsed": true
   },
   "outputs": [],
   "source": [
    "def build_naive_summary(text):\n",
    "    from nltk.tokenize import word_tokenize\n",
    "    from nltk.tokenize import sent_tokenize\n",
    "    from nltk.probability import FreqDist\n",
    "    from nltk.corpus import stopwords\n",
    "    from collections import OrderedDict\n",
    "    summary_sentences = []\n",
    "    candidate_sentences = {}\n",
    "    candidate_sentence_counts = {}\n",
    "    striptext = text.replace('\\n\\n', ' ')\n",
    "    striptext = striptext.replace('\\n', ' ')\n",
    "    words = word_tokenize(striptext)\n",
    "    lowercase_words = [word.lower() for word in words\n",
    "                      if word not in stopwords.words() and word.isalpha()]\n",
    "    word_frequencies = FreqDist(lowercase_words)\n",
    "    most_frequent_words = FreqDist(lowercase_words).most_common(20)\n",
    "    sentences = sent_tokenize(striptext)\n",
    "    for sentence in sentences:\n",
    "        candidate_sentences[sentence] = sentence.lower()\n",
    "    for long, short in candidate_sentences.items():\n",
    "        count = 0\n",
    "        for freq_word, frequency_score in most_frequent_words:\n",
    "            if freq_word in short:\n",
    "                count += frequency_score\n",
    "                candidate_sentence_counts[long] = count   \n",
    "    sorted_sentences = OrderedDict(sorted(\n",
    "                        candidate_sentence_counts.items(),\n",
    "                        key = lambda x: x[1],\n",
    "                        reverse = True)[:4])\n",
    "    return sorted_sentences   "
   ]
  },
  {
   "cell_type": "code",
   "execution_count": 58,
   "metadata": {},
   "outputs": [
    {
     "name": "stdout",
     "output_type": "stream",
     "text": [
      "I've come here several times with a friend for brunch and once for dinner -- we've both really enjoyed a lot of the breakfast foods available; my favorite is the brioche French toast with blackberry and lemon curd & she loves heir waffles.\n",
      "There are a lot of nice places in the city where you can get a very good breakfast for 1/3rd to 1/2 less than Community.\n",
      "Came here for brunch with my wife after she found the good review, and it did not disappoint!\n",
      "The beans were seasoned perfectly, as was the rest of the tomato sauce, The tortilla was fresh and soft, and it came with delicious guacamole and sour cream.\n"
     ]
    }
   ],
   "source": [
    "summary = '\\n'.join(build_naive_summary(community_data.raw()))\n",
    "print(summary)"
   ]
  },
  {
   "cell_type": "code",
   "execution_count": 59,
   "metadata": {},
   "outputs": [
    {
     "name": "stdout",
     "output_type": "stream",
     "text": [
      "i would recommend going for brunch over any other meal, as everything i've ordered for brunch has been quite good the shakshuka is great, and you can't anything else like it in the area.\n",
      "I would love to try them out for dinner, as I said, the service was great and we were checked on regularly.\n",
      "I would give them a better review because the food was good but the waiting really was long.\n",
      "The food was really good and they are known for their brunch menu.\n"
     ]
    }
   ],
   "source": [
    "summary = '\\n'.join(build_naive_summary(le_monde_data.raw()))\n",
    "print(summary)"
   ]
  },
  {
   "cell_type": "markdown",
   "metadata": {},
   "source": [
    "<h4>We can summarize George Washington's first inaugural speech<h4>"
   ]
  },
  {
   "cell_type": "code",
   "execution_count": 60,
   "metadata": {},
   "outputs": [
    {
     "data": {
      "text/plain": [
       "OrderedDict([('I dwell on this prospect with every satisfaction which an ardent love for my country can inspire, since there is no truth more thoroughly established than that there exists in the economy and course of nature an indissoluble union between virtue and happiness; between duty and advantage; between the genuine maxims of an honest and magnanimous policy and the solid rewards of public prosperity and felicity; since we ought to be no less persuaded that the propitious smiles of Heaven can never be expected on a nation that disregards the eternal rules of order and right which Heaven itself has ordained; and since the preservation of the sacred fire of liberty and the destiny of the republican model of government are justly considered, perhaps, as deeply, as finally, staked on the experiment entrusted to the hands of the American people.',\n",
       "              83),\n",
       "             ('Such being the impressions under which I have, in obedience to the public summons, repaired to the present station, it would be peculiarly improper to omit in this first official act my fervent supplications to that Almighty Being who rules over the universe, who presides in the councils of nations, and whose providential aids can supply every human defect, that His benediction may consecrate to the liberties and happiness of the people of the United States a Government instituted by themselves for these essential purposes, and may enable every instrument employed in its administration to execute with success the functions allotted to his charge.',\n",
       "              71),\n",
       "             ('Instead of undertaking particular recommendations on this subject, in which I could be guided by no lights derived from official opportunities, I shall again give way to my entire confidence in your discernment and pursuit of the public good; for I assure myself that whilst you carefully avoid every alteration which might endanger the benefits of an united and effective government, or which ought to await the future lessons of experience, a reverence for the characteristic rights of freemen and a regard for the public harmony will sufficiently influence your deliberations on the question how far the former can be impregnably fortified or the latter be safely and advantageously promoted.',\n",
       "              60),\n",
       "             ('Having thus imparted to you my sentiments as they have been awakened by the occasion which brings us together, I shall take my present leave; but not without resorting once more to the benign Parent of the Human Race in humble supplication that, since He has been pleased to favor the American people with opportunities for deliberating in perfect tranquillity, and dispositions for deciding with unparalleled unanimity on a form of government for the security of their union and the advancement of their happiness, so His divine blessing may be equally conspicuous in the enlarged views, the temperate consultations, and the wise measures on which the success of this Government must depend.',\n",
       "              56)])"
      ]
     },
     "execution_count": 60,
     "metadata": {},
     "output_type": "execute_result"
    }
   ],
   "source": [
    "build_naive_summary(inaugural.raw('1789-Washington.txt'))"
   ]
  },
  {
   "cell_type": "markdown",
   "metadata": {},
   "source": [
    "<h3>gensim: another text summarizer</h3>\n",
    "Gensim uses a network with sentences as nodes and 'lexical similarity' as weights on the arcs between nodes<p>\n"
   ]
  },
  {
   "cell_type": "code",
   "execution_count": 61,
   "metadata": {
    "collapsed": true
   },
   "outputs": [],
   "source": [
    "from wordcloud import WordCloud, STOPWORDS\n",
    "import matplotlib.pyplot as plt\n",
    "%matplotlib inline\n",
    "import nltk\n",
    "from nltk.corpus import PlaintextCorpusReader\n",
    "from nltk import sent_tokenize,word_tokenize \n",
    "from nltk.book import *"
   ]
  },
  {
   "cell_type": "code",
   "execution_count": 62,
   "metadata": {
    "collapsed": true
   },
   "outputs": [],
   "source": [
    "import nltk\n",
    "from nltk.corpus import PlaintextCorpusReader\n",
    "community_root = \"data/community\"\n",
    "le_monde_root = \"data/le_monde\"\n",
    "community_files = \"community.*\"\n",
    "le_monde_files = \"le_monde.*\"\n",
    "heights_root = \"data/heights\"\n",
    "heights_files = \"heights.*\"\n",
    "amigos_root = \"data/amigos\"\n",
    "amigos_files = \"amigos.*\"\n",
    "community_data = PlaintextCorpusReader(community_root,community_files)\n",
    "le_monde_data = PlaintextCorpusReader(le_monde_root,le_monde_files)\n",
    "heights_data = PlaintextCorpusReader(heights_root,heights_files)\n",
    "amigos_data = PlaintextCorpusReader(amigos_root,amigos_files)"
   ]
  },
  {
   "cell_type": "code",
   "execution_count": 63,
   "metadata": {},
   "outputs": [
    {
     "data": {
      "text/plain": [
       "nltk.corpus.reader.plaintext.PlaintextCorpusReader"
      ]
     },
     "execution_count": 63,
     "metadata": {},
     "output_type": "execute_result"
    }
   ],
   "source": [
    "type(community_data)"
   ]
  },
  {
   "cell_type": "code",
   "execution_count": 64,
   "metadata": {
    "collapsed": true
   },
   "outputs": [],
   "source": [
    "text = community_data.raw()\n",
    "summary_sentences = []\n",
    "candidate_sentences = {}\n",
    "candidate_sentence_counts = {}\n",
    "striptext = text.replace('\\n\\n', ' ')\n",
    "striptext = striptext.replace('\\n', ' ')"
   ]
  },
  {
   "cell_type": "code",
   "execution_count": 65,
   "metadata": {
    "collapsed": true
   },
   "outputs": [],
   "source": [
    "import gensim.summarization"
   ]
  },
  {
   "cell_type": "code",
   "execution_count": null,
   "metadata": {
    "collapsed": true
   },
   "outputs": [],
   "source": []
  },
  {
   "cell_type": "code",
   "execution_count": 66,
   "metadata": {
    "collapsed": true
   },
   "outputs": [],
   "source": [
    "#!pip install gensim"
   ]
  },
  {
   "cell_type": "code",
   "execution_count": 67,
   "metadata": {
    "collapsed": true
   },
   "outputs": [],
   "source": [
    "import gensim.summarization"
   ]
  },
  {
   "cell_type": "code",
   "execution_count": 68,
   "metadata": {
    "scrolled": true
   },
   "outputs": [
    {
     "name": "stdout",
     "output_type": "stream",
     "text": [
      "I've come here several times with a friend for brunch and once for dinner -- we've both really enjoyed a lot of the breakfast foods available; my favorite is the brioche French toast with blackberry and lemon curd & she loves heir waffles.\n",
      "I ordered the Country Breakfast and the eggs were delicious and fluffy, the biscuit was moist and flavorful, the carrot hash browns were warm and comforting, and the ham was sweet and juicy.\n",
      "This place is really good for breakfast and has great pancakes, sausages, eggs.\n"
     ]
    }
   ],
   "source": [
    "summary = gensim.summarization.summarize(striptext, word_count=100) \n",
    "print(summary)"
   ]
  },
  {
   "cell_type": "code",
   "execution_count": 69,
   "metadata": {},
   "outputs": [
    {
     "name": "stdout",
     "output_type": "stream",
     "text": [
      "brunch\n",
      "nice\n",
      "food\n",
      "foods\n",
      "egg\n",
      "eggs\n",
      "good\n",
      "sauced\n",
      "sauce\n",
      "sauces\n",
      "fresh\n",
      "communal\n",
      "community\n",
      "pancakes\n",
      "pancake\n",
      "little\n"
     ]
    }
   ],
   "source": [
    "print(gensim.summarization.keywords(striptext,words=10))"
   ]
  },
  {
   "cell_type": "code",
   "execution_count": 70,
   "metadata": {},
   "outputs": [
    {
     "name": "stdout",
     "output_type": "stream",
     "text": [
      "I've come here several times with a friend for brunch and once for dinner -- we've both really enjoyed a lot of the breakfast foods available; my favorite is the brioche French toast with blackberry and lemon curd & she loves heir waffles.\n",
      "There are a lot of nice places in the city where you can get a very good breakfast for 1/3rd to 1/2 less than Community.\n",
      "Came here for brunch with my wife after she found the good review, and it did not disappoint!\n",
      "The beans were seasoned perfectly, as was the rest of the tomato sauce, The tortilla was fresh and soft, and it came with delicious guacamole and sour cream.\n"
     ]
    }
   ],
   "source": [
    "summary = '\\n'.join(build_naive_summary(community_data.raw()))\n",
    "print(summary)"
   ]
  },
  {
   "cell_type": "code",
   "execution_count": 71,
   "metadata": {},
   "outputs": [
    {
     "name": "stdout",
     "output_type": "stream",
     "text": [
      "I think they take forever to take your order, and deliver the food because they want you to sit in here as long as possible to make their business look busy.\n",
      "i would recommend going for brunch over any other meal, as everything i've ordered for brunch has been quite good the shakshuka is great, and you can't anything else like it in the area.\n",
      "i would recommend this dish if you're looking for something unique to get at this restaurant ambience is great, and service is quick and attentive (without being annoying).\n",
      "I would love to try them out for dinner, as I said, the service was great and we were checked on regularly.\n"
     ]
    }
   ],
   "source": [
    "text = le_monde_data.raw()\n",
    "summary_sentences = []\n",
    "candidate_sentences = {}\n",
    "candidate_sentence_counts = {}\n",
    "striptext = text.replace('\\n\\n', ' ')\n",
    "striptext = striptext.replace('\\n', ' ')\n",
    "summary = gensim.summarization.summarize(striptext, word_count=100) \n",
    "print(summary)\n",
    "#print(gensim.summarization.keywords(striptext,words=10))"
   ]
  },
  {
   "cell_type": "markdown",
   "metadata": {},
   "source": [
    "<h1>Topic modeling</h1>\n",
    "<h4>The goal of topic modeling is to identify the major concepts underlying a piece of text</h4>\n",
    "<h4>Topic modeling uses \"Unsupervised Learning\". No apriori knowledge is necessary\n",
    "<li>Though it is helpful in cleaning up results!"
   ]
  },
  {
   "cell_type": "markdown",
   "metadata": {},
   "source": [
    "<h3>LDA: Latent Dirichlet Allocation Model</h3>\n",
    "<li>Identifies potential topics using pruning techniques like 'upward closure'\n",
    "<li>Computes conditional probabilities for topic word sets\n",
    "<li>Identifies the most likely topics\n",
    "<li>Does this over multiple passes probabilistically picking topics in each pass\n",
    "<li>Good intuitive explanation: http://blog.echen.me/2011/08/22/introduction-to-latent-dirichlet-allocation/"
   ]
  },
  {
   "cell_type": "code",
   "execution_count": 72,
   "metadata": {
    "collapsed": true
   },
   "outputs": [],
   "source": [
    "from gensim import corpora\n",
    "from gensim.models.ldamodel import LdaModel\n",
    "from gensim.parsing.preprocessing import STOPWORDS\n",
    "import pprint"
   ]
  },
  {
   "cell_type": "markdown",
   "metadata": {},
   "source": [
    "<h4>Prepare the text</h4>"
   ]
  },
  {
   "cell_type": "code",
   "execution_count": 73,
   "metadata": {},
   "outputs": [
    {
     "data": {
      "text/plain": [
       "360"
      ]
     },
     "execution_count": 73,
     "metadata": {},
     "output_type": "execute_result"
    }
   ],
   "source": [
    "text = PlaintextCorpusReader(\"data/\",\"Nikon_coolpix_4300.txt\").raw()\n",
    "striptext = text.replace('\\n\\n', ' ')\n",
    "striptext = striptext.replace('\\n', ' ')\n",
    "sentences = sent_tokenize(striptext)\n",
    "#words = word_tokenize(striptext)\n",
    "#tokenize each sentence into word tokens\n",
    "texts = [[word for word in sentence.lower().split()\n",
    "        if word not in STOPWORDS and word.isalnum()]\n",
    "        for sentence in sentences]\n",
    "len(texts)"
   ]
  },
  {
   "cell_type": "markdown",
   "metadata": {},
   "source": [
    "<h4>Create a (word,frequency) dictionary for each word in the text</h4>"
   ]
  },
  {
   "cell_type": "code",
   "execution_count": 74,
   "metadata": {},
   "outputs": [
    {
     "name": "stdout",
     "output_type": "stream",
     "text": [
      "*****************************************************************************\n",
      "* Annotated by: Minqing Hu and Bing Liu, 2004.              \n",
      "*\t\tDepartment of Computer Sicence\n",
      "*               University of Illinois at Chicago              \n",
      "*\n",
      "* Product name: Nikon coolpix 4300\n",
      "* Review Source: amazon.com\n",
      "*\n",
      "* See Readme.txt to find the meaning of each symbol. \n",
      "*****************************************************************************\n",
      "\n",
      "[t]the best 4mp compact digital available  \n",
      "camera[+2]##this camera is perfect for an enthusiastic amateur photographer . \n",
      "picture[+3], macro[+3]##the pictures are razor-sharp , even in macro . \n",
      "size[+2][u]##it is small enough to fit easily in a coat pocket or purse . \n",
      "weight[+1][u]##it is light enough to carry around all day without bother . \n",
      "feature[+2][u]##operating its many features is easy and often obvious - i 'm no annie lebovitz , but i was able to figure out most of its abilities just messing around with it at a camera store . \n",
      "manual[+2]##the manual does a fine job filling in any blanks that remain . \n",
      "auto focus[+2],scene mode[+2]##the auto-focus performs well , but i love having the 12 optional scene modes - they are dummy-proof , and correspond to many situations in which i would actually seek to use the camera . \n",
      "rechargable battery[+2]##comes with a 16 mb compact flash and one rechargable battery the charging unit , included , is fast and small . \n",
      "##i bought a 256 mb cf and a second battery , so it 's good to go on a long vacation . \n",
      "camera[+2]##i enthusiastically recommend this camera . \n",
      "[t]perfect to grow into \n",
      "##i got my camera three days back , and although i had some experience with digital cameras prior to purchasing this one , i still rate myself as a beginner . \n",
      "##i bought this camera because it fit my budget and the pre-production and production model reviews were positive . \n",
      "camera[+2][p], use[+1][u], feature[+2]##it 's easy to use , and yet very feature rich . \n",
      "auto mode[+1],scene mode[+2]##in the auto mode it functions basically as a point and click , the scene modes are very easy to use and produce good results . \n",
      "manual mode[+2]##the manual mode is feature rich and i can 't wait to get the hang of it . \n",
      "macro mode[+3],picture[+3]##the macro mode is exceptional , the pictures are very clear and you can take the pictures with the lens unbelievably close the subject . \n",
      "battery life[+3]##the battery life is very good , i got about 90 minutes with the lcd turned on all the time , the first time around , and i have been using it with the lcd off every now and then , and have yet needed to recharge it . \n",
      "##the camera comes with a lexar 16mb starter card , which stores about 10 images in fine mode at the highest resolution , i intend to buy a bigger card soon . \n",
      "[t]near perfection \n",
      "##i love photography . \n",
      "##i had an older camera that was simply a point and shoot camera . \n",
      "##i needed something with more power , so i bought a nikon coolpix 4300 . \n",
      "camera[+3], use[+1]##i fell in love with this camera , it combines ease of use , with an immense amount of options and power . \n",
      "##you can use the scene modes , or fine tune the options , i. you can change the iso level , shutter speed , etc. \n",
      "camera[+2]##this camera is ideal for people who want more power , but do n't want to spend 1000s dollars on a camera . \n",
      "[t]not too excited \n",
      "##i bought coolpix 4300 two months after i had bought canon powershot s400 . \n",
      "##reason for two ? \n",
      "##it was not easy sharing one with my teen age kid . \n",
      "##the two cameras are very similar in functionality and pricing . \n",
      "##i 've had no problem with canon whatsoever . \n",
      "picture quality[+1]##with nikon , although picture qualities are as good as any other 4 mp cameras , i 've had the following headaches ; \n",
      "transfer[-2]##1 . pictures wo n't transfer to pc directly from the camera using the included transfer cable . \n",
      "##i did everything i could , and it took many days of frustration before concluding that the only way to transfer to pc is with the card reader . \n",
      "##card reader is included . \n",
      "##2 . the speed is noticeably slower than canon , especially so with flashes on . \n",
      "##3 . with low battery , it twice wiped out the entire pictures in the memory chip . \n",
      "##i used lexar 256 mb and i still use it which means nothing is wrong with lexar . \n",
      "##be very careful when the battery is low and make sure to carry extra batteries . \n",
      "[t]only \" cons \" here\n",
      "##the other reviewers have clearly pointed all the good things about this camera , which i do agree . \n",
      "##but there are certain issues might be they are to me here - all of them are minor; not major ones though , \n",
      "auto mode[-2]##. this camera keeps on autofocussing in auto mode with a buzzing sound which can 't be stopped . \n",
      "##would be really good if they have given an option to stop this autofocussing . \n",
      "##. if you want to have the date ; time on the image , its only through their software \" nikon view \" which reads the images date ; time from the images meta-data . \n",
      "##so if you use your card reader ; copy images - you got to onceagain open them through their software to put the date ; time . \n",
      "##in that too , there is n't a direct way to add date ; time - you got to say ' print images ' to a different directory in which there is an option to specify the date ; time . \n",
      "image[-2]##. even the slightest of the shakes totally distorts your image \n",
      "indoor image[-2]##. images taken indoor were n't so clear . \n",
      "##you got to have flash ' on ' to get it eventhough your room is well lit \n",
      "lens cap[-3]##. lens cap is a really annoying \n",
      "##. go ; get a high speed like lexar 12x or higher cf card . \n",
      "##else with simpler viking cf cards , it takes couple of seconds to write a picture with approximately \" fine **\" picture quality  \" image size : 1600 . \n",
      "movie[-2]##. the movie clips taken will always have some ' noise ' in it - you can 't avoid that . \n",
      "camera[+2], picture[+2], close-up shooting[+3]##but overall this is a good camera with a ' really good ' picture clarity ; an exceptional close-up shooting capability . \n",
      "##i would rate this is 4.5 stars picture quality ; image size defined above are specific to nikon coolpix . \n",
      "[t]bad service \n",
      "menu dial knob[-2]##within a year , there are problems with my menu dial knob . \n",
      "##it became stucked which makes it almost impossible to switch between modes . \n",
      "servicing[-2]##i send my camera to nikon for servicing , took them a whole 6 weeks to diagnose the problem . \n",
      "##worse of all , they claim that it 's some kind of internal damage and refuse to cover the cost via warranty ! \n",
      "##they would n't repair my camera unless if i pay $ 100 for parts ? and labor ! \n",
      "camera[+2],customer service[-2]##it is a good camera in terms of the function and quality , but take your chance with it because nikon absolutely sucks when it comes to customer service . \n",
      "[t]system error \n",
      "system error[-2]##got a \" system error \" problem 30 days after purchase . \n",
      "camera[-2]##made the camera totally inoperable . \n",
      "lens cap[-2]##also , the lens cap design is flawed . \n",
      "##you have to manually take the cap off in order to use it . \n",
      "audio[-2]##audio on video also lacking . \n",
      "picture[+3],delay[+1]##otherwise , it takes very good pictures ; shutter delay is n't so bad either . \n",
      "##still , had to send it back to nikon for repair . \n",
      "[t]amazing camera \n",
      "##i am an amateur photographer and here is a piece of advise to all the folks who are thinking about making a move the digital world . \n",
      "camera[+3]##nikon 4300 , i feel , is the best camera out there for the features and price . \n",
      "##here were my requirements in a digital camera : \n",
      "##1 . i had initially thought of buying a 2 or 3 megapixel camera but these are good for 4x6 \" or 5x7 \" prints and i wanted some really great 8x10 \" photos once in a while . \n",
      "##2 . i did not want a very small camera as it seems to get lost in my hands and i was n't comfortable with that . \n",
      "##i wanted a decent sized camera with a contour for my fingers to hold it steadily . \n",
      "##3 . i wanted a camera that had a lot of built-in settings for different types of suroundings while giving me an option to use my photography skills although , i am an amateur with an interest in photography by turning on the manual settings . \n",
      "##4 . and , of course , i wanted a respected brand and had to stay within my budget because i had bought an expensive camcorder before but had n't used it much . \n",
      "##depending on all the above requirements , i had narrowed down my search to nikon 4300 and canon powershot s400 models . \n",
      "##nikon got the final nod for its settings auto and manual along with movie modes , medium; compact size , price , brand name , good software that is included and previous reviews . \n",
      "##i should say i have been very happy with my decision ever since . \n",
      "picture[+3]##the pictures are absolutely amazing - the camera captures the minutest of details . \n",
      "##a few things that might make it even better : \n",
      "indoor picture[-1]##1 . pictures taken in an indoor setting are a little dull and rarely hazy if you tend to take photographs from a distance . \n",
      "delay[-2][u]##2 . it takes a while for the camera to actually capture the photograph from the time you click the button and i have seen people becoming a little impatient waiting for the flash to glow . \n",
      "picture[-2]##3 . the pictures come out hazy if your hands shake even for a moment during the entire process of taking a picture . \n",
      "##all the above , i think , are problems with all the digital cameras out there and so i have no major complaints . \n",
      "##try to buy a tripod and that should solve some of those problems . \n",
      "##whichever camera you buy , add upto about 200 dollars for an additional memory card i bought a 256 mb card , usb card reader , camera bag and the warranty . \n",
      "##and finally , get your pictures developed at a kodak picture maker machine even though it costs you a little extra - no one can beat kodak processing in terms of clarity and brightness . \n",
      "##hope this review has helped you in making up your mind . \n",
      "##i have taken about 150 photographs so far and have absolutely loved the experience . \n",
      "##i am looking forward to my vegas trip for some great photographs now . \n",
      "[t]super camera \n",
      "##with our compact 35mm broken , and a vacation in europe at hand , i finally decided to enter the digital age . \n",
      "##i first intended to buy the 3100 , but am really happy to invest the extra money for the 4300 . \n",
      "##the lense is a lot better , and the 4mb produce fantastic pictures . \n",
      "auto mode[+2], manual mode[+2], scene mode[+2]##the possibilities with auto , manual , and the very helpful \" scene \" mode , which offers 11 optimized situational settings like portrait , landscape , beach / snow , sunset etc. , are endless . \n",
      "movie mode[+2]##the movie mode is also working great . \n",
      "software[+3]##the 4300 comes with excellent easy to install software i use it on xp and win98 without problem , battery charger , usb and video cable . \n",
      "##a 64mb flash card camera comes with a 16mb holds 52 pictures on \" normal \" resolution . \n",
      "print[+2]##i experimented with online print ordering with the two major us brick and mortar retailers , and they both delivered great results . \n",
      "print[+3]##even at the \" normal \" setting , a 8x10 print ! shows not a single sign of visible rendering or pixels - you could never tell that the picture has been taken by a \" digital \" . \n",
      "battery life[+1]##the battery life is ok , but can be somewhat short when working a lot with the monitor on . \n",
      "##i therefore bought a second battery as a backup , and due to the lightingfast charging with the included charger , which by the way works on 110v as well as 220v in europe , we ran never out of \" juice \" . \n",
      "##i highly recommend the accessory kit , which provides you with everything else you need : \n",
      "##a nice camera bag , which holds camera plus all the cables and the charger . \n",
      "##furher it contains a card reader , a flash card folder for up to 8 cards , a lense cleaning rag , and an ac adapter , which is very helpful when working in an \" outlet environment \" . \n",
      "camera[+3]##over all a fantastic very compact camera , which made us experience photography on a totally new level ! \n",
      "[t]camera shake \n",
      "##after reading all the glowing review on this camera , i went to my local camera shop to try one . \n",
      "##i currently own an olympus d-550 which takes wonderful outdoor pictures . \n",
      "##however , indoor pictures of subjects more than a few feet away can be blurry or grainy . \n",
      "##anyway , in the store , i tried coolpix 4300 along with two other 4mp models minolta dimage s414 , and panasonic lumix . \n",
      "picture[-2]##focusing on a display rack about 20 feet away in a brightly lit room during day time , pictures produced by this camera were blurry and in a shade of orange . \n",
      "##pictures produced by the minolta were orange but not blurry . \n",
      "##pictures produced by the panasonic were excellent . \n",
      "##the store clerk concluded that the blurriness may be caused by shaking the camera slightly when i press the button , which is understandable since this camera is lighter than the other two models . \n",
      "##anyway , i ended up purchasing the lumix . \n",
      "##i 'm sure that this camera has all the wonderful features that others talk about . \n",
      "##however , as an average person with unsteady hands , i doubt it 'll perform well in lower light settings . \n",
      "[t]great camera \n",
      "##i purchased the nikon 4300 after several weeks of searching . \n",
      "##the value , name , and resolution signed the lease . \n",
      "picture[+3]##after nearly 800 pictures i have found that this nikon takes incredible pictures . \n",
      "digital zoom[+2],optical zoom[+2]##the digital zoom takes as good of pictures , as the optical zoom does ! \n",
      "picture[-2]##the inside pics , can be a bit challenging , but when you can instantly delete pics you dont like , that are not focused perfectly , or need lighting adjustments , make this camera very simple and effective . \n",
      "feature[+3]##i love all of the features , and presets as well . \n",
      "sunset feature[+3]##sunset feature takes incredible pics in the morning , and the evening ! \n",
      "software[+3]##the software you get with this camera is perfect . \n",
      "touchup[+2], redeye[+2]##touchups , redeye , and so on are very easy to alter , and correct . \n",
      "##i definately recommend a large memory card . \n",
      "##i use a 128mb card , and usually get around 70 to 100 pics 1024-1280 res. , with good resolution . \n",
      "##very large pics take 8mb each ! \n",
      "battery life[+2]##battery life is good , although i recommend two rechargebles , or a alkaline backup , for those emergency pics you have to have . \n",
      "camera[+3]##all and all , i am extremely pleased with this camera . \n",
      "##making the step from film to digital has been a great move . \n",
      "##i find myself emailing pics to everyone i know . \n",
      "camera[+3]##great camera , great investment ! \n",
      "[t]excellent camera \n",
      "##this is my second digital camera , though i also use one at work and have some experience with several nikon and canon models . \n",
      "use[+1][u],quality[+2],size[+1]##the nikon coolpix 4300 is wonderful -- easy to use , high quality , and compact in size . \n",
      "##with an extra battery and a couple of good sized memory cards you are all set for a day of picture taking while on vacation . \n",
      "auto setting[+2]##the auto setting does a great job most of the time but there are manual settings for those who want them . \n",
      "##if something were to happen to my nikon coolpix 4300 , i would order another just like it . \n",
      "[t]the ricksters review \n",
      "##after much research i decided on the nikon coolpix 4300 . \n",
      "camera[+2][p]##it has many great features and very few bad ones . \n",
      "picture[+2],ease of use[+2]##it takes excellent pics and is very easy to use , if you read the manual . \n",
      "##if you cant get great pics from this camera its because you havent read the manual . \n",
      "lcd[-1]##the only things i have found that i havent liked is that the lcd is hard to read in daylight but everyone elses is too . \n",
      "download[+2]##downloads are a snap and quick . \n",
      "control[+2]##controls easy yo use and easy to get to . \n",
      "camera[+3]##i 'm extremely glad i bought this camera . \n",
      "[t]super little camera \n",
      "camera[+3]##really happy with this little camera . \n",
      "size[+2][u]##it is n't big and offensive , though you would n't know it by looking at the pics it takes . \n",
      "##got it for christmas , still learning a few of the settings , but i do n't take pictures every single day . \n",
      "picture[+2],print[+2]##settings for just about everything , beautiful pics and beautiful prints . \n",
      "zoomed image[+2]##i expected the 12x digital zoom to be grainy , but onfull size high to fine quality , the zoomed images are quite impressive . \n",
      "##did buy a 256mb compact flash , it holds a lot of pics at any resolution . \n",
      "##i only wish you could get high quality tiff images at all resolutions , but does n't seem any of the buget cameras do . \n",
      "camera[+2]##still , at least from my perspective , a great camera for the money , and i 'm a happy camper ! \n",
      "[t]beginner looks experienced with coolpix \n",
      "camera[+2]##this is a wonderful camera . \n",
      "##my wife and i read and read and read reviews on different cameras for months . \n",
      "##in the end this is the one that we decided upon and since have never had buyer 's remorse . \n",
      "4mp[+2],optical zoom[+2]##4 mp gives you room for the future gaining experience ; cost offsets over time from wanting more in a camera , 3x optical and the fact that it carries nikon 's quality reputation behind it make the whole package prove itself worthwile at the price . \n",
      "picture[+2]##one neat thing - i have taken some pictures in what i thought would be impossible lighting conditions pitch black rooms - no problem for the camera - rooms looked like they had ample lighting . \n",
      "[t]can i have a few more stars please \n",
      "camera[+3]##this little camera has created a marriage between myself and nikon. never knew i could love a digital camera so much . \n",
      "software[+3], online service[+2]##the software that comes with it is amazing and the online service that comes free is really very neat. clean clear and well focused on over 95 % of all photos taken by a beginner . \n",
      "##100 % perfect if you put some thought and time into reading the manual before you take the photos . \n",
      "##i took the camera and just gave it to someone . \n",
      "##no instructions . \n",
      "photo[+2]##just point and shoot and the photos were great . \n",
      "##just imagine if you place a bit of knowledge when you take your photos . \n",
      "memory card[+2]##the memory card fit nicely since i also have a pocket pc and it automatically installed a picture software on my pda wolla . \n",
      "##my pda becames a digital album . \n",
      "##i have a 128mb card in it and can shoot over 150 hi res photos . \n",
      "camera[+2]##if you have to buy a camera on a buget, this has got to be the one . \n",
      "##go get it . \n",
      "##before they are sold out ! \n",
      "[t]great camera \n",
      "camera[+2]##great camera , i have been using this for several months and got excellent results , simple friendly usage , in many scenes indoor , outdoor , snow , close up macro etc. \n",
      "[t]great camera for a great price \n",
      "##i bought my nikon coolpix4300 about a week ago . \n",
      "camera[+3], feature[+2]##this is my first digital camera and i can say that i am quite impressed with the features that it has . \n",
      "use[+2][u]##it is easy enough to use for a beginner like me but it has plenty of features for me to grow into . \n",
      "macro[+2]##i particularly like the way it aids me in taking my macro shots . \n",
      "picture quality[+2]##my friends were impressed with the quality of the pictures i took ! \n",
      "autofocus[-2]##one downside though is that autofocus does not work well when battery is low . \n",
      "##i assume this is the case for most cameras since it does not have enough power to do autofocus . \n",
      "battery life[+1]##battery life is ok . \n",
      "##i plan on buying a second battery and a larger cf for it . \n",
      "[t]not disappointed \n",
      "camera[+2]##great camera , and for the price you can 't beat it . \n",
      "##i 've been using it for about 3 months now . \n",
      "control[+3]##i found the controls very intuitive and learned how to manuver through the menus quickly . \n",
      "quality[+3]##the quality is superb . \n",
      "size[+2]##the small size is perfect for my little hands , but may perhaps be uncomfortable or awkward for a bigger person . \n",
      "[t]field tested \n",
      "##we use older versions 880 , 885 of this model in the office and i find them to produce excellent quality photos . \n",
      "nikon 4300[+3]##the 4300 is a very durable , compact package , and i find nikon to be a brand that i can trust . \n",
      "##it comes with a 16mb flash card that you will need to upgrade ! \n",
      "##we got a 256mb card , and have been hard-pressed to fill it over a weekend . \n",
      "##the only drawbacks that i have noticed : \n",
      "battery[-2]##it comes with a rechargable battery that does not seem to last all that long , especially if you use the flash a lot . \n",
      "##so , it 's a good idea to purchase an extra battery to insure that you are not left hanging . \n",
      "auto-focus assist light[-1]##it does not have an auto-focus assist light which is nice for taking shots in low-light situations it allows the camera to focus in low light . \n",
      "##i would say that this is not a major issue , but it can be slightly annoying if you care about these things . \n",
      "optical zoom[-1]##it has a 3x optical zoom , which is average for these cameras . \n",
      "##for more , you sacrifice weight and size : more optical zoom requires more glass and focal length . \n",
      "##it does have a digital zoom on top of the optical zoom , but you sacrifice quality . \n",
      "##i set the camera to the \" manual \" mode for one main reason : \n",
      "##in any other mode it autofocuses continuously and burns batteries . \n",
      "##in manual , you can set it to \" single af \" where it will focus by depressing the shudder button prior to taking the pic ; this is not really a hinderance , you just have to be familiar with its menus and features . \n",
      "##in reality , these are the only drawbacks this camera has , much less than many other models ! \n",
      "##it is easy to \" focus \" in on the drawbacks , so do n't think i hate this camera . \n",
      "camera[+3]##it really is an awesome camera that is hard to beat for general-to moderate snapping . \n",
      "##for work , we use them in the field often , and they hold up really well . \n",
      "macro[+2]##they take excellent macro shots as well . \n",
      "menu[+2]##the menus and features are easy to manipulate and access , and it takes silent movies . \n",
      "[t]it do n't get better \n",
      "camera[+2]##i compared this to a lot of other cameras , believe me , it 's value for money . \n",
      "picture[+3]##the picturers are amazing . \n",
      "##do n't waste time looking at anything else , just buy this one . \n",
      "##it do n't get any better then the nikon 4300 . \n",
      "[t]excellent compact digital camera \n",
      "##i am a nikon fan , and owned and used slr nikon fe , n50 and n90s for many many years . \n",
      "picture quality[+2],function[+2]##recently bought this coolpix 4300 along with a 256mb ultra flash card . as expected , i happily found that qualities of the picture are excellent with 3m-4m pixel / fine combos and many of the user-friendly functions are very similar to slr models , and with added convenience of a digital camera that you can see pictures immediately . \n",
      "txt file[+2]##i particularly like the \" txt \" file which records all the control information for all the pictures you take. \n",
      "size[+2][u]##the compact digital camera is especially useful if you have little children around and you can always take the camera with you and take many pictures of them . \n",
      "##try to buy a high capacity ultra card , as it 's 2x as faster as the regular cf card . \n",
      "##consider the time you save during picture taking especially not missing a good moment and during download , it 's well worth the little extra money . \n",
      "##an extra rechargeable en-el 1 battery is also handy , so you will seldom run into \" out of battery \" situation . \n",
      "##use the rechargeable because that saves you money and helps the environment in a long run . \n",
      "##one thing puzzles me is that for \" fine and 2200 + \" quality pictures , one ultra 256mb cf card can only hold 130-140 pics , but the size of the pictures are only around 1.2 mb , the math does not add up . \n",
      "##i would expecct the card to hold over 200 pictures for size of 1.2 mb/per . \n",
      "##anybody can explain that ? \n",
      "nikon[+3]##a nikon will make you happier and leave you lots of good memories , as always . \n",
      "[t]you will not be sorry \n",
      "camera[+3],picture[+2]##i highly recommend this camera to anyone looking for a good digital camera that takes great pictures yet does n't take weeks to figure out how to operate . \n",
      "picture quality[+2]##we take this camera with us everywhere and are constantly amazed at the quality of the pictures that we get and the number of different ways the camera allows for pictures to be taken . \n",
      "camera[+3]##i am a picture fanatic so i consider myself picky and if your the same way this camera will not let you down.now buy it ! \n",
      "[t]absolutely great point and shoot camera \n",
      "##first of all , let 's start with my needs : 1 $ 500 budget 2 4mp resolution , 3 optical clarity and color , 4 fast - very little shutter lag and quick sep-up for next picture , 5 compact size , and 6 good camera grip to minimize camera shake . \n",
      "##for three months , i 've researched the internet and magazines , queried various sales personnel , and took hands-on in-store test drives . \n",
      "##and i finally settled on the nikon coolpix 4300 . \n",
      "camera[+3]##i have it for a week now , and this camera has exceeded my expectations . \n",
      "picture[+2],indoor shot[+1]##the daylight pictures are brilliant and the indoor shots are very good provided that your subject is no more than about 8 feet away . \n",
      "##the shutter lag is on par with what i 've experienced with point and shoot 35mm and aps film cameras and the next frame advance is about a couple seconds using a high speed 12x 128mb compact flash card a salesperson recommended the high speed card since next frame advance speed was important to me - and it was only a few dollars more . \n",
      "image download[+2][u]##uploading the images to my windows-based pc is very fast and simple . \n",
      "indoor shot[-1]##the only drawbacks i 've encountered are : 1 indoor shots from a distance > 8ft lack contrast and color , but i 've found this to be a problem with all cameras with built-in flashes that i 've used even on a nikon slr . \n",
      "##right now , i 'm researching for an inexpensive slave flash unit that 's designed for digital cameras . \n",
      "battery life[-1]##2 the battery life seems to be on the short side but adequate for most situations . \n",
      "##i got 45 outdoor and 15 indoor shots with the monitor on turning the camera off and on over a 4 hour period before the battery died . \n",
      "##an extra for a back-up battery would be a good investment . \n",
      "software[-1]##3 the picture editing software it came with is adequate , but not very robust . \n",
      "##i 'll still use my photosuite for editing . \n",
      "##one more thing about indoor shots - many of the reviews knocked this camera for low light focusing . \n",
      "##just for the heck of it , i took it into my dark kitchen with only indirect light coming in though the door , and the focusing was just fine . \n",
      "camera[+3]##in summary , i love this camera and would whole-heartedly recommend this to anyone wanting a high quality point and shoot camera in the medium price range . \n",
      "##- since i wrote the review above in january 2003 , i still love this camera . \n",
      "##i 've picked up a few accessories that i found to be useful . \n",
      "##i bought a digi-slave dsf-1s flash unit . \n",
      "##i do n't use a bracket , i just hold it above my head and aim the flash with my left hand . \n",
      "##i also got a ur-e 4 step down ring adapter , lc-e 900 lens cap , and the nikon 28mm filter set . \n",
      "##this provides added protection for the camera lens and allows the use of filters . \n",
      "##i leave the adapter and uv filter on all the time . \n",
      "##this also allows you to turn on the camera on without having to remove the lens cap . \n",
      "##the downside is that you might accidentally take pictures with the lens cap on , the camera wo n't fit in the small cases , and 28mm filters are expensive and hard to find . \n",
      "[t]great camera \n",
      "camera[+2]##great camera . \n",
      "use[+2]##i am impressed with how easy this camera is to use . \n",
      "picture[+2]##it takes great pictures . \n",
      "manual[+2]##the manual is easy to understand , and it is mostly idiot proof . \n",
      "size[+2][u]##it is small , unlike my canon slr , so it easily fits in my pocket . \n",
      "##i have not yet figured out how to make it snap quick pictures for action shots . \n",
      "##now where did i put that manual ? \n",
      "[t]best 4-mp camera of its size and price range \n",
      "##do n't let my five star rating fool you . \n",
      "##the nikon coolpix 4300 deserves six . \n",
      "camera[+3]##i got this camera about a month ago and i can 't put it down . \n",
      "##i was considering buying the minolta f-100 and the sony dsc-p 9 , but at the camera shop , realized this one went above and beyond . \n",
      "picture quality[+2]##i selected the 4300 right away and have gotten high quality pictures every time . \n",
      "autofocus[+1],scene mode[+1],manual mode[+1]##autofocus feels exactly like my film camera while scene and manual mode add a little fun challenge to it all . \n",
      "##i would also recommend buying an extra battery and at least a 128 mb compact flash type i memory card . \n",
      "##buy this camera and savour it . \n",
      "[t]great camera \n",
      "##i reviewed several digital cameras before settling on this one . \n",
      "##this one was rated very high by several people check out this site and epinions.com . \n",
      "camera[+2][p]##i have not been disappointed with my purchase . \n",
      "picture quality[+2]##picture quality in outdoor settings is indistinguishable from 35mm . \n",
      "indoor shot[-2]##on average , indoor shots with a flash are not quite as good as 35mm . \n",
      "##however , the convenience of using digital far outweighs the slightly less accurate indoor pictures . \n",
      "camera[+3]##i am extremely satisfied with this camera . \n",
      "##i purchased it from amazon on a since discontinued promotion . \n",
      "##buy an extra battery - life is good but still somewhat short . \n",
      "##do n't buy this camera if you are not going to purchase a 128 megabyte card . \n",
      "##you need the storage to hold a decent amount of shots at 4 megapixel resolution . \n",
      "##i have one thing to say to the numbskulls who complain that this camera 's controls are confusing and hard to remember : \n",
      "##read the directions ! \n",
      "##the regular mode in this camera works for 80 % of settings . \n",
      "scene mode[+2]##the \" scene \" mode works well for the remainder of shots that are not going to be in a \" regular \" setting . \n",
      "##i wish the camera had a higher optical zoom so that i could take better wildlife photos . \n",
      "optical setting[+1]##however , its 3x optical setting is acceptable for 70 % of the shots that i take . \n",
      "##buy this camera , you wo n't regret it . \n",
      "[t]digital nirvana \n",
      "camera[+2]##if you 're looking for a small , compact , super resolution digital camera , you can end your search with the nikon 4300 ! \n",
      "picture quality[+3]##after a lengthy and extensive journey for a feature-loaded , high performance , travel size camera , i initially gravitated to this little gem because of the superior picture quality 4 mega pixel . \n",
      "nikon[+3]##after using it for about a month , i can state unequivocably that this nikon definitely delivers a huge bang for the buck . \n",
      "use[+1], accessory[+2]##its easy to use and the sheer fun of being able to use an array of nikon accessories like the telephoto and wide-angle lenses is the proverbial icing on the cake . \n",
      "picture quality[+3],feature[+3]##yes , the picture quality and features which are too numerous to mention are unmatched for any camera in this price range . \n",
      "design[+2],construction[+2],optic[+2]##the design and construction are excellent -- as is the legendary quality of the nikon optics . \n",
      "##i own a 35mm slr camera and this is my second digital . \n",
      "##if you 're seeking that elusive state of photographic euphoria that is free of buyer 's remorse and filled with cool , then travel to the world of the coolpix 4300 ! \n",
      "[t]i love this baby\n",
      "##had it for a week . \n",
      "camera[+2]##there are so many functions in this little , yet powerful camera ! \n",
      "[t]it 's so cool \n",
      "camera[+3][p]##seriously ! i love it ! \n",
      "##my room is so dark and when i tried taking pics of it with my old camera , they came out black , but with this , they look the same in the picture as in real life . \n",
      "##better actually cause my carpet looks clean , lol . \n",
      "camera[+2]##but this camera is great ! \n",
      "picture quality[+3],movie[+1]##the picture quality is amazing and you can connect it to your tv and could make silent movies that way if you wanted to . \n",
      "##i can 't connect it to my computer though , but that 's a problem with windows me , not the camera . \n",
      "##if you have windows me you should upgrade to xp anyway , lol . \n",
      "##but it works perfectly fine on my parent 's computer . \n",
      "lense cap[+1]##it does have a lense cap , but it wo n't let you take pics with it on which is real good . \n",
      "battery[+2]##the battery recharges ral fast and the recharger thingy that comes with is real nice . \n",
      "camera[+2]##ooh , and i dropped it and it still works fine : this little camera has so many features i have n't even gotten to all of them yet . \n",
      "[t]excellent little camera \n",
      "##i did quite a bit of research before buying this camera , and this one had everything i was looking for . \n",
      "use[+1],feature[+2], camera[+2]##it 's easy for beginners to use , but has features that more serious photographers will love , so it 's an excellent camera to grow into . \n",
      "weight[+2], picture[+2][u]##it 's light weight enough to take with you everywhere , but powerful enough to get outstanding pix . \n",
      "continuous shot mode[+3]##i love the continuous shot mode , which allows you to take up to 16 pix in rapid succession -- great for action shots . \n",
      "photo quality[+3],print[+2]##i 'm amazed at the photo quality -- prints are indistinguishable from 35mm prints . \n",
      "8mb card[-2]##i only have one complaint , and that is the 8mb card included . \n",
      "8mb[-2]##8mb for a camera like this is a joke . \n",
      "##a card with more memory is a must . \n",
      "##a minor quibble , since most cameras on the market still only include the 8mb cards . \n",
      "[t]perfect consumer digital camera \n",
      "##if you do any research into digital cameras , you 'll quickly find that this camera is just about the best value out there . \n",
      "##these are the reasons i think it 's great : \n",
      "feature[+2]##1 it has all the features an amatuer photo-enthusiast would want . \n",
      "use[+2]##2 it is easy enough for my grandmother to use . \n",
      "size[+2][u],control[+2]##3 it is very compact but the controls are so well designed that they 're still easy to use . \n",
      "##4 it has optional lenses like wide angles and extra zooms . \n",
      "##5 for \" digital film \" it uses compact flash cards , which are easy to find , cheap , reliable and supported by many other devices you may have at hoome . \n",
      "nikon support[+1]##6 the nikon coolpix line is a well-established line so you know support and parts are going to be available even when nikon releases a newer model . \n",
      "picture quality[+2]##7 picture quality is excellent . \n",
      "battery life[+2]##8 battery life is excellent . \n",
      "optical zoom[+2]##9 3x built-in optical zoom is a lot for this price range . \n",
      "price[+2]##10 great price for all the features . \n",
      "##here 's what you may miss or be annoyed by with this camera : \n",
      "firewire[-1]##1 no direct firewire to the camera . \n",
      "##there is usb , though . \n",
      "viewfinder[-1]##2 the camera is so small that when you attach some lenses i have the 19mm wide-angle -- wc-e 68 , the optical viewfinder is partially obscured . \n",
      "##this does n't affect the picture , of course . \n",
      "##you just have to use the lcd viewfinder to see the whole picture . \n",
      "##it 's no problem for me personally . \n",
      "##3 battery has to be removed to recharge . \n",
      "##4 an ac adapter for powering the camera while the battery 's out is not included , although one can be purchased separately . \n",
      "##5 two different adapters -- ur-e 4 and ur-e 7 -- are required for some attachment lenses . \n",
      "##most of these \" annoyances \" , though , are comparable to what you 'll find on other cameras in this price range . \n",
      "[t]small camera \n",
      "##i am new to the whole digital camera thing ; well , new to the whole camera thing period , really . \n",
      "price[+2][u],learn[+2],image[+3]##this camera was affordable , very easy to learn , and produces spectacular images . \n",
      "auto mode[+2],scene mode[+2],manual mode[+2]##the auto-mode is good enough for most shots but the 4300 also boasts 12 versatile scene modes as well as a manual mode though i admit i have n't played with it too much on manual . \n",
      "size[+2]##it 's size also makes it ideal for travel . \n",
      "camera[+3]##overall the nikon 4300 is a very dependable , robust , and useful little camera . \n",
      "[t]nikon does it again \n",
      "camera[+3], print quality[+3]##awesome camera with huge print quality in a tiny package . \n",
      "closeup mode[+2], battery[+2]##the same 4mp chip from the 4500 camera , plus a 3x zoom with the ability to expand upon that with extenders , great closeup mode , long lasting rechargable battery , etc etc. \n",
      "camera[+3]##in my opinion it 's the best camera for the money if you 're looking for something that 's easy to use , small good for travel , and provides excellent , sharp images . \n",
      "\n"
     ]
    }
   ],
   "source": [
    "print(text)"
   ]
  },
  {
   "cell_type": "code",
   "execution_count": 75,
   "metadata": {},
   "outputs": [
    {
     "data": {
      "text/plain": [
       "'*****************************************************************************\\n* Annotated by: Minqing Hu and Bing Liu, 2004.              \\n*\\t\\tDepartment of Computer Sicence\\n*               University of Illinois at Chicago              \\n*\\n* Product name: Nikon coolpix 4300\\n* Review Source: amazon.com\\n*\\n* See Readme.txt to find the meaning of each symbol. \\n*****************************************************************************\\n\\n[t]the best 4mp compact digital available  \\ncamera[+2]##this camera is perfect for an enthusiastic amateur photographer . \\npicture[+3], macro[+3]##the pictures are razor-sharp , even in macro . \\nsize[+2][u]##it is small enough to fit easily in a coat pocket or purse . \\nweight[+1][u]##it is light enough to carry around all day without bother . \\nfeature[+2][u]##operating its many features is easy and often obvious - i \\'m no annie lebovitz , but i was able to figure out most of its abilities just messing around with it at a camera store . \\nmanual[+2]##the manual does a fine job filling in any blanks that remain . \\nauto focus[+2],scene mode[+2]##the auto-focus performs well , but i love having the 12 optional scene modes - they are dummy-proof , and correspond to many situations in which i would actually seek to use the camera . \\nrechargable battery[+2]##comes with a 16 mb compact flash and one rechargable battery the charging unit , included , is fast and small . \\n##i bought a 256 mb cf and a second battery , so it \\'s good to go on a long vacation . \\ncamera[+2]##i enthusiastically recommend this camera . \\n[t]perfect to grow into \\n##i got my camera three days back , and although i had some experience with digital cameras prior to purchasing this one , i still rate myself as a beginner . \\n##i bought this camera because it fit my budget and the pre-production and production model reviews were positive . \\ncamera[+2][p], use[+1][u], feature[+2]##it \\'s easy to use , and yet very feature rich . \\nauto mode[+1],scene mode[+2]##in the auto mode it functions basically as a point and click , the scene modes are very easy to use and produce good results . \\nmanual mode[+2]##the manual mode is feature rich and i can \\'t wait to get the hang of it . \\nmacro mode[+3],picture[+3]##the macro mode is exceptional , the pictures are very clear and you can take the pictures with the lens unbelievably close the subject . \\nbattery life[+3]##the battery life is very good , i got about 90 minutes with the lcd turned on all the time , the first time around , and i have been using it with the lcd off every now and then , and have yet needed to recharge it . \\n##the camera comes with a lexar 16mb starter card , which stores about 10 images in fine mode at the highest resolution , i intend to buy a bigger card soon . \\n[t]near perfection \\n##i love photography . \\n##i had an older camera that was simply a point and shoot camera . \\n##i needed something with more power , so i bought a nikon coolpix 4300 . \\ncamera[+3], use[+1]##i fell in love with this camera , it combines ease of use , with an immense amount of options and power . \\n##you can use the scene modes , or fine tune the options , i. you can change the iso level , shutter speed , etc. \\ncamera[+2]##this camera is ideal for people who want more power , but do n\\'t want to spend 1000s dollars on a camera . \\n[t]not too excited \\n##i bought coolpix 4300 two months after i had bought canon powershot s400 . \\n##reason for two ? \\n##it was not easy sharing one with my teen age kid . \\n##the two cameras are very similar in functionality and pricing . \\n##i \\'ve had no problem with canon whatsoever . \\npicture quality[+1]##with nikon , although picture qualities are as good as any other 4 mp cameras , i \\'ve had the following headaches ; \\ntransfer[-2]##1 . pictures wo n\\'t transfer to pc directly from the camera using the included transfer cable . \\n##i did everything i could , and it took many days of frustration before concluding that the only way to transfer to pc is with the card reader . \\n##card reader is included . \\n##2 . the speed is noticeably slower than canon , especially so with flashes on . \\n##3 . with low battery , it twice wiped out the entire pictures in the memory chip . \\n##i used lexar 256 mb and i still use it which means nothing is wrong with lexar . \\n##be very careful when the battery is low and make sure to carry extra batteries . \\n[t]only \" cons \" here\\n##the other reviewers have clearly pointed all the good things about this camera , which i do agree . \\n##but there are certain issues might be they are to me here - all of them are minor; not major ones though , \\nauto mode[-2]##. this camera keeps on autofocussing in auto mode with a buzzing sound which can \\'t be stopped . \\n##would be really good if they have given an option to stop this autofocussing . \\n##. if you want to have the date ; time on the image , its only through their software \" nikon view \" which reads the images date ; time from the images meta-data . \\n##so if you use your card reader ; copy images - you got to onceagain open them through their software to put the date ; time . \\n##in that too , there is n\\'t a direct way to add date ; time - you got to say \\' print images \\' to a different directory in which there is an option to specify the date ; time . \\nimage[-2]##. even the slightest of the shakes totally distorts your image \\nindoor image[-2]##. images taken indoor were n\\'t so clear . \\n##you got to have flash \\' on \\' to get it eventhough your room is well lit \\nlens cap[-3]##. lens cap is a really annoying \\n##. go ; get a high speed like lexar 12x or higher cf card . \\n##else with simpler viking cf cards , it takes couple of seconds to write a picture with approximately \" fine **\" picture quality  \" image size : 1600 . \\nmovie[-2]##. the movie clips taken will always have some \\' noise \\' in it - you can \\'t avoid that . \\ncamera[+2], picture[+2], close-up shooting[+3]##but overall this is a good camera with a \\' really good \\' picture clarity ; an exceptional close-up shooting capability . \\n##i would rate this is 4.5 stars picture quality ; image size defined above are specific to nikon coolpix . \\n[t]bad service \\nmenu dial knob[-2]##within a year , there are problems with my menu dial knob . \\n##it became stucked which makes it almost impossible to switch between modes . \\nservicing[-2]##i send my camera to nikon for servicing , took them a whole 6 weeks to diagnose the problem . \\n##worse of all , they claim that it \\'s some kind of internal damage and refuse to cover the cost via warranty ! \\n##they would n\\'t repair my camera unless if i pay $ 100 for parts ? and labor ! \\ncamera[+2],customer service[-2]##it is a good camera in terms of the function and quality , but take your chance with it because nikon absolutely sucks when it comes to customer service . \\n[t]system error \\nsystem error[-2]##got a \" system error \" problem 30 days after purchase . \\ncamera[-2]##made the camera totally inoperable . \\nlens cap[-2]##also , the lens cap design is flawed . \\n##you have to manually take the cap off in order to use it . \\naudio[-2]##audio on video also lacking . \\npicture[+3],delay[+1]##otherwise , it takes very good pictures ; shutter delay is n\\'t so bad either . \\n##still , had to send it back to nikon for repair . \\n[t]amazing camera \\n##i am an amateur photographer and here is a piece of advise to all the folks who are thinking about making a move the digital world . \\ncamera[+3]##nikon 4300 , i feel , is the best camera out there for the features and price . \\n##here were my requirements in a digital camera : \\n##1 . i had initially thought of buying a 2 or 3 megapixel camera but these are good for 4x6 \" or 5x7 \" prints and i wanted some really great 8x10 \" photos once in a while . \\n##2 . i did not want a very small camera as it seems to get lost in my hands and i was n\\'t comfortable with that . \\n##i wanted a decent sized camera with a contour for my fingers to hold it steadily . \\n##3 . i wanted a camera that had a lot of built-in settings for different types of suroundings while giving me an option to use my photography skills although , i am an amateur with an interest in photography by turning on the manual settings . \\n##4 . and , of course , i wanted a respected brand and had to stay within my budget because i had bought an expensive camcorder before but had n\\'t used it much . \\n##depending on all the above requirements , i had narrowed down my search to nikon 4300 and canon powershot s400 models . \\n##nikon got the final nod for its settings auto and manual along with movie modes , medium; compact size , price , brand name , good software that is included and previous reviews . \\n##i should say i have been very happy with my decision ever since . \\npicture[+3]##the pictures are absolutely amazing - the camera captures the minutest of details . \\n##a few things that might make it even better : \\nindoor picture[-1]##1 . pictures taken in an indoor setting are a little dull and rarely hazy if you tend to take photographs from a distance . \\ndelay[-2][u]##2 . it takes a while for the camera to actually capture the photograph from the time you click the button and i have seen people becoming a little impatient waiting for the flash to glow . \\npicture[-2]##3 . the pictures come out hazy if your hands shake even for a moment during the entire process of taking a picture . \\n##all the above , i think , are problems with all the digital cameras out there and so i have no major complaints . \\n##try to buy a tripod and that should solve some of those problems . \\n##whichever camera you buy , add upto about 200 dollars for an additional memory card i bought a 256 mb card , usb card reader , camera bag and the warranty . \\n##and finally , get your pictures developed at a kodak picture maker machine even though it costs you a little extra - no one can beat kodak processing in terms of clarity and brightness . \\n##hope this review has helped you in making up your mind . \\n##i have taken about 150 photographs so far and have absolutely loved the experience . \\n##i am looking forward to my vegas trip for some great photographs now . \\n[t]super camera \\n##with our compact 35mm broken , and a vacation in europe at hand , i finally decided to enter the digital age . \\n##i first intended to buy the 3100 , but am really happy to invest the extra money for the 4300 . \\n##the lense is a lot better , and the 4mb produce fantastic pictures . \\nauto mode[+2], manual mode[+2], scene mode[+2]##the possibilities with auto , manual , and the very helpful \" scene \" mode , which offers 11 optimized situational settings like portrait , landscape , beach / snow , sunset etc. , are endless . \\nmovie mode[+2]##the movie mode is also working great . \\nsoftware[+3]##the 4300 comes with excellent easy to install software i use it on xp and win98 without problem , battery charger , usb and video cable . \\n##a 64mb flash card camera comes with a 16mb holds 52 pictures on \" normal \" resolution . \\nprint[+2]##i experimented with online print ordering with the two major us brick and mortar retailers , and they both delivered great results . \\nprint[+3]##even at the \" normal \" setting , a 8x10 print ! shows not a single sign of visible rendering or pixels - you could never tell that the picture has been taken by a \" digital \" . \\nbattery life[+1]##the battery life is ok , but can be somewhat short when working a lot with the monitor on . \\n##i therefore bought a second battery as a backup , and due to the lightingfast charging with the included charger , which by the way works on 110v as well as 220v in europe , we ran never out of \" juice \" . \\n##i highly recommend the accessory kit , which provides you with everything else you need : \\n##a nice camera bag , which holds camera plus all the cables and the charger . \\n##furher it contains a card reader , a flash card folder for up to 8 cards , a lense cleaning rag , and an ac adapter , which is very helpful when working in an \" outlet environment \" . \\ncamera[+3]##over all a fantastic very compact camera , which made us experience photography on a totally new level ! \\n[t]camera shake \\n##after reading all the glowing review on this camera , i went to my local camera shop to try one . \\n##i currently own an olympus d-550 which takes wonderful outdoor pictures . \\n##however , indoor pictures of subjects more than a few feet away can be blurry or grainy . \\n##anyway , in the store , i tried coolpix 4300 along with two other 4mp models minolta dimage s414 , and panasonic lumix . \\npicture[-2]##focusing on a display rack about 20 feet away in a brightly lit room during day time , pictures produced by this camera were blurry and in a shade of orange . \\n##pictures produced by the minolta were orange but not blurry . \\n##pictures produced by the panasonic were excellent . \\n##the store clerk concluded that the blurriness may be caused by shaking the camera slightly when i press the button , which is understandable since this camera is lighter than the other two models . \\n##anyway , i ended up purchasing the lumix . \\n##i \\'m sure that this camera has all the wonderful features that others talk about . \\n##however , as an average person with unsteady hands , i doubt it \\'ll perform well in lower light settings . \\n[t]great camera \\n##i purchased the nikon 4300 after several weeks of searching . \\n##the value , name , and resolution signed the lease . \\npicture[+3]##after nearly 800 pictures i have found that this nikon takes incredible pictures . \\ndigital zoom[+2],optical zoom[+2]##the digital zoom takes as good of pictures , as the optical zoom does ! \\npicture[-2]##the inside pics , can be a bit challenging , but when you can instantly delete pics you dont like , that are not focused perfectly , or need lighting adjustments , make this camera very simple and effective . \\nfeature[+3]##i love all of the features , and presets as well . \\nsunset feature[+3]##sunset feature takes incredible pics in the morning , and the evening ! \\nsoftware[+3]##the software you get with this camera is perfect . \\ntouchup[+2], redeye[+2]##touchups , redeye , and so on are very easy to alter , and correct . \\n##i definately recommend a large memory card . \\n##i use a 128mb card , and usually get around 70 to 100 pics 1024-1280 res. , with good resolution . \\n##very large pics take 8mb each ! \\nbattery life[+2]##battery life is good , although i recommend two rechargebles , or a alkaline backup , for those emergency pics you have to have . \\ncamera[+3]##all and all , i am extremely pleased with this camera . \\n##making the step from film to digital has been a great move . \\n##i find myself emailing pics to everyone i know . \\ncamera[+3]##great camera , great investment ! \\n[t]excellent camera \\n##this is my second digital camera , though i also use one at work and have some experience with several nikon and canon models . \\nuse[+1][u],quality[+2],size[+1]##the nikon coolpix 4300 is wonderful -- easy to use , high quality , and compact in size . \\n##with an extra battery and a couple of good sized memory cards you are all set for a day of picture taking while on vacation . \\nauto setting[+2]##the auto setting does a great job most of the time but there are manual settings for those who want them . \\n##if something were to happen to my nikon coolpix 4300 , i would order another just like it . \\n[t]the ricksters review \\n##after much research i decided on the nikon coolpix 4300 . \\ncamera[+2][p]##it has many great features and very few bad ones . \\npicture[+2],ease of use[+2]##it takes excellent pics and is very easy to use , if you read the manual . \\n##if you cant get great pics from this camera its because you havent read the manual . \\nlcd[-1]##the only things i have found that i havent liked is that the lcd is hard to read in daylight but everyone elses is too . \\ndownload[+2]##downloads are a snap and quick . \\ncontrol[+2]##controls easy yo use and easy to get to . \\ncamera[+3]##i \\'m extremely glad i bought this camera . \\n[t]super little camera \\ncamera[+3]##really happy with this little camera . \\nsize[+2][u]##it is n\\'t big and offensive , though you would n\\'t know it by looking at the pics it takes . \\n##got it for christmas , still learning a few of the settings , but i do n\\'t take pictures every single day . \\npicture[+2],print[+2]##settings for just about everything , beautiful pics and beautiful prints . \\nzoomed image[+2]##i expected the 12x digital zoom to be grainy , but onfull size high to fine quality , the zoomed images are quite impressive . \\n##did buy a 256mb compact flash , it holds a lot of pics at any resolution . \\n##i only wish you could get high quality tiff images at all resolutions , but does n\\'t seem any of the buget cameras do . \\ncamera[+2]##still , at least from my perspective , a great camera for the money , and i \\'m a happy camper ! \\n[t]beginner looks experienced with coolpix \\ncamera[+2]##this is a wonderful camera . \\n##my wife and i read and read and read reviews on different cameras for months . \\n##in the end this is the one that we decided upon and since have never had buyer \\'s remorse . \\n4mp[+2],optical zoom[+2]##4 mp gives you room for the future gaining experience ; cost offsets over time from wanting more in a camera , 3x optical and the fact that it carries nikon \\'s quality reputation behind it make the whole package prove itself worthwile at the price . \\npicture[+2]##one neat thing - i have taken some pictures in what i thought would be impossible lighting conditions pitch black rooms - no problem for the camera - rooms looked like they had ample lighting . \\n[t]can i have a few more stars please \\ncamera[+3]##this little camera has created a marriage between myself and nikon. never knew i could love a digital camera so much . \\nsoftware[+3], online service[+2]##the software that comes with it is amazing and the online service that comes free is really very neat. clean clear and well focused on over 95 % of all photos taken by a beginner . \\n##100 % perfect if you put some thought and time into reading the manual before you take the photos . \\n##i took the camera and just gave it to someone . \\n##no instructions . \\nphoto[+2]##just point and shoot and the photos were great . \\n##just imagine if you place a bit of knowledge when you take your photos . \\nmemory card[+2]##the memory card fit nicely since i also have a pocket pc and it automatically installed a picture software on my pda wolla . \\n##my pda becames a digital album . \\n##i have a 128mb card in it and can shoot over 150 hi res photos . \\ncamera[+2]##if you have to buy a camera on a buget, this has got to be the one . \\n##go get it . \\n##before they are sold out ! \\n[t]great camera \\ncamera[+2]##great camera , i have been using this for several months and got excellent results , simple friendly usage , in many scenes indoor , outdoor , snow , close up macro etc. \\n[t]great camera for a great price \\n##i bought my nikon coolpix4300 about a week ago . \\ncamera[+3], feature[+2]##this is my first digital camera and i can say that i am quite impressed with the features that it has . \\nuse[+2][u]##it is easy enough to use for a beginner like me but it has plenty of features for me to grow into . \\nmacro[+2]##i particularly like the way it aids me in taking my macro shots . \\npicture quality[+2]##my friends were impressed with the quality of the pictures i took ! \\nautofocus[-2]##one downside though is that autofocus does not work well when battery is low . \\n##i assume this is the case for most cameras since it does not have enough power to do autofocus . \\nbattery life[+1]##battery life is ok . \\n##i plan on buying a second battery and a larger cf for it . \\n[t]not disappointed \\ncamera[+2]##great camera , and for the price you can \\'t beat it . \\n##i \\'ve been using it for about 3 months now . \\ncontrol[+3]##i found the controls very intuitive and learned how to manuver through the menus quickly . \\nquality[+3]##the quality is superb . \\nsize[+2]##the small size is perfect for my little hands , but may perhaps be uncomfortable or awkward for a bigger person . \\n[t]field tested \\n##we use older versions 880 , 885 of this model in the office and i find them to produce excellent quality photos . \\nnikon 4300[+3]##the 4300 is a very durable , compact package , and i find nikon to be a brand that i can trust . \\n##it comes with a 16mb flash card that you will need to upgrade ! \\n##we got a 256mb card , and have been hard-pressed to fill it over a weekend . \\n##the only drawbacks that i have noticed : \\nbattery[-2]##it comes with a rechargable battery that does not seem to last all that long , especially if you use the flash a lot . \\n##so , it \\'s a good idea to purchase an extra battery to insure that you are not left hanging . \\nauto-focus assist light[-1]##it does not have an auto-focus assist light which is nice for taking shots in low-light situations it allows the camera to focus in low light . \\n##i would say that this is not a major issue , but it can be slightly annoying if you care about these things . \\noptical zoom[-1]##it has a 3x optical zoom , which is average for these cameras . \\n##for more , you sacrifice weight and size : more optical zoom requires more glass and focal length . \\n##it does have a digital zoom on top of the optical zoom , but you sacrifice quality . \\n##i set the camera to the \" manual \" mode for one main reason : \\n##in any other mode it autofocuses continuously and burns batteries . \\n##in manual , you can set it to \" single af \" where it will focus by depressing the shudder button prior to taking the pic ; this is not really a hinderance , you just have to be familiar with its menus and features . \\n##in reality , these are the only drawbacks this camera has , much less than many other models ! \\n##it is easy to \" focus \" in on the drawbacks , so do n\\'t think i hate this camera . \\ncamera[+3]##it really is an awesome camera that is hard to beat for general-to moderate snapping . \\n##for work , we use them in the field often , and they hold up really well . \\nmacro[+2]##they take excellent macro shots as well . \\nmenu[+2]##the menus and features are easy to manipulate and access , and it takes silent movies . \\n[t]it do n\\'t get better \\ncamera[+2]##i compared this to a lot of other cameras , believe me , it \\'s value for money . \\npicture[+3]##the picturers are amazing . \\n##do n\\'t waste time looking at anything else , just buy this one . \\n##it do n\\'t get any better then the nikon 4300 . \\n[t]excellent compact digital camera \\n##i am a nikon fan , and owned and used slr nikon fe , n50 and n90s for many many years . \\npicture quality[+2],function[+2]##recently bought this coolpix 4300 along with a 256mb ultra flash card . as expected , i happily found that qualities of the picture are excellent with 3m-4m pixel / fine combos and many of the user-friendly functions are very similar to slr models , and with added convenience of a digital camera that you can see pictures immediately . \\ntxt file[+2]##i particularly like the \" txt \" file which records all the control information for all the pictures you take. \\nsize[+2][u]##the compact digital camera is especially useful if you have little children around and you can always take the camera with you and take many pictures of them . \\n##try to buy a high capacity ultra card , as it \\'s 2x as faster as the regular cf card . \\n##consider the time you save during picture taking especially not missing a good moment and during download , it \\'s well worth the little extra money . \\n##an extra rechargeable en-el 1 battery is also handy , so you will seldom run into \" out of battery \" situation . \\n##use the rechargeable because that saves you money and helps the environment in a long run . \\n##one thing puzzles me is that for \" fine and 2200 + \" quality pictures , one ultra 256mb cf card can only hold 130-140 pics , but the size of the pictures are only around 1.2 mb , the math does not add up . \\n##i would expecct the card to hold over 200 pictures for size of 1.2 mb/per . \\n##anybody can explain that ? \\nnikon[+3]##a nikon will make you happier and leave you lots of good memories , as always . \\n[t]you will not be sorry \\ncamera[+3],picture[+2]##i highly recommend this camera to anyone looking for a good digital camera that takes great pictures yet does n\\'t take weeks to figure out how to operate . \\npicture quality[+2]##we take this camera with us everywhere and are constantly amazed at the quality of the pictures that we get and the number of different ways the camera allows for pictures to be taken . \\ncamera[+3]##i am a picture fanatic so i consider myself picky and if your the same way this camera will not let you down.now buy it ! \\n[t]absolutely great point and shoot camera \\n##first of all , let \\'s start with my needs : 1 $ 500 budget 2 4mp resolution , 3 optical clarity and color , 4 fast - very little shutter lag and quick sep-up for next picture , 5 compact size , and 6 good camera grip to minimize camera shake . \\n##for three months , i \\'ve researched the internet and magazines , queried various sales personnel , and took hands-on in-store test drives . \\n##and i finally settled on the nikon coolpix 4300 . \\ncamera[+3]##i have it for a week now , and this camera has exceeded my expectations . \\npicture[+2],indoor shot[+1]##the daylight pictures are brilliant and the indoor shots are very good provided that your subject is no more than about 8 feet away . \\n##the shutter lag is on par with what i \\'ve experienced with point and shoot 35mm and aps film cameras and the next frame advance is about a couple seconds using a high speed 12x 128mb compact flash card a salesperson recommended the high speed card since next frame advance speed was important to me - and it was only a few dollars more . \\nimage download[+2][u]##uploading the images to my windows-based pc is very fast and simple . \\nindoor shot[-1]##the only drawbacks i \\'ve encountered are : 1 indoor shots from a distance > 8ft lack contrast and color , but i \\'ve found this to be a problem with all cameras with built-in flashes that i \\'ve used even on a nikon slr . \\n##right now , i \\'m researching for an inexpensive slave flash unit that \\'s designed for digital cameras . \\nbattery life[-1]##2 the battery life seems to be on the short side but adequate for most situations . \\n##i got 45 outdoor and 15 indoor shots with the monitor on turning the camera off and on over a 4 hour period before the battery died . \\n##an extra for a back-up battery would be a good investment . \\nsoftware[-1]##3 the picture editing software it came with is adequate , but not very robust . \\n##i \\'ll still use my photosuite for editing . \\n##one more thing about indoor shots - many of the reviews knocked this camera for low light focusing . \\n##just for the heck of it , i took it into my dark kitchen with only indirect light coming in though the door , and the focusing was just fine . \\ncamera[+3]##in summary , i love this camera and would whole-heartedly recommend this to anyone wanting a high quality point and shoot camera in the medium price range . \\n##- since i wrote the review above in january 2003 , i still love this camera . \\n##i \\'ve picked up a few accessories that i found to be useful . \\n##i bought a digi-slave dsf-1s flash unit . \\n##i do n\\'t use a bracket , i just hold it above my head and aim the flash with my left hand . \\n##i also got a ur-e 4 step down ring adapter , lc-e 900 lens cap , and the nikon 28mm filter set . \\n##this provides added protection for the camera lens and allows the use of filters . \\n##i leave the adapter and uv filter on all the time . \\n##this also allows you to turn on the camera on without having to remove the lens cap . \\n##the downside is that you might accidentally take pictures with the lens cap on , the camera wo n\\'t fit in the small cases , and 28mm filters are expensive and hard to find . \\n[t]great camera \\ncamera[+2]##great camera . \\nuse[+2]##i am impressed with how easy this camera is to use . \\npicture[+2]##it takes great pictures . \\nmanual[+2]##the manual is easy to understand , and it is mostly idiot proof . \\nsize[+2][u]##it is small , unlike my canon slr , so it easily fits in my pocket . \\n##i have not yet figured out how to make it snap quick pictures for action shots . \\n##now where did i put that manual ? \\n[t]best 4-mp camera of its size and price range \\n##do n\\'t let my five star rating fool you . \\n##the nikon coolpix 4300 deserves six . \\ncamera[+3]##i got this camera about a month ago and i can \\'t put it down . \\n##i was considering buying the minolta f-100 and the sony dsc-p 9 , but at the camera shop , realized this one went above and beyond . \\npicture quality[+2]##i selected the 4300 right away and have gotten high quality pictures every time . \\nautofocus[+1],scene mode[+1],manual mode[+1]##autofocus feels exactly like my film camera while scene and manual mode add a little fun challenge to it all . \\n##i would also recommend buying an extra battery and at least a 128 mb compact flash type i memory card . \\n##buy this camera and savour it . \\n[t]great camera \\n##i reviewed several digital cameras before settling on this one . \\n##this one was rated very high by several people check out this site and epinions.com . \\ncamera[+2][p]##i have not been disappointed with my purchase . \\npicture quality[+2]##picture quality in outdoor settings is indistinguishable from 35mm . \\nindoor shot[-2]##on average , indoor shots with a flash are not quite as good as 35mm . \\n##however , the convenience of using digital far outweighs the slightly less accurate indoor pictures . \\ncamera[+3]##i am extremely satisfied with this camera . \\n##i purchased it from amazon on a since discontinued promotion . \\n##buy an extra battery - life is good but still somewhat short . \\n##do n\\'t buy this camera if you are not going to purchase a 128 megabyte card . \\n##you need the storage to hold a decent amount of shots at 4 megapixel resolution . \\n##i have one thing to say to the numbskulls who complain that this camera \\'s controls are confusing and hard to remember : \\n##read the directions ! \\n##the regular mode in this camera works for 80 % of settings . \\nscene mode[+2]##the \" scene \" mode works well for the remainder of shots that are not going to be in a \" regular \" setting . \\n##i wish the camera had a higher optical zoom so that i could take better wildlife photos . \\noptical setting[+1]##however , its 3x optical setting is acceptable for 70 % of the shots that i take . \\n##buy this camera , you wo n\\'t regret it . \\n[t]digital nirvana \\ncamera[+2]##if you \\'re looking for a small , compact , super resolution digital camera , you can end your search with the nikon 4300 ! \\npicture quality[+3]##after a lengthy and extensive journey for a feature-loaded , high performance , travel size camera , i initially gravitated to this little gem because of the superior picture quality 4 mega pixel . \\nnikon[+3]##after using it for about a month , i can state unequivocably that this nikon definitely delivers a huge bang for the buck . \\nuse[+1], accessory[+2]##its easy to use and the sheer fun of being able to use an array of nikon accessories like the telephoto and wide-angle lenses is the proverbial icing on the cake . \\npicture quality[+3],feature[+3]##yes , the picture quality and features which are too numerous to mention are unmatched for any camera in this price range . \\ndesign[+2],construction[+2],optic[+2]##the design and construction are excellent -- as is the legendary quality of the nikon optics . \\n##i own a 35mm slr camera and this is my second digital . \\n##if you \\'re seeking that elusive state of photographic euphoria that is free of buyer \\'s remorse and filled with cool , then travel to the world of the coolpix 4300 ! \\n[t]i love this baby\\n##had it for a week . \\ncamera[+2]##there are so many functions in this little , yet powerful camera ! \\n[t]it \\'s so cool \\ncamera[+3][p]##seriously ! i love it ! \\n##my room is so dark and when i tried taking pics of it with my old camera , they came out black , but with this , they look the same in the picture as in real life . \\n##better actually cause my carpet looks clean , lol . \\ncamera[+2]##but this camera is great ! \\npicture quality[+3],movie[+1]##the picture quality is amazing and you can connect it to your tv and could make silent movies that way if you wanted to . \\n##i can \\'t connect it to my computer though , but that \\'s a problem with windows me , not the camera . \\n##if you have windows me you should upgrade to xp anyway , lol . \\n##but it works perfectly fine on my parent \\'s computer . \\nlense cap[+1]##it does have a lense cap , but it wo n\\'t let you take pics with it on which is real good . \\nbattery[+2]##the battery recharges ral fast and the recharger thingy that comes with is real nice . \\ncamera[+2]##ooh , and i dropped it and it still works fine : this little camera has so many features i have n\\'t even gotten to all of them yet . \\n[t]excellent little camera \\n##i did quite a bit of research before buying this camera , and this one had everything i was looking for . \\nuse[+1],feature[+2], camera[+2]##it \\'s easy for beginners to use , but has features that more serious photographers will love , so it \\'s an excellent camera to grow into . \\nweight[+2], picture[+2][u]##it \\'s light weight enough to take with you everywhere , but powerful enough to get outstanding pix . \\ncontinuous shot mode[+3]##i love the continuous shot mode , which allows you to take up to 16 pix in rapid succession -- great for action shots . \\nphoto quality[+3],print[+2]##i \\'m amazed at the photo quality -- prints are indistinguishable from 35mm prints . \\n8mb card[-2]##i only have one complaint , and that is the 8mb card included . \\n8mb[-2]##8mb for a camera like this is a joke . \\n##a card with more memory is a must . \\n##a minor quibble , since most cameras on the market still only include the 8mb cards . \\n[t]perfect consumer digital camera \\n##if you do any research into digital cameras , you \\'ll quickly find that this camera is just about the best value out there . \\n##these are the reasons i think it \\'s great : \\nfeature[+2]##1 it has all the features an amatuer photo-enthusiast would want . \\nuse[+2]##2 it is easy enough for my grandmother to use . \\nsize[+2][u],control[+2]##3 it is very compact but the controls are so well designed that they \\'re still easy to use . \\n##4 it has optional lenses like wide angles and extra zooms . \\n##5 for \" digital film \" it uses compact flash cards , which are easy to find , cheap , reliable and supported by many other devices you may have at hoome . \\nnikon support[+1]##6 the nikon coolpix line is a well-established line so you know support and parts are going to be available even when nikon releases a newer model . \\npicture quality[+2]##7 picture quality is excellent . \\nbattery life[+2]##8 battery life is excellent . \\noptical zoom[+2]##9 3x built-in optical zoom is a lot for this price range . \\nprice[+2]##10 great price for all the features . \\n##here \\'s what you may miss or be annoyed by with this camera : \\nfirewire[-1]##1 no direct firewire to the camera . \\n##there is usb , though . \\nviewfinder[-1]##2 the camera is so small that when you attach some lenses i have the 19mm wide-angle -- wc-e 68 , the optical viewfinder is partially obscured . \\n##this does n\\'t affect the picture , of course . \\n##you just have to use the lcd viewfinder to see the whole picture . \\n##it \\'s no problem for me personally . \\n##3 battery has to be removed to recharge . \\n##4 an ac adapter for powering the camera while the battery \\'s out is not included , although one can be purchased separately . \\n##5 two different adapters -- ur-e 4 and ur-e 7 -- are required for some attachment lenses . \\n##most of these \" annoyances \" , though , are comparable to what you \\'ll find on other cameras in this price range . \\n[t]small camera \\n##i am new to the whole digital camera thing ; well , new to the whole camera thing period , really . \\nprice[+2][u],learn[+2],image[+3]##this camera was affordable , very easy to learn , and produces spectacular images . \\nauto mode[+2],scene mode[+2],manual mode[+2]##the auto-mode is good enough for most shots but the 4300 also boasts 12 versatile scene modes as well as a manual mode though i admit i have n\\'t played with it too much on manual . \\nsize[+2]##it \\'s size also makes it ideal for travel . \\ncamera[+3]##overall the nikon 4300 is a very dependable , robust , and useful little camera . \\n[t]nikon does it again \\ncamera[+3], print quality[+3]##awesome camera with huge print quality in a tiny package . \\ncloseup mode[+2], battery[+2]##the same 4mp chip from the 4500 camera , plus a 3x zoom with the ability to expand upon that with extenders , great closeup mode , long lasting rechargable battery , etc etc. \\ncamera[+3]##in my opinion it \\'s the best camera for the money if you \\'re looking for something that \\'s easy to use , small good for travel , and provides excellent , sharp images . \\n'"
      ]
     },
     "execution_count": 75,
     "metadata": {},
     "output_type": "execute_result"
    }
   ],
   "source": [
    "text"
   ]
  },
  {
   "cell_type": "code",
   "execution_count": 76,
   "metadata": {},
   "outputs": [
    {
     "name": "stdout",
     "output_type": "stream",
     "text": [
      "{'annotated': 0, 'minqing': 1, 'hu': 2, 'bing': 3, 'department': 4, 'sicence': 5, 'university': 6, 'illinois': 7, 'chicago': 8, 'product': 9, 'nikon': 10, 'coolpix': 11, '4300': 12, 'review': 13, 'meaning': 14, 'best': 15, '4mp': 16, 'compact': 17, 'digital': 18, 'available': 19, 'camera': 20, 'perfect': 21, 'enthusiastic': 22, 'amateur': 23, 'photographer': 24, 'pictures': 25, 'macro': 26, 'small': 27, 'fit': 28, 'easily': 29, 'coat': 30, 'pocket': 31, 'purse': 32, 'light': 33, 'carry': 34, 'day': 35, 'bother': 36, 'features': 37, 'easy': 38, 'obvious': 39, 'annie': 40, 'lebovitz': 41, 'able': 42, 'figure': 43, 'abilities': 44, 'messing': 45, 'store': 46, 'manual': 47, 'fine': 48, 'job': 49, 'filling': 50, 'blanks': 51, 'remain': 52, 'auto': 53, 'performs': 54, 'love': 55, 'having': 56, '12': 57, 'optional': 58, 'scene': 59, 'modes': 60, 'correspond': 61, 'situations': 62, 'actually': 63, 'seek': 64, 'use': 65, 'rechargable': 66, '16': 67, 'mb': 68, 'flash': 69, 'battery': 70, 'charging': 71, 'unit': 72, 'included': 73, 'fast': 74, 'bought': 75, '256': 76, 'cf': 77, 'second': 78, 'good': 79, 'long': 80, 'vacation': 81, 'enthusiastically': 82, 'recommend': 83, 'grow': 84, 'got': 85, 'days': 86, 'experience': 87, 'cameras': 88, 'prior': 89, 'purchasing': 90, 'rate': 91, 'beginner': 92, 'budget': 93, 'production': 94, 'model': 95, 'reviews': 96, 'positive': 97, 'feature': 98, 'rich': 99, 'mode': 100, 'functions': 101, 'basically': 102, 'point': 103, 'click': 104, 'produce': 105, 'results': 106, 'wait': 107, 'hang': 108, 'exceptional': 109, 'clear': 110, 'lens': 111, 'unbelievably': 112, 'close': 113, 'subject': 114, 'life': 115, '90': 116, 'minutes': 117, 'lcd': 118, 'turned': 119, 'time': 120, 'needed': 121, 'recharge': 122, 'comes': 123, 'lexar': 124, '16mb': 125, 'starter': 126, 'card': 127, 'stores': 128, '10': 129, 'images': 130, 'highest': 131, 'resolution': 132, 'intend': 133, 'buy': 134, 'bigger': 135, 'soon': 136, 'perfection': 137, 'photography': 138, 'older': 139, 'simply': 140, 'shoot': 141, 'power': 142, 'fell': 143, 'combines': 144, 'ease': 145, 'immense': 146, 'options': 147, 'tune': 148, 'change': 149, 'iso': 150, 'level': 151, 'shutter': 152, 'speed': 153, 'ideal': 154, 'people': 155, 'want': 156, 'spend': 157, '1000s': 158, 'dollars': 159, 'excited': 160, 'months': 161, 'canon': 162, 'powershot': 163, 's400': 164, 'sharing': 165, 'teen': 166, 'age': 167, 'kid': 168, 'similar': 169, 'functionality': 170, 'pricing': 171, 'problem': 172, 'whatsoever': 173, 'picture': 174, 'qualities': 175, '4': 176, 'mp': 177, 'following': 178, 'headaches': 179, 'wo': 180, 'transfer': 181, 'pc': 182, 'directly': 183, 'cable': 184, 'took': 185, 'frustration': 186, 'concluding': 187, 'way': 188, 'reader': 189, 'noticeably': 190, 'slower': 191, 'especially': 192, 'flashes': 193, 'low': 194, 'twice': 195, 'wiped': 196, 'entire': 197, 'memory': 198, 'chip': 199, 'means': 200, 'wrong': 201, 'careful': 202, 'sure': 203, 'extra': 204, 'batteries': 205, 'cons': 206, 'reviewers': 207, 'clearly': 208, 'pointed': 209, 'things': 210, 'agree': 211, 'certain': 212, 'issues': 213, 'major': 214, 'ones': 215, 'keeps': 216, 'autofocussing': 217, 'buzzing': 218, 'sound': 219, 'stopped': 220, 'given': 221, 'option': 222, 'stop': 223, 'date': 224, 'image': 225, 'software': 226, 'view': 227, 'reads': 228, 'copy': 229, 'onceagain': 230, 'open': 231, 'direct': 232, 'add': 233, 'print': 234, 'different': 235, 'directory': 236, 'specify': 237, 'slightest': 238, 'shakes': 239, 'totally': 240, 'distorts': 241, 'indoor': 242, 'taken': 243, 'eventhough': 244, 'room': 245, 'lit': 246, 'cap': 247, 'annoying': 248, 'high': 249, 'like': 250, '12x': 251, 'higher': 252, 'simpler': 253, 'viking': 254, 'cards': 255, 'takes': 256, 'couple': 257, 'seconds': 258, 'write': 259, 'approximately': 260, 'quality': 261, 'size': 262, '1600': 263, 'movie': 264, 'clips': 265, 'noise': 266, 'avoid': 267, 'overall': 268, 'clarity': 269, 'shooting': 270, 'capability': 271, 'stars': 272, 'defined': 273, 'specific': 274, 'service': 275, 'menu': 276, 'dial': 277, 'year': 278, 'problems': 279, 'knob': 280, 'stucked': 281, 'makes': 282, 'impossible': 283, 'switch': 284, 'send': 285, 'servicing': 286, '6': 287, 'weeks': 288, 'diagnose': 289, 'claim': 290, 'kind': 291, 'internal': 292, 'damage': 293, 'refuse': 294, 'cover': 295, 'cost': 296, 'warranty': 297, 'repair': 298, 'pay': 299, '100': 300, 'parts': 301, 'labor': 302, 'terms': 303, 'function': 304, 'chance': 305, 'absolutely': 306, 'sucks': 307, 'customer': 308, 'error': 309, '30': 310, 'purchase': 311, 'inoperable': 312, 'design': 313, 'flawed': 314, 'manually': 315, 'order': 316, 'video': 317, 'lacking': 318, 'delay': 319, 'bad': 320, 'piece': 321, 'advise': 322, 'folks': 323, 'thinking': 324, 'making': 325, 'world': 326, 'feel': 327, 'price': 328, 'requirements': 329, 'initially': 330, 'thought': 331, 'buying': 332, '2': 333, '3': 334, 'megapixel': 335, '4x6': 336, '5x7': 337, 'prints': 338, 'wanted': 339, 'great': 340, '8x10': 341, 'photos': 342, 'lost': 343, 'hands': 344, 'comfortable': 345, 'decent': 346, 'sized': 347, 'contour': 348, 'fingers': 349, 'hold': 350, 'steadily': 351, 'lot': 352, 'settings': 353, 'types': 354, 'suroundings': 355, 'giving': 356, 'skills': 357, 'turning': 358, 'course': 359, 'respected': 360, 'brand': 361, 'stay': 362, 'expensive': 363, 'camcorder': 364, 'narrowed': 365, 'search': 366, 'models': 367, 'final': 368, 'nod': 369, 'previous': 370, 'happy': 371, 'decision': 372, 'amazing': 373, 'captures': 374, 'minutest': 375, 'details': 376, 'better': 377, 'setting': 378, 'little': 379, 'dull': 380, 'rarely': 381, 'hazy': 382, 'tend': 383, 'photographs': 384, 'distance': 385, 'capture': 386, 'photograph': 387, 'button': 388, 'seen': 389, 'impatient': 390, 'waiting': 391, 'glow': 392, 'come': 393, 'shake': 394, 'moment': 395, 'process': 396, 'taking': 397, 'think': 398, 'complaints': 399, 'tripod': 400, 'solve': 401, 'upto': 402, '200': 403, 'additional': 404, 'usb': 405, 'bag': 406, 'finally': 407, 'developed': 408, 'kodak': 409, 'maker': 410, 'machine': 411, 'costs': 412, 'beat': 413, 'processing': 414, 'brightness': 415, 'helped': 416, 'mind': 417, '150': 418, 'far': 419, 'loved': 420, 'looking': 421, 'forward': 422, 'vegas': 423, 'trip': 424, '35mm': 425, 'broken': 426, 'europe': 427, 'hand': 428, 'decided': 429, 'enter': 430, 'intended': 431, '3100': 432, 'invest': 433, 'money': 434, 'lense': 435, '4mb': 436, 'fantastic': 437, 'possibilities': 438, 'helpful': 439, 'offers': 440, '11': 441, 'optimized': 442, 'situational': 443, 'portrait': 444, 'landscape': 445, 'beach': 446, 'snow': 447, 'sunset': 448, 'endless': 449, 'working': 450, 'excellent': 451, 'install': 452, 'xp': 453, 'win98': 454, 'charger': 455, '64mb': 456, 'holds': 457, '52': 458, 'normal': 459, 'experimented': 460, 'online': 461, 'ordering': 462, 'brick': 463, 'mortar': 464, 'retailers': 465, 'delivered': 466, 'shows': 467, 'single': 468, 'sign': 469, 'visible': 470, 'rendering': 471, 'pixels': 472, 'tell': 473, 'ok': 474, 'somewhat': 475, 'short': 476, 'monitor': 477, 'backup': 478, 'lightingfast': 479, 'works': 480, '110v': 481, '220v': 482, 'ran': 483, 'juice': 484, 'highly': 485, 'accessory': 486, 'kit': 487, 'provides': 488, 'need': 489, 'nice': 490, 'plus': 491, 'cables': 492, 'contains': 493, 'folder': 494, '8': 495, 'cleaning': 496, 'rag': 497, 'ac': 498, 'adapter': 499, 'outlet': 500, 'environment': 501, 'new': 502, 'reading': 503, 'glowing': 504, 'went': 505, 'local': 506, 'shop': 507, 'try': 508, 'currently': 509, 'olympus': 510, 'wonderful': 511, 'outdoor': 512, 'subjects': 513, 'feet': 514, 'away': 515, 'blurry': 516, 'grainy': 517, 'tried': 518, 'minolta': 519, 'dimage': 520, 's414': 521, 'panasonic': 522, 'lumix': 523, 'display': 524, 'rack': 525, '20': 526, 'brightly': 527, 'produced': 528, 'shade': 529, 'orange': 530, 'clerk': 531, 'concluded': 532, 'blurriness': 533, 'caused': 534, 'shaking': 535, 'slightly': 536, 'press': 537, 'understandable': 538, 'lighter': 539, 'ended': 540, 'talk': 541, 'average': 542, 'person': 543, 'unsteady': 544, 'doubt': 545, 'perform': 546, 'lower': 547, 'purchased': 548, 'searching': 549, 'value': 550, 'signed': 551, 'lease': 552, 'nearly': 553, '800': 554, 'incredible': 555, 'zoom': 556, 'optical': 557, 'inside': 558, 'pics': 559, 'bit': 560, 'challenging': 561, 'instantly': 562, 'delete': 563, 'dont': 564, 'focused': 565, 'perfectly': 566, 'lighting': 567, 'adjustments': 568, 'simple': 569, 'effective': 570, 'presets': 571, 'morning': 572, 'evening': 573, 'redeye': 574, 'alter': 575, 'correct': 576, 'definately': 577, 'large': 578, '128mb': 579, 'usually': 580, '70': 581, '8mb': 582, 'rechargebles': 583, 'alkaline': 584, 'emergency': 585, 'extremely': 586, 'pleased': 587, 'step': 588, 'film': 589, 'emailing': 590, 'know': 591, 'investment': 592, 'work': 593, 'set': 594, 'happen': 595, 'ricksters': 596, 'research': 597, 'read': 598, 'havent': 599, 'liked': 600, 'hard': 601, 'daylight': 602, 'elses': 603, 'snap': 604, 'quick': 605, 'yo': 606, 'glad': 607, 'big': 608, 'offensive': 609, 'christmas': 610, 'learning': 611, 'beautiful': 612, 'zoomed': 613, 'expected': 614, 'onfull': 615, 'impressive': 616, '256mb': 617, 'wish': 618, 'tiff': 619, 'resolutions': 620, 'buget': 621, 'perspective': 622, 'camper': 623, 'looks': 624, 'experienced': 625, 'wife': 626, 'end': 627, 'buyer': 628, 'remorse': 629, 'gives': 630, 'future': 631, 'gaining': 632, 'offsets': 633, 'wanting': 634, '3x': 635, 'fact': 636, 'carries': 637, 'reputation': 638, 'package': 639, 'prove': 640, 'worthwile': 641, 'neat': 642, 'thing': 643, 'conditions': 644, 'pitch': 645, 'black': 646, 'rooms': 647, 'looked': 648, 'ample': 649, 'created': 650, 'marriage': 651, 'knew': 652, 'free': 653, 'clean': 654, '95': 655, 'gave': 656, 'instructions': 657, 'imagine': 658, 'place': 659, 'knowledge': 660, 'nicely': 661, 'automatically': 662, 'installed': 663, 'pda': 664, 'wolla': 665, 'becames': 666, 'album': 667, 'hi': 668, 'res': 669, 'sold': 670, 'friendly': 671, 'usage': 672, 'scenes': 673, 'coolpix4300': 674, 'week': 675, 'ago': 676, 'impressed': 677, 'plenty': 678, 'particularly': 679, 'aids': 680, 'shots': 681, 'friends': 682, 'downside': 683, 'autofocus': 684, 'assume': 685, 'case': 686, 'plan': 687, 'larger': 688, 'disappointed': 689, 'controls': 690, 'intuitive': 691, 'learned': 692, 'manuver': 693, 'menus': 694, 'quickly': 695, 'superb': 696, 'uncomfortable': 697, 'awkward': 698, 'tested': 699, 'versions': 700, '880': 701, '885': 702, 'office': 703, 'durable': 704, 'trust': 705, 'upgrade': 706, 'weekend': 707, 'drawbacks': 708, 'noticed': 709, 'idea': 710, 'insure': 711, 'left': 712, 'hanging': 713, 'assist': 714, 'allows': 715, 'focus': 716, 'issue': 717, 'care': 718, 'sacrifice': 719, 'weight': 720, 'requires': 721, 'glass': 722, 'focal': 723, 'length': 724, 'main': 725, 'reason': 726, 'autofocuses': 727, 'continuously': 728, 'burns': 729, 'af': 730, 'depressing': 731, 'shudder': 732, 'pic': 733, 'hinderance': 734, 'familiar': 735, 'reality': 736, 'hate': 737, 'awesome': 738, 'moderate': 739, 'snapping': 740, 'field': 741, 'manipulate': 742, 'access': 743, 'silent': 744, 'movies': 745, 'compared': 746, 'believe': 747, 'picturers': 748, 'waste': 749, 'fan': 750, 'owned': 751, 'slr': 752, 'fe': 753, 'n50': 754, 'n90s': 755, 'years': 756, 'ultra': 757, 'happily': 758, 'pixel': 759, 'combos': 760, 'added': 761, 'convenience': 762, 'immediately': 763, 'txt': 764, 'file': 765, 'records': 766, 'control': 767, 'information': 768, 'useful': 769, 'children': 770, 'capacity': 771, '2x': 772, 'faster': 773, 'regular': 774, 'save': 775, 'missing': 776, 'download': 777, 'worth': 778, 'rechargeable': 779, '1': 780, 'handy': 781, 'seldom': 782, 'run': 783, 'situation': 784, 'saves': 785, 'helps': 786, 'puzzles': 787, '2200': 788, 'math': 789, 'expecct': 790, 'explain': 791, 'happier': 792, 'leave': 793, 'lots': 794, 'memories': 795, 'sorry': 796, 'operate': 797, 'constantly': 798, 'amazed': 799, 'number': 800, 'ways': 801, 'fanatic': 802, 'consider': 803, 'picky': 804, 'let': 805, 'start': 806, 'needs': 807, '500': 808, 'color': 809, 'lag': 810, '5': 811, 'grip': 812, 'minimize': 813, 'researched': 814, 'internet': 815, 'magazines': 816, 'queried': 817, 'sales': 818, 'personnel': 819, 'test': 820, 'drives': 821, 'settled': 822, 'exceeded': 823, 'expectations': 824, 'brilliant': 825, 'provided': 826, 'par': 827, 'aps': 828, 'frame': 829, 'advance': 830, 'salesperson': 831, 'recommended': 832, 'important': 833, 'encountered': 834, '8ft': 835, 'lack': 836, 'contrast': 837, 'researching': 838, 'inexpensive': 839, 'slave': 840, 'designed': 841, 'adequate': 842, '45': 843, '15': 844, 'hour': 845, 'period': 846, 'died': 847, 'editing': 848, 'came': 849, 'robust': 850, 'photosuite': 851, 'knocked': 852, 'focusing': 853, 'heck': 854, 'dark': 855, 'kitchen': 856, 'indirect': 857, 'coming': 858, 'door': 859, 'summary': 860, 'medium': 861, 'range': 862, 'wrote': 863, 'january': 864, '2003': 865, 'picked': 866, 'accessories': 867, 'bracket': 868, 'head': 869, 'aim': 870, 'ring': 871, '900': 872, '28mm': 873, 'filter': 874, 'protection': 875, 'filters': 876, 'uv': 877, 'turn': 878, 'remove': 879, 'accidentally': 880, 'cases': 881, 'understand': 882, 'idiot': 883, 'proof': 884, 'unlike': 885, 'fits': 886, 'figured': 887, 'action': 888, 'star': 889, 'rating': 890, 'fool': 891, 'deserves': 892, 'month': 893, 'considering': 894, 'sony': 895, '9': 896, 'realized': 897, 'selected': 898, 'right': 899, 'gotten': 900, 'feels': 901, 'exactly': 902, 'fun': 903, 'challenge': 904, '128': 905, 'type': 906, 'savour': 907, 'reviewed': 908, 'settling': 909, 'rated': 910, 'check': 911, 'site': 912, 'indistinguishable': 913, 'outweighs': 914, 'accurate': 915, 'satisfied': 916, 'amazon': 917, 'discontinued': 918, 'promotion': 919, 'going': 920, 'megabyte': 921, 'storage': 922, 'numbskulls': 923, 'complain': 924, 'confusing': 925, 'remember': 926, 'directions': 927, '80': 928, 'remainder': 929, 'wildlife': 930, 'acceptable': 931, 'regret': 932, 'nirvana': 933, 'super': 934, 'lengthy': 935, 'extensive': 936, 'journey': 937, 'performance': 938, 'travel': 939, 'gravitated': 940, 'gem': 941, 'superior': 942, 'mega': 943, 'state': 944, 'unequivocably': 945, 'definitely': 946, 'delivers': 947, 'huge': 948, 'bang': 949, 'buck': 950, 'sheer': 951, 'array': 952, 'telephoto': 953, 'lenses': 954, 'proverbial': 955, 'icing': 956, 'cake': 957, 'numerous': 958, 'mention': 959, 'unmatched': 960, 'construction': 961, 'legendary': 962, 'optics': 963, 'seeking': 964, 'elusive': 965, 'photographic': 966, 'euphoria': 967, 'filled': 968, 'cool': 969, 'baby': 970, 'powerful': 971, 'old': 972, 'look': 973, 'real': 974, 'cause': 975, 'carpet': 976, 'lol': 977, 'connect': 978, 'tv': 979, 'windows': 980, 'parent': 981, 'recharges': 982, 'ral': 983, 'recharger': 984, 'thingy': 985, 'dropped': 986, 'beginners': 987, 'photographers': 988, 'outstanding': 989, 'pix': 990, 'continuous': 991, 'shot': 992, 'rapid': 993, 'succession': 994, 'photo': 995, 'complaint': 996, 'joke': 997, 'minor': 998, 'quibble': 999, 'market': 1000, 'include': 1001, 'consumer': 1002, 'reasons': 1003, 'amatuer': 1004, 'grandmother': 1005, 'wide': 1006, 'angles': 1007, 'zooms': 1008, 'uses': 1009, 'cheap': 1010, 'reliable': 1011, 'supported': 1012, 'devices': 1013, 'hoome': 1014, 'line': 1015, 'support': 1016, 'releases': 1017, 'newer': 1018, 'miss': 1019, 'annoyed': 1020, 'firewire': 1021, 'attach': 1022, '19mm': 1023, '68': 1024, 'viewfinder': 1025, 'partially': 1026, 'obscured': 1027, 'affect': 1028, 'personally': 1029, 'removed': 1030, 'powering': 1031, 'separately': 1032, 'adapters': 1033, '7': 1034, 'required': 1035, 'attachment': 1036, 'annoyances': 1037, 'comparable': 1038, 'affordable': 1039, 'learn': 1040, 'produces': 1041, 'spectacular': 1042, 'boasts': 1043, 'versatile': 1044, 'admit': 1045, 'played': 1046, 'dependable': 1047, 'tiny': 1048, 'closeup': 1049, '4500': 1050, 'ability': 1051, 'expand': 1052, 'extenders': 1053, 'lasting': 1054, 'opinion': 1055, 'sharp': 1056}\n"
     ]
    }
   ],
   "source": [
    "dictionary = corpora.Dictionary(texts) #(word_id,frequency) pairs\n",
    "corpus = [dictionary.doc2bow(text) for text in texts] #(word_id,freq) pairs by sentence\n",
    "print(dictionary.token2id)\n",
    "#print(dictionary.keys())\n",
    "#print(corpus[9])\n",
    "#print(texts[9])\n",
    "#print(dictionary[73])\n",
    "#dictionary[4]"
   ]
  },
  {
   "cell_type": "markdown",
   "metadata": {},
   "source": [
    "<h4>Do the LDA</h4>"
   ]
  },
  {
   "cell_type": "markdown",
   "metadata": {},
   "source": [
    "<h4>Parameters:</h4>\n",
    "<li>Number of topics: The number of topics you want generated. The larger the document, the more the desirable topics\n",
    "<li>Passes: The LDA model makes through the document. More passes, slower analysis"
   ]
  },
  {
   "cell_type": "code",
   "execution_count": 77,
   "metadata": {
    "collapsed": true
   },
   "outputs": [],
   "source": [
    "#Set parameters\n",
    "num_topics = 5 #The number of topics that should be generated\n",
    "passes = 10 "
   ]
  },
  {
   "cell_type": "code",
   "execution_count": 78,
   "metadata": {
    "collapsed": true
   },
   "outputs": [],
   "source": [
    "lda = LdaModel(corpus,\n",
    "              id2word=dictionary,\n",
    "              num_topics=num_topics,\n",
    "              passes=10)"
   ]
  },
  {
   "cell_type": "code",
   "execution_count": null,
   "metadata": {
    "collapsed": true
   },
   "outputs": [],
   "source": []
  },
  {
   "cell_type": "markdown",
   "metadata": {},
   "source": [
    "<h4>See results</h4>"
   ]
  },
  {
   "cell_type": "code",
   "execution_count": 79,
   "metadata": {},
   "outputs": [
    {
     "name": "stdout",
     "output_type": "stream",
     "text": [
      "[   (0, '0.031*\"camera\" + 0.026*\"nikon\" + 0.021*\"coolpix\"'),\n",
      "    (1, '0.025*\"camera\" + 0.012*\"easy\" + 0.011*\"use\"'),\n",
      "    (2, '0.022*\"camera\" + 0.013*\"optical\" + 0.011*\"manual\"'),\n",
      "    (3, '0.066*\"camera\" + 0.024*\"picture\" + 0.019*\"quality\"'),\n",
      "    (4, '0.032*\"camera\" + 0.026*\"digital\" + 0.025*\"battery\"')]\n"
     ]
    }
   ],
   "source": [
    "pp = pprint.PrettyPrinter(indent=4)\n",
    "pp.pprint(lda.print_topics(num_words=3))"
   ]
  },
  {
   "cell_type": "markdown",
   "metadata": {},
   "source": [
    "<h2>Matching topics to documents</h2>\n",
    "<h3>Sort topics by probability</h3>"
   ]
  },
  {
   "cell_type": "markdown",
   "metadata": {},
   "source": [
    "<h4>We're using sentences as documents here, so this is less than ideal</h4>"
   ]
  },
  {
   "cell_type": "code",
   "execution_count": 80,
   "metadata": {},
   "outputs": [
    {
     "data": {
      "text/plain": [
       "[(2, 0.83997033658790843),\n",
       " (1, 0.040009104589197431),\n",
       " (0, 0.040008109232958625),\n",
       " (4, 0.040006365834442684),\n",
       " (3, 0.040006083755492854)]"
      ]
     },
     "execution_count": 80,
     "metadata": {},
     "output_type": "execute_result"
    }
   ],
   "source": [
    "from operator import itemgetter\n",
    "lda.get_document_topics(corpus[0],minimum_probability=0.05,per_word_topics=False)\n",
    "sorted(lda.get_document_topics(corpus[0],minimum_probability=0,per_word_topics=False),key=itemgetter(1),reverse=True)"
   ]
  },
  {
   "cell_type": "markdown",
   "metadata": {},
   "source": [
    "<h3>Making sense of the topics</h3>\n"
   ]
  },
  {
   "cell_type": "markdown",
   "metadata": {},
   "source": [
    "<h4>Draw wordclouds</h4>"
   ]
  },
  {
   "cell_type": "code",
   "execution_count": 81,
   "metadata": {
    "collapsed": true
   },
   "outputs": [],
   "source": [
    "def draw_wordcloud(lda,topicnum,min_size=0,STOPWORDS=[]):\n",
    "    word_list=[]\n",
    "    prob_total = 0\n",
    "    for word,prob in lda.show_topic(topicnum,topn=50):\n",
    "        prob_total +=prob\n",
    "    for word,prob in lda.show_topic(topicnum,topn=50):\n",
    "        if word in STOPWORDS or  len(word) < min_size:\n",
    "            continue\n",
    "        freq = int(prob/prob_total*1000)\n",
    "        alist=[word]\n",
    "        word_list.extend(alist*freq)\n",
    "\n",
    "    from wordcloud import WordCloud, STOPWORDS\n",
    "    import matplotlib.pyplot as plt\n",
    "    %matplotlib inline\n",
    "    text = ' '.join(word_list)\n",
    "    wordcloud = WordCloud(stopwords=STOPWORDS,background_color='white',width=3000,height=3000).generate(' '.join(word_list))\n",
    "\n",
    "\n",
    "    plt.imshow(wordcloud)\n",
    "    plt.axis('off')\n",
    "    plt.show()"
   ]
  },
  {
   "cell_type": "code",
   "execution_count": 82,
   "metadata": {},
   "outputs": [
    {
     "data": {
      "image/png": "[encoded data removed]",
      "text/plain": [
       "<matplotlib.figure.Figure at 0x11eaf8828>"
      ]
     },
     "metadata": {},
     "output_type": "display_data"
    }
   ],
   "source": [
    "draw_wordcloud(lda,2)"
   ]
  },
  {
   "cell_type": "markdown",
   "metadata": {},
   "source": [
    "<h4>Roughly,</h4>\n",
    "<li>lda looks for candidate topics assuming that there are many such candidates\n",
    "<li>looks for words related to the candidate topics\n",
    "<li>assign probablilites to those words"
   ]
  },
  {
   "cell_type": "markdown",
   "metadata": {},
   "source": [
    "<h3>Let's look at Presidential addresses to see what sorts of topics emerge from there</h3>\n",
    "<li>Each document will be analyzed for topic</li>\n",
    "<li>The corpus will consist of 58 documents, one per presidential address"
   ]
  },
  {
   "cell_type": "code",
   "execution_count": 83,
   "metadata": {
    "collapsed": true
   },
   "outputs": [],
   "source": [
    "REMOVE_WORDS = {'shall','generally','spirit','country','people','nation','nations','great','better'}\n",
    "#Create a word dictionary (id, word)\n",
    "texts = [[word for word in sentence.lower().split()\n",
    "        if word not in STOPWORDS and word not in REMOVE_WORDS and word.isalnum()]\n",
    "        for sentence in sentences]\n",
    "dictionary = corpora.Dictionary(texts)\n",
    "\n",
    "#Create a corpus of documents\n",
    "text_list = list()\n",
    "for fileid in inaugural.fileids():\n",
    "    text = inaugural.words(fileid)\n",
    "    doc=list()\n",
    "    for word in text:\n",
    "        if word in STOPWORDS or word in REMOVE_WORDS or not word.isalpha() or len(word) <5:\n",
    "            continue\n",
    "        doc.append(word)\n",
    "    text_list.append(doc)\n",
    "by_address_corpus = [dictionary.doc2bow(text) for text in text_list]"
   ]
  },
  {
   "cell_type": "markdown",
   "metadata": {},
   "source": [
    "<h2>Create the model</h2>"
   ]
  },
  {
   "cell_type": "code",
   "execution_count": 84,
   "metadata": {
    "collapsed": true
   },
   "outputs": [],
   "source": [
    "lda = LdaModel(by_address_corpus,\n",
    "              id2word=dictionary,\n",
    "              num_topics=20,\n",
    "              passes=10)"
   ]
  },
  {
   "cell_type": "code",
   "execution_count": 85,
   "metadata": {},
   "outputs": [
    {
     "name": "stdout",
     "output_type": "stream",
     "text": [
      "[   (   0,\n",
      "        '0.041*\"years\" + 0.028*\"course\" + 0.027*\"office\" + 0.024*\"requires\" + '\n",
      "        '0.020*\"ability\" + 0.020*\"resolution\" + 0.017*\"knowledge\" + '\n",
      "        '0.015*\"capacity\" + 0.014*\"happy\" + 0.014*\"taken\"'),\n",
      "    (   1,\n",
      "        '0.001*\"experience\" + 0.001*\"power\" + 0.001*\"trust\" + 0.001*\"action\" + '\n",
      "        '0.001*\"cause\" + 0.001*\"slightest\" + 0.001*\"subject\" + 0.001*\"years\" + '\n",
      "        '0.001*\"remain\" + 0.001*\"seeking\"'),\n",
      "    (   2,\n",
      "        '0.065*\"believe\" + 0.050*\"world\" + 0.029*\"children\" + 0.025*\"price\" + '\n",
      "        '0.023*\"future\" + 0.023*\"sacrifice\" + 0.023*\"capacity\" + 0.023*\"means\" '\n",
      "        '+ 0.021*\"years\" + 0.019*\"place\"'),\n",
      "    (   3,\n",
      "        '0.001*\"world\" + 0.001*\"forward\" + 0.001*\"moment\" + 0.001*\"simple\" + '\n",
      "        '0.001*\"years\" + 0.001*\"things\" + 0.001*\"comes\" + 0.001*\"believe\" + '\n",
      "        '0.001*\"wanting\" + 0.001*\"small\"'),\n",
      "    (   4,\n",
      "        '0.167*\"world\" + 0.038*\"order\" + 0.026*\"years\" + 0.023*\"right\" + '\n",
      "        '0.019*\"forward\" + 0.018*\"making\" + 0.018*\"turning\" + 0.017*\"place\" + '\n",
      "        '0.017*\"future\" + 0.017*\"comes\"'),\n",
      "    (   5,\n",
      "        '0.019*\"cheap\" + 0.018*\"expensive\" + 0.003*\"office\" + '\n",
      "        '0.002*\"promotion\" + 0.002*\"subject\" + 0.002*\"access\" + 0.002*\"rapid\" '\n",
      "        '+ 0.002*\"carry\" + 0.002*\"support\" + 0.002*\"looking\"'),\n",
      "    (   6,\n",
      "        '0.001*\"power\" + 0.001*\"having\" + 0.001*\"especially\" + 0.001*\"years\" + '\n",
      "        '0.001*\"produce\" + 0.001*\"internal\" + 0.001*\"adequate\" + '\n",
      "        '0.001*\"course\" + 0.001*\"place\" + 0.001*\"parts\"'),\n",
      "    (   7,\n",
      "        '0.062*\"world\" + 0.030*\"power\" + 0.021*\"years\" + 0.019*\"right\" + '\n",
      "        '0.017*\"action\" + 0.016*\"cause\" + 0.015*\"believe\" + 0.015*\"means\" + '\n",
      "        '0.015*\"future\" + 0.014*\"important\"'),\n",
      "    (   8,\n",
      "        '0.035*\"years\" + 0.033*\"support\" + 0.029*\"power\" + 0.026*\"action\" + '\n",
      "        '0.025*\"service\" + 0.022*\"world\" + 0.020*\"ability\" + 0.019*\"money\" + '\n",
      "        '0.019*\"labor\" + 0.018*\"given\"'),\n",
      "    (   9,\n",
      "        '0.001*\"experience\" + 0.001*\"trust\" + 0.001*\"power\" + 0.001*\"action\" + '\n",
      "        '0.001*\"designed\" + 0.001*\"slightest\" + 0.001*\"control\" + '\n",
      "        '0.001*\"subject\" + 0.001*\"years\" + 0.001*\"reason\"'),\n",
      "    (   10,\n",
      "        '0.030*\"order\" + 0.026*\"conditions\" + 0.024*\"change\" + 0.023*\"years\" + '\n",
      "        '0.019*\"protection\" + 0.017*\"needed\" + 0.017*\"office\" + '\n",
      "        '0.015*\"control\" + 0.015*\"course\" + 0.015*\"effective\"'),\n",
      "    (   11,\n",
      "        '0.042*\"state\" + 0.026*\"produce\" + 0.023*\"power\" + 0.021*\"reason\" + '\n",
      "        '0.021*\"opinion\" + 0.018*\"support\" + 0.017*\"course\" + '\n",
      "        '0.017*\"important\" + 0.017*\"trust\" + 0.017*\"highest\"'),\n",
      "    (   12,\n",
      "        '0.001*\"years\" + 0.001*\"forward\" + 0.001*\"future\" + 0.001*\"things\" + '\n",
      "        '0.001*\"person\" + 0.001*\"doubt\" + 0.001*\"little\" + 0.001*\"product\" + '\n",
      "        '0.001*\"world\" + 0.001*\"place\"'),\n",
      "    (   13,\n",
      "        '0.001*\"state\" + 0.001*\"happy\" + 0.001*\"highest\" + 0.001*\"power\" + '\n",
      "        '0.001*\"trust\" + 0.001*\"produce\" + 0.001*\"important\" + 0.001*\"enter\" + '\n",
      "        '0.001*\"hands\" + 0.001*\"cause\"'),\n",
      "    (   14,\n",
      "        '0.030*\"service\" + 0.029*\"power\" + 0.028*\"learned\" + 0.023*\"world\" + '\n",
      "        '0.018*\"course\" + 0.018*\"support\" + 0.017*\"period\" + 0.017*\"given\" + '\n",
      "        '0.012*\"office\" + 0.012*\"situation\"'),\n",
      "    (   15,\n",
      "        '0.002*\"world\" + 0.002*\"years\" + 0.001*\"right\" + 0.001*\"power\" + '\n",
      "        '0.001*\"future\" + 0.001*\"place\" + 0.001*\"think\" + 0.001*\"forward\" + '\n",
      "        '0.001*\"friends\" + 0.001*\"believe\"'),\n",
      "    (   16,\n",
      "        '0.067*\"friendly\" + 0.037*\"provided\" + 0.022*\"convenience\" + '\n",
      "        '0.020*\"ideal\" + 0.014*\"directions\" + 0.014*\"pointed\" + 0.014*\"rating\" '\n",
      "        '+ 0.014*\"reliable\" + 0.014*\"product\" + 0.007*\"added\"'),\n",
      "    (   17,\n",
      "        '0.001*\"world\" + 0.001*\"years\" + 0.001*\"forward\" + 0.001*\"order\" + '\n",
      "        '0.001*\"taken\" + 0.001*\"needed\" + 0.001*\"office\" + 0.001*\"protection\" '\n",
      "        '+ 0.001*\"control\" + 0.001*\"right\"'),\n",
      "    (   18,\n",
      "        '0.049*\"power\" + 0.044*\"world\" + 0.021*\"right\" + 0.019*\"years\" + '\n",
      "        '0.015*\"change\" + 0.015*\"future\" + 0.014*\"subject\" + 0.013*\"service\" + '\n",
      "        '0.012*\"support\" + 0.012*\"things\"'),\n",
      "    (   19,\n",
      "        '0.002*\"power\" + 0.001*\"world\" + 0.001*\"control\" + 0.001*\"support\" + '\n",
      "        '0.001*\"powerful\" + 0.001*\"course\" + 0.001*\"subject\" + 0.001*\"final\" + '\n",
      "        '0.001*\"light\" + 0.001*\"having\"')]\n"
     ]
    }
   ],
   "source": [
    "pp = pprint.PrettyPrinter(indent=4)\n",
    "pp.pprint(lda.print_topics(num_words=10))"
   ]
  },
  {
   "cell_type": "markdown",
   "metadata": {},
   "source": [
    "<h2>We can now compare presidential addresses by topic</h2>"
   ]
  },
  {
   "cell_type": "code",
   "execution_count": 86,
   "metadata": {},
   "outputs": [
    {
     "data": {
      "text/plain": [
       "58"
      ]
     },
     "execution_count": 86,
     "metadata": {},
     "output_type": "execute_result"
    }
   ],
   "source": [
    "len(by_address_corpus)"
   ]
  },
  {
   "cell_type": "code",
   "execution_count": 87,
   "metadata": {},
   "outputs": [
    {
     "data": {
      "text/plain": [
       "[(7, 0.98272727235615753),\n",
       " (18, 0.00090909116735093758),\n",
       " (11, 0.00090909093920325498),\n",
       " (10, 0.00090909093006497619),\n",
       " (0, 0.00090909092742550021),\n",
       " (8, 0.00090909092406514297),\n",
       " (14, 0.00090909092307025075),\n",
       " (4, 0.00090909092020076269),\n",
       " (2, 0.00090909091242438061),\n",
       " (16, 0.00090909090912802914),\n",
       " (5, 0.00090909090909137248),\n",
       " (15, 0.00090909090909092286),\n",
       " (19, 0.00090909090909091115),\n",
       " (13, 0.00090909090909091039),\n",
       " (6, 0.00090909090909090985),\n",
       " (9, 0.00090909090909090985),\n",
       " (12, 0.00090909090909090985),\n",
       " (1, 0.00090909090909090974),\n",
       " (3, 0.00090909090909090974),\n",
       " (17, 0.00090909090909090974)]"
      ]
     },
     "execution_count": 87,
     "metadata": {},
     "output_type": "execute_result"
    }
   ],
   "source": [
    "from operator import itemgetter\n",
    "sorted(lda.get_document_topics(by_address_corpus[0],minimum_probability=0,per_word_topics=False),key=itemgetter(1),reverse=True)"
   ]
  },
  {
   "cell_type": "code",
   "execution_count": 88,
   "metadata": {},
   "outputs": [
    {
     "data": {
      "image/png": "[encoded data removed]",
      "text/plain": [
       "<matplotlib.figure.Figure at 0x124dee9b0>"
      ]
     },
     "metadata": {},
     "output_type": "display_data"
    }
   ],
   "source": [
    "draw_wordcloud(lda,18)"
   ]
  },
  {
   "cell_type": "code",
   "execution_count": 89,
   "metadata": {},
   "outputs": [
    {
     "name": "stdout",
     "output_type": "stream",
     "text": [
      "[('years', 0.0010440785075603739), ('forward', 0.00099748238951095696), ('future', 0.00099509676108389664), ('things', 0.00099408393578207009), ('person', 0.00099093706347826204)]\n",
      "[('power', 0.048953882436347559), ('world', 0.044468740695486085), ('right', 0.020707876793951023), ('years', 0.019387487154136848), ('change', 0.015480445576095549)]\n"
     ]
    }
   ],
   "source": [
    "print(lda.show_topic(12,topn=5))\n",
    "print(lda.show_topic(18,topn=5))"
   ]
  },
  {
   "cell_type": "markdown",
   "metadata": {
    "collapsed": true
   },
   "source": [
    "<h1>Similarity</h1>\n",
    "<h2>Given a corpus of documents, when a new document arrives, find the document that is the most similar</h2>"
   ]
  },
  {
   "cell_type": "code",
   "execution_count": 90,
   "metadata": {},
   "outputs": [
    {
     "name": "stdout",
     "output_type": "stream",
     "text": [
      "4\n",
      "Dictionary(1368 unique tokens: ['ate', 'monday', 'night', 'working', 'dinner']...)\n"
     ]
    }
   ],
   "source": [
    "doc_list = [community_data,le_monde_data,amigos_data,heights_data]\n",
    "all_text = community_data.raw() + le_monde_data.raw() + amigos_data.raw() + heights_data.raw()\n",
    "#print(all_text)\n",
    "#print(doc_list)\n",
    "\n",
    "documents = [doc.raw() for doc in doc_list]\n",
    "print(len(documents))\n",
    "texts = [[word for word in document.lower().split()\n",
    "        if word not in STOPWORDS and word.isalnum()]\n",
    "        for document in documents]\n",
    "dictionary = corpora.Dictionary(texts)\n",
    "print(dictionary)\n",
    "corpus = [dictionary.doc2bow(text) for text in texts]\n",
    "\n",
    "#print(corpus)\n"
   ]
  },
  {
   "cell_type": "code",
   "execution_count": 91,
   "metadata": {
    "collapsed": true
   },
   "outputs": [],
   "source": [
    "from gensim.similarities.docsim import Similarity\n",
    "from gensim import corpora, models, similarities\n",
    "lsi = models.LsiModel(corpus, id2word=dictionary, num_topics=2)\n",
    "doc = \"\"\"\n",
    "Many, many years ago, I used to frequent this place for their amazing french toast. \n",
    "It's been a while since then and I've been hesitant to review a place I haven't been to in 7-8 years... \n",
    "but I passed by French Roast and, feeling nostalgic, decided to go back.\n",
    "\n",
    "It was a great decision.\n",
    "\n",
    "Their Bloody Mary is fantastic and includes bacon (which was perfectly cooked!!), olives, \n",
    "cucumber, and celery. The Irish coffee is also excellent, even without the cream which is what I ordered.\n",
    "\n",
    "Great food, great drinks, a great ambiance that is casual yet familiar like a tiny little French cafe. \n",
    "I highly recommend coming here, and will be back whenever I'm in the area next.\n",
    "\n",
    "Juan, the bartender, is great!! One of the best in any brunch spot in the city, by far.\n",
    "\"\"\"\n",
    "vec_bow = dictionary.doc2bow(doc.lower().split())\n",
    "vec_lsi = lsi[vec_bow]\n",
    "index = similarities.MatrixSimilarity(lsi[corpus])\n",
    "sims = index[vec_lsi]\n",
    "sims = sorted(enumerate(sims), key=lambda item: -item[1])\n"
   ]
  },
  {
   "cell_type": "code",
   "execution_count": 92,
   "metadata": {},
   "outputs": [
    {
     "data": {
      "text/plain": [
       "[(1, 0.98765731), (0, 0.95548683), (3, 0.79290682), (2, 0.7698077)]"
      ]
     },
     "execution_count": 92,
     "metadata": {},
     "output_type": "execute_result"
    }
   ],
   "source": [
    "sims"
   ]
  },
  {
   "cell_type": "code",
   "execution_count": 93,
   "metadata": {},
   "outputs": [
    {
     "data": {
      "text/plain": [
       "[(3, 0.99212909), (2, 0.9868139), (1, 0.93145514), (0, 0.67548543)]"
      ]
     },
     "execution_count": 93,
     "metadata": {},
     "output_type": "execute_result"
    }
   ],
   "source": [
    "doc=\"\"\"\n",
    "I went to Mexican Festival Restaurant for Cinco De Mayo because I had been there years \n",
    "prior and had such a good experience. This time wasn't so good. The food was just \n",
    "mediocre and it wasn't hot when it was brought to our table. They brought my friends food out \n",
    "10 minutes before everyone else and it took forever to get drinks. We let it slide because the place was \n",
    "packed with people and it was Cinco De Mayo. Also, the margaritas we had were slamming! Pure tequila. \n",
    "\n",
    "But then things took a turn for the worst. As I went to get something out of my purse which was on \n",
    "the back of my chair, I looked down and saw a huge water bug. I had to warn the lady next to me because \n",
    "it was so close to her chair. We called the waitress over and someone came with a broom and a dustpan and \n",
    "swept it away like it was an everyday experience. No one seemed phased.\n",
    "\n",
    "Even though our waitress was very nice, I do not think we will be returning to Mexican Festival again. \n",
    "It seems the restaurant is a shadow of its former self.\n",
    "\"\"\"\n",
    "vec_bow = dictionary.doc2bow(doc.lower().split())\n",
    "vec_lsi = lsi[vec_bow]\n",
    "index = similarities.MatrixSimilarity(lsi[corpus])\n",
    "sims = index[vec_lsi]\n",
    "sims = sorted(enumerate(sims), key=lambda item: -item[1])\n",
    "sims"
   ]
  },
  {
   "cell_type": "code",
   "execution_count": null,
   "metadata": {
    "collapsed": true
   },
   "outputs": [],
   "source": []
  }
 ],
 "metadata": {
  "anaconda-cloud": {},
  "kernelspec": {
   "display_name": "Python 3",
   "language": "python",
   "name": "python3"
  },
  "language_info": {
   "codemirror_mode": {
    "name": "ipython",
    "version": 3
   },
   "file_extension": ".py",
   "mimetype": "text/x-python",
   "name": "python",
   "nbconvert_exporter": "python",
   "pygments_lexer": "ipython3",
   "version": "3.6.3"
  }
 },
 "nbformat": 4,
 "nbformat_minor": 1
}
