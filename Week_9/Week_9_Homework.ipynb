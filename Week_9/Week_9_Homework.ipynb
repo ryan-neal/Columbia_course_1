{
 "cells": [
  {
   "cell_type": "code",
   "execution_count": 2,
   "metadata": {
    "collapsed": true
   },
   "outputs": [],
   "source": [
    "import requests\n",
    "from bs4 import BeautifulSoup"
   ]
  },
  {
   "cell_type": "code",
   "execution_count": 3,
   "metadata": {
    "collapsed": true
   },
   "outputs": [],
   "source": [
    "file = open(\"boogiewoogie.html\", \"r\").read()"
   ]
  },
  {
   "cell_type": "code",
   "execution_count": 16,
   "metadata": {
    "collapsed": true
   },
   "outputs": [],
   "source": [
    "results_page = BeautifulSoup(file,'lxml')\n",
    "#print(results_page.prettify())"
   ]
  },
  {
   "cell_type": "code",
   "execution_count": 6,
   "metadata": {
    "collapsed": true
   },
   "outputs": [],
   "source": [
    "file2 = open(\"carolinedahl.html\", \"r\")\n",
    "results = BeautifulSoup(file2, \"lxml\")"
   ]
  },
  {
   "cell_type": "code",
   "execution_count": 8,
   "metadata": {
    "collapsed": true
   },
   "outputs": [],
   "source": [
    "def read_ps(filename):\n",
    "    file2 = open(filename, \"r\")\n",
    "    results = BeautifulSoup(file2, \"lxml\")\n",
    "    all_text = \"\"\n",
    "    for tag in results.find_all('p'):\n",
    "        all_text += tag.get_text() \n",
    "    return(all_text)"
   ]
  },
  {
   "cell_type": "code",
   "execution_count": 17,
   "metadata": {
    "collapsed": true,
    "scrolled": true
   },
   "outputs": [],
   "source": [
    "def get_all_text(directory):\n",
    "    import os\n",
    "    all_text = []\n",
    "    dictionary = {}\n",
    "    for file in os.listdir(directory):\n",
    "        if file[0] != \".\":\n",
    "            dictionary[file.split(\".\")[0]] = read_ps(directory + \"/\" + file)\n",
    "    return dictionary"
   ]
  },
  {
   "cell_type": "code",
   "execution_count": 18,
   "metadata": {
    "collapsed": true
   },
   "outputs": [],
   "source": [
    "def conversion(dictionary):\n",
    "    newdict = {}\n",
    "    counter = 0\n",
    "    for key in dictionary.keys():\n",
    "        newdict[counter] = key\n",
    "        counter += 1\n",
    "    return newdict"
   ]
  },
  {
   "cell_type": "code",
   "execution_count": 19,
   "metadata": {
    "collapsed": true
   },
   "outputs": [],
   "source": [
    "all_text = get_all_text(\"samples\")"
   ]
  },
  {
   "cell_type": "code",
   "execution_count": 30,
   "metadata": {
    "collapsed": true
   },
   "outputs": [],
   "source": [
    "converter = conversion(all_text)"
   ]
  },
  {
   "cell_type": "code",
   "execution_count": 20,
   "metadata": {
    "collapsed": true
   },
   "outputs": [],
   "source": [
    "test_text = get_all_text(\"test\")"
   ]
  },
  {
   "cell_type": "code",
   "execution_count": 31,
   "metadata": {},
   "outputs": [
    {
     "name": "stdout",
     "output_type": "stream",
     "text": [
      "Dictionary(8673 unique tokens: ['albert', 'clifton', 'ammons', '1907', 'december']...)\n"
     ]
    }
   ],
   "source": [
    "from gensim import corpora\n",
    "from gensim.models.ldamodel import LdaModel\n",
    "import pandas as pd\n",
    "from gensim.parsing.preprocessing import STOPWORDS\n",
    "texts = [[word for word in text.lower().split()\n",
    "    if word not in STOPWORDS and word.isalnum()]\n",
    "    for text in all_text.values()]\n",
    "dictionary = corpora.Dictionary(texts)\n",
    "print(dictionary)\n",
    "corpus = [dictionary.doc2bow(text) for text in texts]\n",
    "from gensim.similarities.docsim import Similarity\n",
    "from gensim import models, similarities\n",
    "lsi = models.LsiModel(corpus, id2word=dictionary, num_topics=2)\n",
    "\n",
    "lst = []\n",
    "for key, value in test_text.items():\n",
    "    doc = value\n",
    "    vec_bow = dictionary.doc2bow(doc.lower().split())\n",
    "    vec_lsi = lsi[vec_bow]\n",
    "    index = similarities.MatrixSimilarity(lsi[corpus])\n",
    "    sims = index[vec_lsi]\n",
    "    sims = sorted(enumerate(sims), key=lambda item: -item[1])\n",
    "    x = converter[sims[0][0]]\n",
    "    y = key\n",
    "    lst.append([y,x])"
   ]
  },
  {
   "cell_type": "code",
   "execution_count": null,
   "metadata": {
    "collapsed": true
   },
   "outputs": [],
   "source": [
    "lst = []\n",
    "for key, value in test_text.items():\n",
    "    doc = value\n",
    "    vec_bow = dictionary.doc2bow(doc.lower().split())\n",
    "    vec_lsi = lsi[vec_bow]\n",
    "    index = similarities.MatrixSimilarity(lsi[corpus])\n",
    "    sims = index[vec_lsi]\n",
    "    sims = sorted(enumerate(sims), key=lambda item: -item[1])\n",
    "    x = converter[sims[0][0]]\n",
    "    y = key\n",
    "    lst.append([y,x])"
   ]
  },
  {
   "cell_type": "code",
   "execution_count": 21,
   "metadata": {},
   "outputs": [
    {
     "data": {
      "text/plain": [
       "<gensim.models.lsimodel.LsiModel at 0x11d6de5c0>"
      ]
     },
     "execution_count": 21,
     "metadata": {},
     "output_type": "execute_result"
    }
   ],
   "source": [
    "create_model(all_text)"
   ]
  },
  {
   "cell_type": "code",
   "execution_count": 22,
   "metadata": {},
   "outputs": [
    {
     "ename": "NameError",
     "evalue": "name 'dictionary' is not defined",
     "output_type": "error",
     "traceback": [
      "\u001b[0;31m---------------------------------------------------------------------------\u001b[0m",
      "\u001b[0;31mNameError\u001b[0m                                 Traceback (most recent call last)",
      "\u001b[0;32m<ipython-input-22-e059236a9a75>\u001b[0m in \u001b[0;36m<module>\u001b[0;34m()\u001b[0m\n\u001b[1;32m      3\u001b[0m \u001b[0;32mfor\u001b[0m \u001b[0mkey\u001b[0m\u001b[0;34m,\u001b[0m \u001b[0mvalue\u001b[0m \u001b[0;32min\u001b[0m \u001b[0mtest_text\u001b[0m\u001b[0;34m.\u001b[0m\u001b[0mitems\u001b[0m\u001b[0;34m(\u001b[0m\u001b[0;34m)\u001b[0m\u001b[0;34m:\u001b[0m\u001b[0;34m\u001b[0m\u001b[0m\n\u001b[1;32m      4\u001b[0m     \u001b[0mdoc\u001b[0m \u001b[0;34m=\u001b[0m \u001b[0mvalue\u001b[0m\u001b[0;34m\u001b[0m\u001b[0m\n\u001b[0;32m----> 5\u001b[0;31m     \u001b[0mvec_bow\u001b[0m \u001b[0;34m=\u001b[0m \u001b[0mdictionary\u001b[0m\u001b[0;34m.\u001b[0m\u001b[0mdoc2bow\u001b[0m\u001b[0;34m(\u001b[0m\u001b[0mdoc\u001b[0m\u001b[0;34m.\u001b[0m\u001b[0mlower\u001b[0m\u001b[0;34m(\u001b[0m\u001b[0;34m)\u001b[0m\u001b[0;34m.\u001b[0m\u001b[0msplit\u001b[0m\u001b[0;34m(\u001b[0m\u001b[0;34m)\u001b[0m\u001b[0;34m)\u001b[0m\u001b[0;34m\u001b[0m\u001b[0m\n\u001b[0m\u001b[1;32m      6\u001b[0m     \u001b[0mvec_lsi\u001b[0m \u001b[0;34m=\u001b[0m \u001b[0mlsi\u001b[0m\u001b[0;34m[\u001b[0m\u001b[0mvec_bow\u001b[0m\u001b[0;34m]\u001b[0m\u001b[0;34m\u001b[0m\u001b[0m\n\u001b[1;32m      7\u001b[0m     \u001b[0mindex\u001b[0m \u001b[0;34m=\u001b[0m \u001b[0msimilarities\u001b[0m\u001b[0;34m.\u001b[0m\u001b[0mMatrixSimilarity\u001b[0m\u001b[0;34m(\u001b[0m\u001b[0mlsi\u001b[0m\u001b[0;34m[\u001b[0m\u001b[0mcorpus\u001b[0m\u001b[0;34m]\u001b[0m\u001b[0;34m)\u001b[0m\u001b[0;34m\u001b[0m\u001b[0m\n",
      "\u001b[0;31mNameError\u001b[0m: name 'dictionary' is not defined"
     ]
    }
   ],
   "source": [
    "import pandas as pd\n",
    "lst = []\n",
    "for key, value in test_text.items():\n",
    "    doc = value\n",
    "    vec_bow = dictionary.doc2bow(doc.lower().split())\n",
    "    vec_lsi = lsi[vec_bow]\n",
    "    index = similarities.MatrixSimilarity(lsi[corpus])\n",
    "    sims = index[vec_lsi]\n",
    "    sims = sorted(enumerate(sims), key=lambda item: -item[1])\n",
    "    x = converter[sims[0][0]]\n",
    "    y = key\n",
    "    lst.append([y,x])\n",
    "    "
   ]
  },
  {
   "cell_type": "code",
   "execution_count": null,
   "metadata": {
    "collapsed": true
   },
   "outputs": [],
   "source": [
    "answer = pd.DataFrame(lst, columns = [\"TestName\", \"SampleName\"])"
   ]
  },
  {
   "cell_type": "code",
   "execution_count": null,
   "metadata": {
    "collapsed": true
   },
   "outputs": [],
   "source": [
    "answer.to_csv(\"output.csv\", index=False)"
   ]
  },
  {
   "cell_type": "code",
   "execution_count": null,
   "metadata": {
    "collapsed": true
   },
   "outputs": [],
   "source": [
    "def run():\n",
    "    import pandas as pd\n",
    "    def get_all_text(directory):\n",
    "        import os\n",
    "        all_text = []\n",
    "        dictionary = {}\n",
    "        for file in os.listdir(directory):\n",
    "            if file[0] != \".\":\n",
    "                dictionary[file.split(\".\")[0]] = read_ps(directory + \"/\" + file)\n",
    "        return dictionary\n",
    "\n",
    "    def conversion(adict):\n",
    "        newdict = {}\n",
    "        counter = 0\n",
    "        for key in adict.keys():\n",
    "            newdict[counter] = key\n",
    "            counter += 1\n",
    "        return newdict\n",
    "    \n",
    "    all_text = get_all_text(\"samples\")\n",
    "    test_text = get_all_text(\"test\")\n",
    "    \n",
    "    def create_model(adict):\n",
    "        from gensim import corpora\n",
    "        from gensim.models.ldamodel import LdaModel\n",
    "        from gensim.parsing.preprocessing import STOPWORDS\n",
    "        texts = [[word for word in text.lower().split()\n",
    "            if word not in STOPWORDS and word.isalnum()]\n",
    "            for text in dictionary.values()]\n",
    "        dictionary = corpora.Dictionary(texts)\n",
    "        corpus = [dictionary.doc2bow(text) for text in texts]\n",
    "        from gensim.similarities.docsim import Similarity\n",
    "        from gensim import models, similarities\n",
    "        lsi = models.LsiModel(corpus, id2word=dictionary, num_topics=2)\n",
    "        return lsi\n",
    "    \n",
    "    create_model(all_text)\n",
    "    \n",
    "    lst = []\n",
    "    for key, value in test_text.items():\n",
    "        doc = value\n",
    "        vec_bow = dictionary.doc2bow(doc.lower().split())\n",
    "        vec_lsi = lsi[vec_bow]\n",
    "        index = similarities.MatrixSimilarity(lsi[corpus])\n",
    "        sims = index[vec_lsi]\n",
    "        sims = sorted(enumerate(sims), key=lambda item: -item[1])\n",
    "        x = converter[sims[0][0]]\n",
    "        y = key\n",
    "        lst.append([y,x])\n",
    "        \n",
    "    answer = pd.DataFrame(lst, columns = [\"TestName\", \"SampleName\"])\n",
    "    answer.to_csv(\"output.csv\", index=False)"
   ]
  },
  {
   "cell_type": "code",
   "execution_count": null,
   "metadata": {
    "collapsed": true
   },
   "outputs": [],
   "source": [
    "    lst = []\n",
    "    for key, value in test_text.items():\n",
    "        doc = value\n",
    "        vec_bow = dictionary.doc2bow(doc.lower().split())\n",
    "        vec_lsi = lsi[vec_bow]\n",
    "        index = similarities.MatrixSimilarity(lsi[corpus])\n",
    "        sims = index[vec_lsi]\n",
    "        sims = sorted(enumerate(sims), key=lambda item: -item[1])\n",
    "        x = converter[sims[0][0]]\n",
    "        y = key\n",
    "        lst.append([y,x])\n",
    "        \n",
    "    answer = pd.DataFrame(lst, columns = [\"TestName\", \"SampleName\"])\n",
    "    answer.to_csv(\"output.csv\", index=False)"
   ]
  },
  {
   "cell_type": "code",
   "execution_count": null,
   "metadata": {
    "collapsed": true
   },
   "outputs": [],
   "source": []
  }
 ],
 "metadata": {
  "anaconda-cloud": {},
  "kernelspec": {
   "display_name": "Python [conda env:python3]",
   "language": "python",
   "name": "conda-env-python3-py"
  },
  "language_info": {
   "codemirror_mode": {
    "name": "ipython",
    "version": 3
   },
   "file_extension": ".py",
   "mimetype": "text/x-python",
   "name": "python",
   "nbconvert_exporter": "python",
   "pygments_lexer": "ipython3",
   "version": "3.6.5"
  }
 },
 "nbformat": 4,
 "nbformat_minor": 2
}
