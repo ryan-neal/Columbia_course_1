{
 "cells": [
  {
   "cell_type": "code",
   "execution_count": 1,
   "metadata": {
    "collapsed": true
   },
   "outputs": [],
   "source": [
    "import nltk\n",
    "import os\n",
    "from nltk.corpus import PlaintextCorpusReader\n",
    "from nltk import sent_tokenize,word_tokenize \n",
    "from gensim import corpora, models, similarities\n",
    "from gensim.models.ldamodel import LdaModel\n",
    "from gensim.parsing.preprocessing import STOPWORDS\n",
    "from gensim.similarities.docsim import Similarity\n",
    "import pandas as pd\n"
   ]
  },
  {
   "cell_type": "code",
   "execution_count": 2,
   "metadata": {
    "collapsed": true
   },
   "outputs": [],
   "source": [
    "def get_musicians(file):\n",
    "    import codecs\n",
    "    from bs4 import BeautifulSoup\n",
    "    f = codecs.open(file, 'r', 'utf-8')\n",
    "    soup = BeautifulSoup(f.read(),'lxml')\n",
    "    musicians = []\n",
    "    for ul in soup.find_all('ul'):\n",
    "        for li in ul.find_all(\"li\"):\n",
    "            for a in li.find_all(\"a\"):\n",
    "                musicians.append(\"https://en.wikipedia.org\" + a.get(\"href\"))\n",
    "                break\n",
    "    zz_spot = [i[0] for i in enumerate(musicians) if \"ZZ\" in i[1]]\n",
    "    musicians = musicians[22: zz_spot[0] + 1]\n",
    "    return(musicians)"
   ]
  },
  {
   "cell_type": "code",
   "execution_count": 3,
   "metadata": {
    "collapsed": true
   },
   "outputs": [],
   "source": [
    "def get_text(file):\n",
    "    import codecs\n",
    "    from bs4 import BeautifulSoup\n",
    "    f = codecs.open(file, 'r', 'utf-8')\n",
    "    results = BeautifulSoup(f, \"lxml\")\n",
    "    all_text = \"\"\n",
    "    for tag in results.find_all('p'):\n",
    "        all_text += tag.get_text() \n",
    "    return(all_text)"
   ]
  },
  {
   "cell_type": "code",
   "execution_count": 4,
   "metadata": {
    "collapsed": true
   },
   "outputs": [],
   "source": [
    "def run():\n",
    "    import pandas as pd\n",
    "    def get_all_text(directory):\n",
    "        import os\n",
    "        all_text = []\n",
    "        dictionary = {}\n",
    "        for file in os.listdir(directory):\n",
    "            if file[0] != \".\":\n",
    "                dictionary[file.split(\".\")[0]] = get_text(directory + \"/\" + file)\n",
    "        return dictionary\n",
    "\n",
    "    def conversion(adict):\n",
    "        newdict = {}\n",
    "        counter = 0\n",
    "        for key in adict.keys():\n",
    "            newdict[counter] = key\n",
    "            counter += 1\n",
    "        return newdict\n",
    "    \n",
    "    all_text = get_all_text(\"samples\")\n",
    "    test_text = get_all_text(\"test\")\n",
    "    converter = conversion(all_text)\n",
    "    \n",
    "    from gensim import corpora\n",
    "    from gensim.models.ldamodel import LdaModel\n",
    "    from gensim.parsing.preprocessing import STOPWORDS\n",
    "    texts = [[word for word in text.lower().split()\n",
    "        if word not in STOPWORDS and word.isalnum()]\n",
    "        for text in all_text.values()]\n",
    "    dictionary = corpora.Dictionary(texts)\n",
    "    print(dictionary)\n",
    "    corpus = [dictionary.doc2bow(text) for text in texts]\n",
    "    from gensim.similarities.docsim import Similarity\n",
    "    from gensim import models, similarities\n",
    "    lsi = models.LsiModel(corpus, id2word=dictionary, num_topics=2)\n",
    "\n",
    "    lst = []\n",
    "    for key, value in test_text.items():\n",
    "        doc = value\n",
    "        vec_bow = dictionary.doc2bow(doc.lower().split())\n",
    "        vec_lsi = lsi[vec_bow]\n",
    "        index = similarities.MatrixSimilarity(lsi[corpus])\n",
    "        sims = index[vec_lsi]\n",
    "        sims = sorted(enumerate(sims), key=lambda item: -item[1])\n",
    "        x = converter[sims[0][0]]\n",
    "        y = key\n",
    "        lst.append([y,x])\n",
    "        \n",
    "    answer = pd.DataFrame(lst, columns = [\"TestName\", \"SampleName\"])\n",
    "    print(answer)\n",
    "    answer.to_csv(\"output.csv\", index=False)"
   ]
  },
  {
   "cell_type": "code",
   "execution_count": 5,
   "metadata": {},
   "outputs": [
    {
     "name": "stdout",
     "output_type": "stream",
     "text": [
      "Dictionary(8673 unique tokens: ['albert', 'clifton', 'ammons', '1907', 'december']...)\n",
      "                    TestName                           SampleName\n",
      "0           AbuTalibmusician                           FatsDomino\n",
      "1                AmosGarrett                        WayneFederman\n",
      "2                 ArnettCobb                         HersalThomas\n",
      "3       AsylumStreetSpankers                               DrJohn\n",
      "4                     BBKing                           BobBaldori\n",
      "5              BernardPurdie                          MemphisSlim\n",
      "6              BigJayMcNeely                        JimJonesRevue\n",
      "7               BigJoeDuskin                         BigJoeDuskin\n",
      "8            BigNickNicholas                    MichaelKaeshammer\n",
      "9              BillieHoliday                      BobHallmusician\n",
      "10              BilliePierce                    GeneTaylorpianist\n",
      "11             BillyEckstine                           FatsDomino\n",
      "12         BluesianaTriangle                      BoogieWoogieRed\n",
      "13                BobbyShort                          JamesBooker\n",
      "14               CabCalloway                        JohnLeeHooker\n",
      "15             CalvinNewborn                        ShizukoKasagi\n",
      "16                 CecilGant                          JamesBooker\n",
      "17      CharlesBrownmusician                          HarryGibson\n",
      "18          CharlieChristian                          LouisJordan\n",
      "19      CharlieGreenmusician                      BoogieWoogieRed\n",
      "20             CharlieParker                          HarryGibson\n",
      "21                 ChickWebb                          LouisJordan\n",
      "22                 ChrisCain                    WillieHallpianist\n",
      "23               ChuckRainey                      BobHallmusician\n",
      "24               ChuckWillis                        JimJonesRevue\n",
      "25              CrystalGayle                             PianoRed\n",
      "26              DavidTWalker                        MontanaTaylor\n",
      "27         DeeDeeBridgewater                         HersalThomas\n",
      "28           DinahWashington                         DeannaBogart\n",
      "29             DukeRobillard                         BookerTLaury\n",
      "..                       ...                                  ...\n",
      "42            JohnAltenburgh                          HarryGibson\n",
      "43                JohnnyOtis                     GeorgiaTomDorsey\n",
      "44                JohnSurman                           MitchWoods\n",
      "45              LaVerneBaker                    HenryGraymusician\n",
      "46     LonnieJohnsonmusician                             TRexband\n",
      "47               LouisJordan                          LouisJordan\n",
      "48  MattMurphybluesguitarist                           FatsDomino\n",
      "49              MelvinSparks                    HenryGraymusician\n",
      "50               MoseAllison                          JimmyYancey\n",
      "51                  OranPage                        NevilleDickie\n",
      "52                 OtisSpann                       EllaFitzgerald\n",
      "53                   PatHare                    HenryGraymusician\n",
      "54             PercyMayfield  CommanderCodyandHisLostPlanetAirmen\n",
      "55               PeteJohnson                          PeteJohnson\n",
      "56              PhilUpchurch                      BoogieWoogieRed\n",
      "57          PhineasNewbornJr                         PinetopSmith\n",
      "58                PhoebeSnow                             Liberace\n",
      "59                RamRamirez                      BoogieWoogieRed\n",
      "60                RobbenFord                       StephanieTrick\n",
      "61             RobinKenyatta                    MichaelKaeshammer\n",
      "62            RooseveltSykes                       RooseveltSykes\n",
      "63                 RoyMilton                          FloydDomino\n",
      "64                 RuthBrown                          JamesBooker\n",
      "65      SamTaylorsaxophonist                            RossPetot\n",
      "66              SlimGaillard                          LouisJordan\n",
      "67               SpeckledRed                          SpeckledRed\n",
      "68          SylviaSymssinger                       HueyPianoSmith\n",
      "69                 TalFarlow                        MontanaTaylor\n",
      "70               TBoneWalker                           BobBaldori\n",
      "71                TeddyGrace                        WayneFederman\n",
      "\n",
      "[72 rows x 2 columns]\n"
     ]
    }
   ],
   "source": [
    "run()"
   ]
  },
  {
   "cell_type": "code",
   "execution_count": null,
   "metadata": {
    "collapsed": true
   },
   "outputs": [],
   "source": []
  }
 ],
 "metadata": {
  "kernelspec": {
   "display_name": "Python [conda env:python3]",
   "language": "python",
   "name": "conda-env-python3-py"
  },
  "language_info": {
   "codemirror_mode": {
    "name": "ipython",
    "version": 3
   },
   "file_extension": ".py",
   "mimetype": "text/x-python",
   "name": "python",
   "nbconvert_exporter": "python",
   "pygments_lexer": "ipython3",
   "version": "3.6.5"
  }
 },
 "nbformat": 4,
 "nbformat_minor": 2
}
